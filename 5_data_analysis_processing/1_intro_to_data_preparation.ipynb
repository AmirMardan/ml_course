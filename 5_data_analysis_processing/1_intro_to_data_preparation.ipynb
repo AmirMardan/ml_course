{
 "cells": [
  {
   "cell_type": "markdown",
   "metadata": {},
   "source": [
    "This notebook is created by <a href='https://github.com/AmirMardan'> Amir Mardan</a>. For any feedback or suggestions, please contact me via <a href=\"mailto:mardan.amir.h@gmail.com\">email</a>, (mardan.amir.h@gmail.com).\n",
    "\n"
   ]
  },
  {
   "cell_type": "markdown",
   "metadata": {},
   "source": [
    "<a name='top'></a>\n",
    "# Data preparation\n",
    "\n",
    "Data preparation focuses on transforming the raw data into a form that can improve the modeling.\n",
    "\n",
    "> Data pre-processing techniques generally refer to the addition, deletion, or transformation of training set data.\n",
    "\n",
    "Although it highly depends on your data, the project, the algorithm you want to use, there are common tasks that you might do during the data preparation steps,\n",
    "- **Data Cleaning**: find the errors in the data and correct them\n",
    "- **Feature Selection**: Find the most important features in the dataset for your task.\n",
    "- **Data Transforms**: Tasks such as normalization or scaling for changing the distribution of data.\n",
    "- **Dimensionality Reduction**: Creating more effective projections of the data\n",
    "\n",
    "\n",
    "These four steps are discussed in the next four notebooks.\n",
    "\n"
   ]
  }
 ],
 "metadata": {
  "interpreter": {
   "hash": "ece4c4f9c4961c7468795d846fc72c6e00987d764e9134aaba41ea0514f48bf6"
  },
  "kernelspec": {
   "display_name": "Python 3 (ipykernel)",
   "language": "python",
   "name": "python3"
  },
  "language_info": {
   "codemirror_mode": {
    "name": "ipython",
    "version": 3
   },
   "file_extension": ".py",
   "mimetype": "text/x-python",
   "name": "python",
   "nbconvert_exporter": "python",
   "pygments_lexer": "ipython3",
   "version": "3.9.9"
  }
 },
 "nbformat": 4,
 "nbformat_minor": 2
}
