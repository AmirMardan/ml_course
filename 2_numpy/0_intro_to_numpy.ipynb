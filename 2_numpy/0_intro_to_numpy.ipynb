{
 "cells": [
  {
   "cell_type": "markdown",
   "metadata": {},
   "source": [
    "<center>\n",
    "<table style=\"border:none\">\n",
    "    <tr style=\"border:none\">\n",
    "    <th style=\"border:none\">\n",
    "        <a  href='https://colab.research.google.com/github/AmirMardan/ml_course/blob/main/2_numpy/0_intro_to_numpy.ipynb'><img src='https://colab.research.google.com/assets/colab-badge.svg'></a>\n",
    "    </th>\n",
    "    <th style=\"border:none\">\n",
    "        <a  href='https://github1s.com/AmirMardan/ml_course/blob/main/2_numpy/0_intro_to_numpy.ipynb'><img src='../imgs/open_vscode.svg' height=20px width=115px></a>\n",
    "    </th>\n",
    "    </tr>\n",
    "</table>\n",
    "</center>\n",
    "\n",
    "\n",
    "This notebook is created by <a href='https://github.com/AmirMardan'> Amir Mardan</a>. For any feedback or suggestion, please contact me via my <a href=\"mailto:mardan.amir.h@gmail.com\">email</a>, (mardan.amir.h@gmail.com).\n",
    "\n"
   ]
  },
  {
   "cell_type": "markdown",
   "metadata": {},
   "source": [
    "<center><img id='PYTHON' src='img/numpy.png' width='300px'></center>"
   ]
  },
  {
   "cell_type": "markdown",
   "metadata": {},
   "source": [
    "This notebook will cover the following topics:\n",
    "\n",
    "- <a href='#introduction'>Introduction </a>\n",
    "- <a href='#numpy_list'> NumPy vs list </a>\n",
    "- <a href='#creating'> 1. Creating a NumPy array </a>\n",
    "    - <a href='#creating_with_list'> Creating arrays from lists </a>\n",
    "    - <a href='#special_array'> Special arrays </a>\n",
    "- <a href='#attributes_array'> 2 Attributes of arrays </a>\n",
    "- <a href='#data_election'> 3. Data Selection </a>\n",
    "    - <a href='#indexing'> Array indexing </a>\n",
    "    - <a href='#slicing'> Array slicing </a>\n",
    "    - <a href='#view_copy'> Array view vs copy </a>\n",
    "    - <a href='#conditional'> Conditional selection </a>\n",
    "- <a href='#manipulation'> 4. Array manipulation </a>\n",
    "    - <a href='#shape'> Shape of an array </a>\n",
    "    - <a href='#joining'> Joining arrays </a>\n",
    "    - <a href='#splitting'> Splitting of arrays </a>\n",
    "- <a href='#aggregations'> 5. Aggregations </a>\n",
    "    - <a href='#summation'> Summation </a>\n",
    "    - <a href='#min_max'> Minimum and maximum </a>\n",
    "    - <a href='#var_std'> Variance and standard deviation </a>\n",
    "    - <a href='#mean_median'> Mean and median </a>\n",
    "    - <a href='#find_index'> Find index </a>"
   ]
  },
  {
   "cell_type": "markdown",
   "metadata": {},
   "source": [
    "# <span id='introduction'>Introduction </span>\n"
   ]
  },
  {
   "cell_type": "markdown",
   "metadata": {},
   "source": [
    "NumPy is a library for working large, multi-dimensional arrays and matrices.\n",
    "Created by **Travis Oliphant**, first time released in 1995 as *Numeric* and changed to *NumPy* in 2006.\n",
    "\n",
    "<center><img src='./img/travis.jpeg' alter='tavis' width=300px></center>\n",
    "\n",
    "The array object in NumPy is called `ndarray`"
   ]
  },
  {
   "cell_type": "markdown",
   "metadata": {},
   "source": [
    "# <span id='numpy_list'> NumPy vs list </span>\n"
   ]
  },
  {
   "cell_type": "markdown",
   "metadata": {},
   "source": [
    "**Advantages of using NumPy arrays over Python lists**\n",
    "\n",
    "- Numpy takes less memory\n",
    "- Numpy is faster\n",
    "- Numpy has better functionality\n",
    "\n",
    "Let's try if these statements are true. But first, we need to tell Python, that we want to use Numpy. To do so, we import this package. Generally, a Python package can be imported at the beginning of a script as\n",
    "\n",
    "```Python\n",
    " import module\n",
    "```\n",
    "To make us comfortable, Python lets us pick a nickname for a module we import using the keyword `as`,\n",
    "\n",
    "```Python\n",
    " import module as nickname\n",
    "```"
   ]
  },
  {
   "cell_type": "code",
   "execution_count": 1,
   "metadata": {},
   "outputs": [
    {
     "name": "stdout",
     "output_type": "stream",
     "text": [
      "<class 'list'> <class 'numpy.ndarray'>\n"
     ]
    }
   ],
   "source": [
    "# Import numpy \n",
    "\n",
    "import numpy as np\n",
    "\n",
    "n = 1000\n",
    "\n",
    "# Make an array of zeros\n",
    "numpy_version = np.zeros(n)\n",
    "\n",
    "list_version = list(numpy_version)\n",
    "\n",
    "print(type(list_version), type(numpy_version))"
   ]
  },
  {
   "cell_type": "markdown",
   "metadata": {},
   "source": [
    "<div class=\"alert alert-block alert-danger\">\n",
    "<b>Danger:</b> Please note that the addition of two lists causes concatenation!\n",
    "</div>"
   ]
  },
  {
   "cell_type": "code",
   "execution_count": 2,
   "metadata": {},
   "outputs": [],
   "source": [
    "# Check the efficiency\n",
    "\n",
    "def numpy_based():\n",
    "    # return [numpy_version[i] + 5 for i in range(len(numpy_version))]\n",
    "    return  numpy_version + 5\n",
    "    \n",
    "    \n",
    "def list_based():\n",
    "    # return [list_version[i] + 5 for i in range(len(list_version))]\n",
    "    return list_version + [5]\n"
   ]
  },
  {
   "cell_type": "code",
   "execution_count": 3,
   "metadata": {},
   "outputs": [
    {
     "name": "stdout",
     "output_type": "stream",
     "text": [
      "1000 1001\n"
     ]
    }
   ],
   "source": [
    "# Addition of 2 list causes concatenation!\n",
    "\n",
    "a = numpy_based()\n",
    "b = list_based()\n",
    "\n",
    "print(len(a), len(b))"
   ]
  },
  {
   "cell_type": "code",
   "execution_count": 4,
   "metadata": {},
   "outputs": [],
   "source": [
    "def numpy_based():\n",
    "    return [numpy_version[i] + 5 for i in range(len(numpy_version))]\n",
    "    # return  numpy_version + 5\n",
    "    \n",
    "    \n",
    "def list_based():\n",
    "    return [list_version[i] + 5 for i in range(len(list_version))]\n",
    "    # return list_version + [5]"
   ]
  },
  {
   "cell_type": "code",
   "execution_count": 5,
   "metadata": {},
   "outputs": [
    {
     "name": "stdout",
     "output_type": "stream",
     "text": [
      "2.7164272049994906 2.309035999000116\n"
     ]
    }
   ],
   "source": [
    "import timeit\n",
    "\n",
    "\n",
    "t_numpy = timeit.timeit(numpy_based, number=10000)\n",
    "t_list = timeit.timeit(list_based, number=10000)\n",
    "\n",
    "print(t_numpy, t_list)"
   ]
  },
  {
   "cell_type": "markdown",
   "metadata": {},
   "source": [
    "As is shown it NumPy is slower!!! No, it's not true if we know how to work with NumPy.\n",
    "\n",
    "Let's use the fact that NumPy has <a href='https://numpy.org/doc/stable/user/basics.broadcasting.html'>broadcasting</a>!"
   ]
  },
  {
   "cell_type": "code",
   "execution_count": 6,
   "metadata": {},
   "outputs": [],
   "source": [
    "def numpy_based():\n",
    "    return  numpy_version + 5\n",
    "    \n",
    "    \n",
    "def list_based():\n",
    "    return [list_version[i] + 5 for i in range(len(list_version))]\n"
   ]
  },
  {
   "cell_type": "code",
   "execution_count": 7,
   "metadata": {},
   "outputs": [
    {
     "name": "stdout",
     "output_type": "stream",
     "text": [
      "NumPy:  0.025848785000562202 \n",
      "list:  2.138067833000605\n"
     ]
    }
   ],
   "source": [
    "t_numpy = timeit.timeit(numpy_based, number=10000)\n",
    "t_list = timeit.timeit(list_based, number=10000)\n",
    "\n",
    "print(\"NumPy: \", t_numpy, \"\\nlist: \", t_list)"
   ]
  },
  {
   "cell_type": "markdown",
   "metadata": {},
   "source": [
    "# <span id='creating'>1 . Creating a NumPy array </span>\n"
   ]
  },
  {
   "cell_type": "markdown",
   "metadata": {},
   "source": [
    "`numpy.array` can be used to create a tensor\n",
    "\n",
    "<center><img src='img/Tensor_01.webp' alt='tensor' width=400px></center>"
   ]
  },
  {
   "cell_type": "markdown",
   "metadata": {},
   "source": [
    "## <span id='creating_with_list'> 1.1 Creating arrays from lists </span>\n"
   ]
  },
  {
   "cell_type": "markdown",
   "metadata": {},
   "source": [
    "We can use `np.array()` to create an array from Python lists\n",
    "\n",
    "```Python\n",
    "np.array(list_name)\n",
    "```"
   ]
  },
  {
   "cell_type": "code",
   "execution_count": 8,
   "metadata": {},
   "outputs": [
    {
     "name": "stdout",
     "output_type": "stream",
     "text": [
      "a =  2 ; shape:  0\n"
     ]
    }
   ],
   "source": [
    "# Create 0-D array\n",
    "\n",
    "a = np.array(2)\n",
    "\n",
    "print(\"a = \", a, \"; shape: \", a.ndim)\n",
    "               "
   ]
  },
  {
   "cell_type": "code",
   "execution_count": 9,
   "metadata": {},
   "outputs": [
    {
     "data": {
      "text/plain": [
       "array([1. , 4.3, 8. , 9. ])"
      ]
     },
     "execution_count": 9,
     "metadata": {},
     "output_type": "execute_result"
    }
   ],
   "source": [
    "# Create 1-D 'float' array\n",
    "\n",
    "np.array([1.0, 4.3, 8., 9])"
   ]
  },
  {
   "cell_type": "markdown",
   "metadata": {},
   "source": [
    "We can use the parameter `dtype` to specify the type of data,\n",
    "\n",
    "```Python\n",
    "np.array(list_name, dtype=desired_type)\n",
    "```"
   ]
  },
  {
   "cell_type": "code",
   "execution_count": 10,
   "metadata": {},
   "outputs": [
    {
     "data": {
      "text/plain": [
       "array([1, 4, 8, 9], dtype=int32)"
      ]
     },
     "execution_count": 10,
     "metadata": {},
     "output_type": "execute_result"
    }
   ],
   "source": [
    "# Create 1-D 'int' array\n",
    "\n",
    "np.array([1.0, 4., 8., 9], dtype=np.int32)"
   ]
  },
  {
   "cell_type": "code",
   "execution_count": 11,
   "metadata": {},
   "outputs": [
    {
     "data": {
      "text/plain": [
       "array([[1., 4., 8., 9.],\n",
       "       [2., 4., 1., 3.]], dtype=float32)"
      ]
     },
     "execution_count": 11,
     "metadata": {},
     "output_type": "execute_result"
    }
   ],
   "source": [
    "# Create 2-D array\n",
    "\n",
    "np.array([[1.0, 4., 8., 9],\n",
    "          [2, 4, 1, 3]], dtype=np.float32)"
   ]
  },
  {
   "cell_type": "markdown",
   "metadata": {},
   "source": [
    "## <span id='special_array'> 1.2 Special arrays </span>\n"
   ]
  },
  {
   "cell_type": "markdown",
   "metadata": {},
   "source": [
    "It's better to use special methods in NumPy for larger arrays. These special arrays are:\n",
    "\n",
    "- All zero array\n",
    "- All one array\n",
    "- Identity matrix\n",
    "- Empty array\n",
    "- Full array\n",
    "- Random array\n",
    "- Arrays based on a given range\n",
    "\n",
    "These arrays are usually created with the following syntax:\n",
    "\n",
    "```Python\n",
    "np.array(shape=shape_in_tuple, dtype=type_of_data)\n",
    "```\n"
   ]
  },
  {
   "cell_type": "code",
   "execution_count": 12,
   "metadata": {},
   "outputs": [
    {
     "data": {
      "text/plain": [
       "array([[0., 0.],\n",
       "       [0., 0.],\n",
       "       [0., 0.],\n",
       "       [0., 0.],\n",
       "       [0., 0.]], dtype=float32)"
      ]
     },
     "execution_count": 12,
     "metadata": {},
     "output_type": "execute_result"
    }
   ],
   "source": [
    "# Creating an array of zeros\n",
    "\n",
    "np.zeros(shape=(5, 2), dtype=np.float32)"
   ]
  },
  {
   "cell_type": "code",
   "execution_count": 13,
   "metadata": {},
   "outputs": [
    {
     "data": {
      "text/plain": [
       "array([[0., 0.],\n",
       "       [0., 0.],\n",
       "       [0., 0.],\n",
       "       [0., 0.],\n",
       "       [0., 0.]], dtype=float32)"
      ]
     },
     "execution_count": 13,
     "metadata": {},
     "output_type": "execute_result"
    }
   ],
   "source": [
    "# Creating an array of zeros using zeros_like\n",
    "\n",
    "np.zeros_like(np.ones(shape=(5, 2), dtype=np.float32))"
   ]
  },
  {
   "cell_type": "markdown",
   "metadata": {},
   "source": [
    "To make it easier, we can let NumPy decide the type of data for the rest of this notebook."
   ]
  },
  {
   "cell_type": "code",
   "execution_count": 14,
   "metadata": {},
   "outputs": [
    {
     "data": {
      "text/plain": [
       "array([[1., 1.],\n",
       "       [1., 1.],\n",
       "       [1., 1.],\n",
       "       [1., 1.],\n",
       "       [1., 1.]])"
      ]
     },
     "execution_count": 14,
     "metadata": {},
     "output_type": "execute_result"
    }
   ],
   "source": [
    "# Creating an array of ones\n",
    "\n",
    "np.ones(shape=(5, 2))"
   ]
  },
  {
   "cell_type": "code",
   "execution_count": 15,
   "metadata": {},
   "outputs": [
    {
     "data": {
      "text/plain": [
       "array([[1., 0., 0., 0.],\n",
       "       [0., 1., 0., 0.],\n",
       "       [0., 0., 1., 0.],\n",
       "       [0., 0., 0., 1.],\n",
       "       [0., 0., 0., 0.]])"
      ]
     },
     "execution_count": 15,
     "metadata": {},
     "output_type": "execute_result"
    }
   ],
   "source": [
    "# Creating an identity matrix\n",
    "# Note: np.eye doesn't get the sahpe as argument!\n",
    "\n",
    "np.eye(5, 4)"
   ]
  },
  {
   "cell_type": "code",
   "execution_count": 16,
   "metadata": {},
   "outputs": [
    {
     "data": {
      "text/plain": [
       "array([[1., 1.],\n",
       "       [1., 1.],\n",
       "       [1., 1.],\n",
       "       [1., 1.],\n",
       "       [1., 1.]])"
      ]
     },
     "execution_count": 16,
     "metadata": {},
     "output_type": "execute_result"
    }
   ],
   "source": [
    "# Creating an empty array\n",
    "\n",
    "np.empty(shape=(5, 2))"
   ]
  },
  {
   "cell_type": "code",
   "execution_count": 17,
   "metadata": {},
   "outputs": [
    {
     "data": {
      "text/plain": [
       "array([[1., 1.],\n",
       "       [1., 1.],\n",
       "       [1., 1.],\n",
       "       [1., 1.],\n",
       "       [1., 1.]])"
      ]
     },
     "execution_count": 17,
     "metadata": {},
     "output_type": "execute_result"
    }
   ],
   "source": [
    "# Creating an empty array using empty_like\n",
    "\n",
    "np.empty_like(np.zeros((5, 2)))"
   ]
  },
  {
   "cell_type": "code",
   "execution_count": 18,
   "metadata": {},
   "outputs": [
    {
     "data": {
      "text/plain": [
       "array([[ 1.10950833, -0.18875835],\n",
       "       [ 1.84775684, -1.38415394],\n",
       "       [-0.0469232 ,  0.77736926],\n",
       "       [-0.48782197, -0.0695717 ],\n",
       "       [-1.62951045, -0.94290243]])"
      ]
     },
     "execution_count": 18,
     "metadata": {},
     "output_type": "execute_result"
    }
   ],
   "source": [
    "# Creating an array of random numbers (normally distributed)\n",
    "\n",
    "np.random.normal(loc=0, scale=1, size=(5,2))"
   ]
  },
  {
   "cell_type": "code",
   "execution_count": 19,
   "metadata": {},
   "outputs": [
    {
     "data": {
      "text/plain": [
       "array([[0.7824413 , 0.63774011],\n",
       "       [0.95011946, 0.18495806],\n",
       "       [0.55353524, 0.32902158],\n",
       "       [0.4666023 , 0.97147196],\n",
       "       [0.84481943, 0.25071222]])"
      ]
     },
     "execution_count": 19,
     "metadata": {},
     "output_type": "execute_result"
    }
   ],
   "source": [
    "# Creating an array of random numbers (uniformly distributed)\n",
    "\n",
    "np.random.random((5, 2))"
   ]
  },
  {
   "cell_type": "markdown",
   "metadata": {},
   "source": [
    "<hr>\n",
    "<div>\n",
    "<span style=\"color:#151D3B; font-weight:bold\">Question: 🤔</span><p>\n",
    "Generate an array with shape of [10, 10] and values between 5 and 7\n",
    "</div>\n",
    "<hr>"
   ]
  },
  {
   "cell_type": "code",
   "execution_count": 20,
   "metadata": {},
   "outputs": [],
   "source": [
    "# Answer\n",
    "\n"
   ]
  },
  {
   "cell_type": "code",
   "execution_count": 21,
   "metadata": {},
   "outputs": [
    {
     "data": {
      "text/plain": [
       "array([[0.22350683, 0.88635252],\n",
       "       [0.4011363 , 0.80940536],\n",
       "       [0.92025272, 0.68246219],\n",
       "       [0.80570299, 0.00873666],\n",
       "       [0.94589966, 0.6470263 ]])"
      ]
     },
     "execution_count": 21,
     "metadata": {},
     "output_type": "execute_result"
    }
   ],
   "source": [
    "# Creating an array of random numbers\n",
    "\n",
    "np.random.rand(5, 2)"
   ]
  },
  {
   "cell_type": "code",
   "execution_count": 22,
   "metadata": {},
   "outputs": [
    {
     "data": {
      "text/plain": [
       "array([[2, 1],\n",
       "       [1, 3],\n",
       "       [2, 2],\n",
       "       [1, 2],\n",
       "       [4, 1]])"
      ]
     },
     "execution_count": 22,
     "metadata": {},
     "output_type": "execute_result"
    }
   ],
   "source": [
    "# Creating an array of random integer numbers\n",
    "\n",
    "np.random.randint(low=1, high=5, size=(5, 2))"
   ]
  },
  {
   "cell_type": "code",
   "execution_count": 23,
   "metadata": {},
   "outputs": [
    {
     "data": {
      "text/plain": [
       "array([1. , 1.1, 1.2, 1.3, 1.4, 1.5, 1.6, 1.7, 1.8, 1.9, 2. , 2.1, 2.2,\n",
       "       2.3, 2.4, 2.5, 2.6, 2.7, 2.8, 2.9, 3. , 3.1, 3.2, 3.3, 3.4, 3.5,\n",
       "       3.6, 3.7, 3.8, 3.9])"
      ]
     },
     "execution_count": 23,
     "metadata": {},
     "output_type": "execute_result"
    }
   ],
   "source": [
    "# Creating an array in a range\n",
    "\n",
    "np.arange(start=1, stop=4, step=0.1)"
   ]
  },
  {
   "cell_type": "code",
   "execution_count": 24,
   "metadata": {},
   "outputs": [
    {
     "data": {
      "text/plain": [
       "array([1.        , 1.33333333, 1.66666667, 2.        , 2.33333333,\n",
       "       2.66666667, 3.        , 3.33333333, 3.66666667, 4.        ])"
      ]
     },
     "execution_count": 24,
     "metadata": {},
     "output_type": "execute_result"
    }
   ],
   "source": [
    "# Creating an array in a range\n",
    "\n",
    "np.linspace(start=1, stop=4, num=10)"
   ]
  },
  {
   "cell_type": "code",
   "execution_count": 25,
   "metadata": {},
   "outputs": [
    {
     "data": {
      "text/plain": [
       "array([   10.        ,    21.5443469 ,    46.41588834,   100.        ,\n",
       "         215.443469  ,   464.15888336,  1000.        ,  2154.43469003,\n",
       "        4641.58883361, 10000.        ])"
      ]
     },
     "execution_count": 25,
     "metadata": {},
     "output_type": "execute_result"
    }
   ],
   "source": [
    "# Creating an array in a range\n",
    "\n",
    "np.logspace(start=1, stop=4, num=10)"
   ]
  },
  {
   "cell_type": "markdown",
   "metadata": {},
   "source": [
    "# <span id='attributes_array'> 2. Attributes of arrays </span>\n"
   ]
  },
  {
   "cell_type": "markdown",
   "metadata": {},
   "source": [
    "To determine some properties of the array such as shape, size, etc."
   ]
  },
  {
   "cell_type": "code",
   "execution_count": 26,
   "metadata": {},
   "outputs": [
    {
     "name": "stdout",
     "output_type": "stream",
     "text": [
      "[[ 9 10  1]\n",
      " [ 2  6  3]\n",
      " [11  4  9]\n",
      " [ 0 13  9]]\n"
     ]
    }
   ],
   "source": [
    "x = np.random.randint(14, size=(4, 3))\n",
    "\n",
    "print(x)"
   ]
  },
  {
   "cell_type": "code",
   "execution_count": 27,
   "metadata": {},
   "outputs": [
    {
     "name": "stdout",
     "output_type": "stream",
     "text": [
      "Dimension:  2\n",
      "Shape:  (4, 3)\n",
      "Size:  12\n",
      "Type:  int64\n",
      "Element size:  8 bytes\n",
      "Array size:  96 bytes\n"
     ]
    }
   ],
   "source": [
    "print(\"Dimension: \", x.ndim) \n",
    "print(\"Shape: \", x.shape) \n",
    "print(\"Size: \", x.size) \n",
    "print(\"Type: \", x.dtype)\n",
    "print(\"Element size: \", x.itemsize, 'bytes')  # Size of each element\n",
    "print(\"Array size: \", x.nbytes, 'bytes')  # Size of the array"
   ]
  },
  {
   "cell_type": "markdown",
   "metadata": {},
   "source": [
    "# <span id='data_election'> 3. Data Selection</span>\n",
    " "
   ]
  },
  {
   "cell_type": "markdown",
   "metadata": {},
   "source": [
    "***Indexing*** is used to select an individual element of an array\n",
    "\n",
    "***Slicing*** is used to select a part of an array"
   ]
  },
  {
   "cell_type": "markdown",
   "metadata": {},
   "source": [
    "## <span id='indexing'> 3.1 Array indexing</span>"
   ]
  },
  {
   "cell_type": "markdown",
   "metadata": {},
   "source": [
    "Please note that Python counts from `0`."
   ]
  },
  {
   "cell_type": "code",
   "execution_count": 28,
   "metadata": {},
   "outputs": [
    {
     "data": {
      "text/plain": [
       "array([[0.48568789],\n",
       "       [0.7592944 ],\n",
       "       [0.04604526],\n",
       "       [0.39567276],\n",
       "       [0.50078409],\n",
       "       [0.72811495]])"
      ]
     },
     "execution_count": 28,
     "metadata": {},
     "output_type": "execute_result"
    }
   ],
   "source": [
    "x_1d = np.random.random((6, 1))\n",
    "x_1d"
   ]
  },
  {
   "cell_type": "code",
   "execution_count": 29,
   "metadata": {},
   "outputs": [
    {
     "data": {
      "text/plain": [
       "array([0.48568789])"
      ]
     },
     "execution_count": 29,
     "metadata": {},
     "output_type": "execute_result"
    }
   ],
   "source": [
    "# Access to the first element\n",
    "\n",
    "x_1d[0]"
   ]
  },
  {
   "cell_type": "code",
   "execution_count": 30,
   "metadata": {},
   "outputs": [
    {
     "data": {
      "text/plain": [
       "array([0.72811495])"
      ]
     },
     "execution_count": 30,
     "metadata": {},
     "output_type": "execute_result"
    }
   ],
   "source": [
    "# Access to the last element\n",
    "\n",
    "x_1d[-1]"
   ]
  },
  {
   "cell_type": "code",
   "execution_count": 31,
   "metadata": {},
   "outputs": [
    {
     "data": {
      "text/plain": [
       "array([[0.83273126, 0.39332936, 0.34728474, 0.66084268, 0.34138511],\n",
       "       [0.00287288, 0.07943705, 0.44493572, 0.82078526, 0.5133178 ],\n",
       "       [0.9737959 , 0.3275705 , 0.86096964, 0.78429359, 0.17964624],\n",
       "       [0.51064123, 0.53977941, 0.81069538, 0.84556417, 0.14876148]])"
      ]
     },
     "execution_count": 31,
     "metadata": {},
     "output_type": "execute_result"
    }
   ],
   "source": [
    "x_2d = np.random.random((4, 5))\n",
    "x_2d"
   ]
  },
  {
   "cell_type": "code",
   "execution_count": 32,
   "metadata": {},
   "outputs": [
    {
     "data": {
      "text/plain": [
       "0.8327312636837114"
      ]
     },
     "execution_count": 32,
     "metadata": {},
     "output_type": "execute_result"
    }
   ],
   "source": [
    "x_2d[0, 0]"
   ]
  },
  {
   "cell_type": "code",
   "execution_count": 33,
   "metadata": {},
   "outputs": [
    {
     "data": {
      "text/plain": [
       "0.8327312636837114"
      ]
     },
     "execution_count": 33,
     "metadata": {},
     "output_type": "execute_result"
    }
   ],
   "source": [
    "x_2d[0][0]"
   ]
  },
  {
   "cell_type": "markdown",
   "metadata": {},
   "source": [
    "<hr>\n",
    "<div>\n",
    "<span style=\"color:#151D3B; font-weight:bold\">Question: 🤔</span><p>\n",
    "What would be the result of <code>x_2d[0, 0]</code>?\n",
    "</div>\n",
    "<hr>"
   ]
  },
  {
   "cell_type": "code",
   "execution_count": 34,
   "metadata": {},
   "outputs": [],
   "source": [
    "# Answer"
   ]
  },
  {
   "cell_type": "markdown",
   "metadata": {},
   "source": [
    "## <span id='slicing'> 3.2 Array slicing</span>"
   ]
  },
  {
   "cell_type": "markdown",
   "metadata": {},
   "source": [
    "For a 1-D slicing we use the following syntax\n",
    "\n",
    "```Python\n",
    "sliced = original[begining:end:step]\n",
    "```\n",
    "\n",
    "If `step` is not given, it will be considered as `1`.\n"
   ]
  },
  {
   "cell_type": "code",
   "execution_count": 35,
   "metadata": {},
   "outputs": [
    {
     "data": {
      "text/plain": [
       "array([[0.48568789],\n",
       "       [0.7592944 ],\n",
       "       [0.04604526],\n",
       "       [0.39567276],\n",
       "       [0.50078409],\n",
       "       [0.72811495]])"
      ]
     },
     "execution_count": 35,
     "metadata": {},
     "output_type": "execute_result"
    }
   ],
   "source": [
    "x_1d"
   ]
  },
  {
   "cell_type": "code",
   "execution_count": 36,
   "metadata": {},
   "outputs": [
    {
     "data": {
      "text/plain": [
       "array([[0.7592944 ],\n",
       "       [0.04604526],\n",
       "       [0.39567276]])"
      ]
     },
     "execution_count": 36,
     "metadata": {},
     "output_type": "execute_result"
    }
   ],
   "source": [
    "# Specify the start and end of the desired section by number\n",
    "\n",
    "x_1d[1:4]"
   ]
  },
  {
   "cell_type": "markdown",
   "metadata": {},
   "source": [
    "<div class=\"alert alert-block alert-info\">\n",
    "<b>Tip:</b> Please consider that element 1 is included but that's not the case for element 4.</div>"
   ]
  },
  {
   "cell_type": "code",
   "execution_count": 37,
   "metadata": {},
   "outputs": [
    {
     "data": {
      "text/plain": [
       "array([[0.7592944 ],\n",
       "       [0.04604526],\n",
       "       [0.39567276],\n",
       "       [0.50078409],\n",
       "       [0.72811495]])"
      ]
     },
     "execution_count": 37,
     "metadata": {},
     "output_type": "execute_result"
    }
   ],
   "source": [
    "\"\"\"\n",
    "Specify the start or the end of the desired section that corresponds to\n",
    "the start or the end of the array\n",
    "\"\"\"\n",
    "\n",
    "x_1d[1:]"
   ]
  },
  {
   "cell_type": "code",
   "execution_count": 38,
   "metadata": {},
   "outputs": [
    {
     "data": {
      "text/plain": [
       "array([[0.7592944 ],\n",
       "       [0.39567276],\n",
       "       [0.72811495]])"
      ]
     },
     "execution_count": 38,
     "metadata": {},
     "output_type": "execute_result"
    }
   ],
   "source": [
    "# Indexing with step greater than 1\n",
    "\n",
    "x_1d[1::2]"
   ]
  },
  {
   "cell_type": "code",
   "execution_count": 39,
   "metadata": {},
   "outputs": [
    {
     "data": {
      "text/plain": [
       "array([[0.72811495],\n",
       "       [0.50078409],\n",
       "       [0.39567276],\n",
       "       [0.04604526],\n",
       "       [0.7592944 ]])"
      ]
     },
     "execution_count": 39,
     "metadata": {},
     "output_type": "execute_result"
    }
   ],
   "source": [
    "# We can reverse the array by indexing\n",
    "\n",
    "x_1d[-1:0:-1]"
   ]
  },
  {
   "cell_type": "code",
   "execution_count": 40,
   "metadata": {},
   "outputs": [
    {
     "data": {
      "text/plain": [
       "array([[0.82078526, 0.5133178 ],\n",
       "       [0.78429359, 0.17964624],\n",
       "       [0.84556417, 0.14876148]])"
      ]
     },
     "execution_count": 40,
     "metadata": {},
     "output_type": "execute_result"
    }
   ],
   "source": [
    "# Slicing in 2-D\n",
    "\n",
    "x_2d[1:, 3:5]"
   ]
  },
  {
   "cell_type": "markdown",
   "metadata": {},
   "source": [
    "## <span id='view_copy'> 3.3 Array view vs copy</span>"
   ]
  },
  {
   "cell_type": "markdown",
   "metadata": {},
   "source": [
    "An extremely important thing to know is array slices return *views* of data rather than *copy*.\n",
    "This is another difference between NumPy arrays and Python lists. "
   ]
  },
  {
   "cell_type": "code",
   "execution_count": 41,
   "metadata": {},
   "outputs": [
    {
     "name": "stdout",
     "output_type": "stream",
     "text": [
      "[[0.48568789]\n",
      " [0.7592944 ]\n",
      " [0.04604526]\n",
      " [0.39567276]\n",
      " [0.50078409]\n",
      " [0.72811495]]\n",
      "======== \n",
      " [[0.97137578]\n",
      " [0.7592944 ]\n",
      " [0.04604526]\n",
      " [0.39567276]\n",
      " [0.50078409]\n",
      " [0.72811495]]\n"
     ]
    }
   ],
   "source": [
    "print(x_1d)\n",
    "\n",
    "x_1d_sliced = x_1d[0]\n",
    "\n",
    "x_1d_sliced *= 2\n",
    "\n",
    "print(\"======== \\n\", x_1d)\n"
   ]
  },
  {
   "cell_type": "markdown",
   "metadata": {},
   "source": [
    "To prevent any problems, you should use the method `copy()`"
   ]
  },
  {
   "cell_type": "code",
   "execution_count": 42,
   "metadata": {},
   "outputs": [
    {
     "name": "stdout",
     "output_type": "stream",
     "text": [
      "[[0.97137578]\n",
      " [0.7592944 ]\n",
      " [0.04604526]\n",
      " [0.39567276]\n",
      " [0.50078409]\n",
      " [0.72811495]]\n",
      "======== \n",
      " [[0.97137578]\n",
      " [0.7592944 ]\n",
      " [0.04604526]\n",
      " [0.39567276]\n",
      " [0.50078409]\n",
      " [0.72811495]]\n"
     ]
    }
   ],
   "source": [
    "print(x_1d)\n",
    "\n",
    "x_1d_sliced = x_1d[0].copy()\n",
    "\n",
    "x_1d_sliced *= 2\n",
    "\n",
    "print(\"======== \\n\", x_1d)"
   ]
  },
  {
   "cell_type": "markdown",
   "metadata": {},
   "source": [
    "## <span id='conditional'> 3.4 Conditional selection</span>"
   ]
  },
  {
   "cell_type": "markdown",
   "metadata": {},
   "source": [
    "We can use a condition to select a part of an array."
   ]
  },
  {
   "cell_type": "code",
   "execution_count": 43,
   "metadata": {},
   "outputs": [
    {
     "data": {
      "text/plain": [
       "array([[0.97137578],\n",
       "       [0.7592944 ],\n",
       "       [0.04604526],\n",
       "       [0.39567276],\n",
       "       [0.50078409],\n",
       "       [0.72811495]])"
      ]
     },
     "execution_count": 43,
     "metadata": {},
     "output_type": "execute_result"
    }
   ],
   "source": [
    "x_1d"
   ]
  },
  {
   "cell_type": "code",
   "execution_count": 44,
   "metadata": {},
   "outputs": [
    {
     "data": {
      "text/plain": [
       "array([[ True],\n",
       "       [ True],\n",
       "       [False],\n",
       "       [False],\n",
       "       [False],\n",
       "       [ True]])"
      ]
     },
     "execution_count": 44,
     "metadata": {},
     "output_type": "execute_result"
    }
   ],
   "source": [
    "# Let's create a condition\n",
    "\n",
    "cond = x_1d > 0.7\n",
    "cond"
   ]
  },
  {
   "cell_type": "code",
   "execution_count": 45,
   "metadata": {},
   "outputs": [
    {
     "data": {
      "text/plain": [
       "array([0.97137578, 0.7592944 , 0.72811495])"
      ]
     },
     "execution_count": 45,
     "metadata": {},
     "output_type": "execute_result"
    }
   ],
   "source": [
    "# Select the data based on the condition\n",
    "\n",
    "x_1d[cond]"
   ]
  },
  {
   "cell_type": "code",
   "execution_count": 46,
   "metadata": {},
   "outputs": [
    {
     "data": {
      "text/plain": [
       "array([[ 8,  3,  5,  1,  6,  1],\n",
       "       [ 4,  4,  1,  8,  9,  7],\n",
       "       [ 5,  3,  4,  4,  0,  5],\n",
       "       [ 4,  5, 10, 10,  2,  8],\n",
       "       [ 9,  8,  6,  7,  5,  3]])"
      ]
     },
     "execution_count": 46,
     "metadata": {},
     "output_type": "execute_result"
    }
   ],
   "source": [
    "# Let's create a 2-D array\n",
    "\n",
    "x_2d_int = np.random.randint(12, size=(5, 6))\n",
    "\n",
    "x_2d_int"
   ]
  },
  {
   "cell_type": "code",
   "execution_count": 47,
   "metadata": {},
   "outputs": [
    {
     "data": {
      "text/plain": [
       "array([ 8,  6,  4,  4,  8,  4,  4,  0,  4, 10, 10,  2,  8,  8,  6])"
      ]
     },
     "execution_count": 47,
     "metadata": {},
     "output_type": "execute_result"
    }
   ],
   "source": [
    "# Let's pull out the even numbers\n",
    "\n",
    "x_2d_int[x_2d_int % 2 == 0]"
   ]
  },
  {
   "cell_type": "markdown",
   "metadata": {},
   "source": [
    "<hr>\n",
    "<div>\n",
    "<span style=\"color:#151D3B; font-weight:bold\">Question: 🤔</span><p>\n",
    "Using conditional indexing, pull out numbers in <code>x_2d_int</code> that are divisible by both 2 and 7.\n",
    "</div>\n",
    "<hr>"
   ]
  },
  {
   "cell_type": "code",
   "execution_count": 48,
   "metadata": {},
   "outputs": [],
   "source": [
    "# Answer\n",
    "\n"
   ]
  },
  {
   "cell_type": "markdown",
   "metadata": {},
   "source": [
    "# <span id='manipulation'> 4. Array manipulation</span>\n"
   ]
  },
  {
   "cell_type": "markdown",
   "metadata": {},
   "source": [
    "Data manipulation is an important step in any study."
   ]
  },
  {
   "cell_type": "markdown",
   "metadata": {},
   "source": [
    "## <span id='shape'> 4.1 Shape of an array</span>\n"
   ]
  },
  {
   "cell_type": "code",
   "execution_count": 49,
   "metadata": {},
   "outputs": [],
   "source": [
    "# Let's create some arrays\n",
    "\n",
    "arr_1d = np.arange(10)\n",
    "arr_2d = 5 * np.random.random((4, 5))\n"
   ]
  },
  {
   "cell_type": "code",
   "execution_count": 50,
   "metadata": {},
   "outputs": [
    {
     "data": {
      "text/plain": [
       "array([0, 1, 2, 3, 4, 5, 6, 7, 8, 9])"
      ]
     },
     "execution_count": 50,
     "metadata": {},
     "output_type": "execute_result"
    }
   ],
   "source": [
    "arr_1d"
   ]
  },
  {
   "cell_type": "code",
   "execution_count": 51,
   "metadata": {},
   "outputs": [
    {
     "data": {
      "text/plain": [
       "array([[1.38542513e+00, 1.51614518e+00, 4.79886762e+00, 1.17417577e+00,\n",
       "        2.64664662e+00],\n",
       "       [2.50197334e+00, 1.56799664e+00, 1.97896550e+00, 2.80830784e+00,\n",
       "        3.22131771e+00],\n",
       "       [3.39466041e+00, 2.67900878e+00, 3.49448888e+00, 3.08106142e+00,\n",
       "        5.27794479e-02],\n",
       "       [3.41745265e+00, 3.79390415e+00, 8.29475307e-04, 3.47004919e+00,\n",
       "        2.15404469e+00]])"
      ]
     },
     "execution_count": 51,
     "metadata": {},
     "output_type": "execute_result"
    }
   ],
   "source": [
    "arr_2d"
   ]
  },
  {
   "cell_type": "code",
   "execution_count": 52,
   "metadata": {},
   "outputs": [
    {
     "name": "stdout",
     "output_type": "stream",
     "text": [
      "(10,) (10,)\n"
     ]
    }
   ],
   "source": [
    "# Shape of an array can be obtained in 2 ways\n",
    "\n",
    "print(arr_1d.shape, np.shape(arr_1d))"
   ]
  },
  {
   "cell_type": "code",
   "execution_count": 53,
   "metadata": {},
   "outputs": [
    {
     "data": {
      "text/plain": [
       "(4, 5)"
      ]
     },
     "execution_count": 53,
     "metadata": {},
     "output_type": "execute_result"
    }
   ],
   "source": [
    "arr_2d.shape"
   ]
  },
  {
   "cell_type": "markdown",
   "metadata": {},
   "source": [
    "We can easily reshape a NumPy array\n",
    "\n",
    "\n",
    "```Python\n",
    "\n",
    "array.reshape(rows, columns)\n",
    "\n",
    "np.reshape(array, newshape=(rows, columns))\n",
    "\n",
    "```"
   ]
  },
  {
   "cell_type": "code",
   "execution_count": 54,
   "metadata": {},
   "outputs": [
    {
     "data": {
      "text/plain": [
       "array([[1.38542513e+00, 1.51614518e+00, 4.79886762e+00, 1.17417577e+00],\n",
       "       [2.64664662e+00, 2.50197334e+00, 1.56799664e+00, 1.97896550e+00],\n",
       "       [2.80830784e+00, 3.22131771e+00, 3.39466041e+00, 2.67900878e+00],\n",
       "       [3.49448888e+00, 3.08106142e+00, 5.27794479e-02, 3.41745265e+00],\n",
       "       [3.79390415e+00, 8.29475307e-04, 3.47004919e+00, 2.15404469e+00]])"
      ]
     },
     "execution_count": 54,
     "metadata": {},
     "output_type": "execute_result"
    }
   ],
   "source": [
    "arr_2d.reshape(5, 4)"
   ]
  },
  {
   "cell_type": "code",
   "execution_count": 55,
   "metadata": {},
   "outputs": [
    {
     "data": {
      "text/plain": [
       "array([[1.38542513e+00, 1.51614518e+00, 4.79886762e+00, 1.17417577e+00],\n",
       "       [2.64664662e+00, 2.50197334e+00, 1.56799664e+00, 1.97896550e+00],\n",
       "       [2.80830784e+00, 3.22131771e+00, 3.39466041e+00, 2.67900878e+00],\n",
       "       [3.49448888e+00, 3.08106142e+00, 5.27794479e-02, 3.41745265e+00],\n",
       "       [3.79390415e+00, 8.29475307e-04, 3.47004919e+00, 2.15404469e+00]])"
      ]
     },
     "execution_count": 55,
     "metadata": {},
     "output_type": "execute_result"
    }
   ],
   "source": [
    "np.reshape(arr_2d, newshape=(5, 4))"
   ]
  },
  {
   "cell_type": "code",
   "execution_count": 56,
   "metadata": {},
   "outputs": [
    {
     "data": {
      "text/plain": [
       "array([1.38542513e+00, 1.51614518e+00, 4.79886762e+00, 1.17417577e+00,\n",
       "       2.64664662e+00, 2.50197334e+00, 1.56799664e+00, 1.97896550e+00,\n",
       "       2.80830784e+00, 3.22131771e+00, 3.39466041e+00, 2.67900878e+00,\n",
       "       3.49448888e+00, 3.08106142e+00, 5.27794479e-02, 3.41745265e+00,\n",
       "       3.79390415e+00, 8.29475307e-04, 3.47004919e+00, 2.15404469e+00])"
      ]
     },
     "execution_count": 56,
     "metadata": {},
     "output_type": "execute_result"
    }
   ],
   "source": [
    "# We can flatten an array using attribute flatten\n",
    "\n",
    "arr_2d.flatten()\n"
   ]
  },
  {
   "cell_type": "markdown",
   "metadata": {},
   "source": [
    "<div class=\"alert alert-block alert-info\">\n",
    "<b>Tip:</b> Reshape doesn't act in place while resize returns <code>None</code> and acts in place.</div>\n"
   ]
  },
  {
   "cell_type": "code",
   "execution_count": 57,
   "metadata": {},
   "outputs": [
    {
     "name": "stdout",
     "output_type": "stream",
     "text": [
      "Original shape:  (4, 5)\n",
      "Shape after using reshape:  (4, 5)\n",
      "Shape after using resize:  (5, 4)\n"
     ]
    }
   ],
   "source": [
    "print(\"Original shape: \", arr_2d.shape)\n",
    "\n",
    "arr_2d.reshape(5, 4)\n",
    "\n",
    "print(\"Shape after using reshape: \", arr_2d.shape)\n",
    "\n",
    "a = arr_2d.resize(5, 4)\n",
    "\n",
    "print(\"Shape after using resize: \", arr_2d.shape)\n"
   ]
  },
  {
   "cell_type": "markdown",
   "metadata": {},
   "source": [
    "<span style='color:red; font-weight:bold;'>Note:</span> <code>np.resize()</code> acts like <code>np.reshape()</code>."
   ]
  },
  {
   "cell_type": "code",
   "execution_count": 58,
   "metadata": {},
   "outputs": [
    {
     "name": "stdout",
     "output_type": "stream",
     "text": [
      "Original shape:  (5, 4)\n",
      "Shape after using reshape:  (5, 4)\n",
      "Shape after using resize:  (5, 4)\n"
     ]
    }
   ],
   "source": [
    "print(\"Original shape: \", arr_2d.shape)\n",
    "\n",
    "np.reshape(arr_2d, (5, 4))\n",
    "\n",
    "print(\"Shape after using reshape: \", arr_2d.shape)\n",
    "\n",
    "np.resize(arr_2d, (5, 4))\n",
    "\n",
    "print(\"Shape after using resize: \", arr_2d.shape)"
   ]
  },
  {
   "cell_type": "markdown",
   "metadata": {},
   "source": [
    "## <span id='joining'> 4.2 Joining arrays </span>\n"
   ]
  },
  {
   "cell_type": "code",
   "execution_count": 59,
   "metadata": {},
   "outputs": [],
   "source": [
    "arr1 = np.array([[1, 2, 0, 1]])\n",
    "\n",
    "arr2 = 6 * np.random.random((4, 4))"
   ]
  },
  {
   "cell_type": "code",
   "execution_count": 60,
   "metadata": {},
   "outputs": [
    {
     "name": "stdout",
     "output_type": "stream",
     "text": [
      "arr1:  (1, 4)\n",
      "arr2:  (4, 4)\n"
     ]
    }
   ],
   "source": [
    "# Check the shape\n",
    "print('arr1: ', arr1.shape)\n",
    "print('arr2: ', arr2.shape)"
   ]
  },
  {
   "cell_type": "code",
   "execution_count": 61,
   "metadata": {},
   "outputs": [
    {
     "data": {
      "text/plain": [
       "array([[1.43797918, 3.08370409, 1.37835918, 5.9672563 ],\n",
       "       [5.46657132, 3.69804072, 3.56136423, 1.10292751],\n",
       "       [2.22284924, 3.75818784, 1.95416011, 1.98513088],\n",
       "       [2.64774917, 3.40969939, 4.79804767, 2.91778584],\n",
       "       [1.        , 2.        , 0.        , 1.        ]])"
      ]
     },
     "execution_count": 61,
     "metadata": {},
     "output_type": "execute_result"
    }
   ],
   "source": [
    "# Joining arrays by row\n",
    "\n",
    "np.concatenate((arr2, arr1), axis=0)"
   ]
  },
  {
   "cell_type": "markdown",
   "metadata": {},
   "source": [
    "For using `axis = 0`, we should have the same number of columns and for `axis = 1`, we should have the same number of rows."
   ]
  },
  {
   "cell_type": "code",
   "execution_count": 62,
   "metadata": {},
   "outputs": [
    {
     "data": {
      "text/plain": [
       "array([[1.43797918, 3.08370409, 1.37835918, 5.9672563 , 1.        ],\n",
       "       [5.46657132, 3.69804072, 3.56136423, 1.10292751, 2.        ],\n",
       "       [2.22284924, 3.75818784, 1.95416011, 1.98513088, 0.        ],\n",
       "       [2.64774917, 3.40969939, 4.79804767, 2.91778584, 1.        ]])"
      ]
     },
     "execution_count": 62,
     "metadata": {},
     "output_type": "execute_result"
    }
   ],
   "source": [
    "# Joining arrays by column\n",
    "# .T takes the transpose as well as np.transpose()\n",
    "np.concatenate((arr2, arr1.T), axis=1)"
   ]
  },
  {
   "cell_type": "code",
   "execution_count": 63,
   "metadata": {},
   "outputs": [
    {
     "data": {
      "text/plain": [
       "array([[1.43797918, 3.08370409, 1.37835918, 5.9672563 ],\n",
       "       [5.46657132, 3.69804072, 3.56136423, 1.10292751],\n",
       "       [2.22284924, 3.75818784, 1.95416011, 1.98513088],\n",
       "       [2.64774917, 3.40969939, 4.79804767, 2.91778584],\n",
       "       [1.        , 2.        , 0.        , 1.        ]])"
      ]
     },
     "execution_count": 63,
     "metadata": {},
     "output_type": "execute_result"
    }
   ],
   "source": [
    "# Joining by vstack which acts as using axis = 0\n",
    "\n",
    "np.vstack((arr2, arr1))"
   ]
  },
  {
   "cell_type": "code",
   "execution_count": 64,
   "metadata": {},
   "outputs": [
    {
     "data": {
      "text/plain": [
       "array([[1.43797918, 3.08370409, 1.37835918, 5.9672563 , 1.        ],\n",
       "       [5.46657132, 3.69804072, 3.56136423, 1.10292751, 2.        ],\n",
       "       [2.22284924, 3.75818784, 1.95416011, 1.98513088, 0.        ],\n",
       "       [2.64774917, 3.40969939, 4.79804767, 2.91778584, 1.        ]])"
      ]
     },
     "execution_count": 64,
     "metadata": {},
     "output_type": "execute_result"
    }
   ],
   "source": [
    "# Joining by hstack which acts as using axis = 1\n",
    "\n",
    "np.hstack((arr2, arr1.T))"
   ]
  },
  {
   "cell_type": "code",
   "execution_count": 65,
   "metadata": {},
   "outputs": [
    {
     "data": {
      "text/plain": [
       "array([[1.43797918, 3.08370409, 1.37835918, 5.9672563 , 1.        ],\n",
       "       [5.46657132, 3.69804072, 3.56136423, 1.10292751, 2.        ],\n",
       "       [2.22284924, 3.75818784, 1.95416011, 1.98513088, 0.        ],\n",
       "       [2.64774917, 3.40969939, 4.79804767, 2.91778584, 1.        ]])"
      ]
     },
     "execution_count": 65,
     "metadata": {},
     "output_type": "execute_result"
    }
   ],
   "source": [
    "# Joining by column_stack / row_stack which acts as using axis = 1 / 0. \n",
    "\n",
    "np.column_stack((arr2, arr1.T))"
   ]
  },
  {
   "cell_type": "markdown",
   "metadata": {},
   "source": [
    "## <span id='splitting'> 4.3 Splitting of arrays </span>\n"
   ]
  },
  {
   "cell_type": "markdown",
   "metadata": {},
   "source": [
    "The opposite of concatenation is splitting.\n",
    " \n",
    "`np.split`, `np.hsplit`, `np.vsplit`"
   ]
  },
  {
   "cell_type": "code",
   "execution_count": 66,
   "metadata": {},
   "outputs": [
    {
     "data": {
      "text/plain": [
       "array([[1.43797918, 3.08370409, 1.37835918, 5.9672563 ],\n",
       "       [5.46657132, 3.69804072, 3.56136423, 1.10292751],\n",
       "       [2.22284924, 3.75818784, 1.95416011, 1.98513088],\n",
       "       [2.64774917, 3.40969939, 4.79804767, 2.91778584]])"
      ]
     },
     "execution_count": 66,
     "metadata": {},
     "output_type": "execute_result"
    }
   ],
   "source": [
    "arr2"
   ]
  },
  {
   "cell_type": "code",
   "execution_count": 67,
   "metadata": {},
   "outputs": [
    {
     "data": {
      "text/plain": [
       "[array([[1.43797918, 3.08370409, 1.37835918, 5.9672563 ],\n",
       "        [5.46657132, 3.69804072, 3.56136423, 1.10292751]]),\n",
       " array([[2.22284924, 3.75818784, 1.95416011, 1.98513088],\n",
       "        [2.64774917, 3.40969939, 4.79804767, 2.91778584]])]"
      ]
     },
     "execution_count": 67,
     "metadata": {},
     "output_type": "execute_result"
    }
   ],
   "source": [
    "# Splitting with axis = 0\n",
    "\n",
    "np.split(arr2, 2)"
   ]
  },
  {
   "cell_type": "code",
   "execution_count": 68,
   "metadata": {},
   "outputs": [
    {
     "data": {
      "text/plain": [
       "[array([[1.43797918, 3.08370409],\n",
       "        [5.46657132, 3.69804072],\n",
       "        [2.22284924, 3.75818784],\n",
       "        [2.64774917, 3.40969939]]),\n",
       " array([[1.37835918, 5.9672563 ],\n",
       "        [3.56136423, 1.10292751],\n",
       "        [1.95416011, 1.98513088],\n",
       "        [4.79804767, 2.91778584]])]"
      ]
     },
     "execution_count": 68,
     "metadata": {},
     "output_type": "execute_result"
    }
   ],
   "source": [
    "# Splitting with axis = 1\n",
    "\n",
    "np.array_split(arr2, 2, axis=1)"
   ]
  },
  {
   "cell_type": "code",
   "execution_count": 69,
   "metadata": {},
   "outputs": [
    {
     "data": {
      "text/plain": [
       "[array([[1.43797918, 3.08370409],\n",
       "        [5.46657132, 3.69804072],\n",
       "        [2.22284924, 3.75818784],\n",
       "        [2.64774917, 3.40969939]]),\n",
       " array([[1.37835918, 5.9672563 ],\n",
       "        [3.56136423, 1.10292751],\n",
       "        [1.95416011, 1.98513088],\n",
       "        [4.79804767, 2.91778584]])]"
      ]
     },
     "execution_count": 69,
     "metadata": {},
     "output_type": "execute_result"
    }
   ],
   "source": [
    "# Using hsplit / vsplit\n",
    "\n",
    "np.hsplit(arr2, 2)"
   ]
  },
  {
   "cell_type": "markdown",
   "metadata": {},
   "source": [
    "# <span id='computation'> 5. Computation on NumPy arrays </span>\n"
   ]
  },
  {
   "cell_type": "markdown",
   "metadata": {},
   "source": [
    "Computation on NumPy arrays can be very fast if we use *vectorized* operators through *universal functions*, **ufuncs**."
   ]
  },
  {
   "cell_type": "code",
   "execution_count": 70,
   "metadata": {},
   "outputs": [],
   "source": [
    "# Creating two arrays\n",
    "\n",
    "arr1d_1 = np.arange(7)\n",
    "arr1d_2 = np.linspace(9, 12, len(arr1d_1))\n",
    "\n",
    "\n",
    "arr2d_1 = np.random.random((4, 5))\n",
    "arr2d_2 = 4 + 6 * np.random.random((4, 5))"
   ]
  },
  {
   "cell_type": "code",
   "execution_count": 71,
   "metadata": {},
   "outputs": [
    {
     "data": {
      "text/plain": [
       "array([[7.75930913, 8.49997751, 7.52773965, 4.62392662, 4.82325292],\n",
       "       [9.81257135, 6.28234518, 6.91979991, 8.36409127, 8.7820045 ],\n",
       "       [8.3915722 , 6.44856878, 5.96401878, 8.2165082 , 8.48119528],\n",
       "       [9.99641515, 8.67713518, 7.29307198, 5.54470499, 7.97909863]])"
      ]
     },
     "execution_count": 71,
     "metadata": {},
     "output_type": "execute_result"
    }
   ],
   "source": [
    "# Addition of two arrays (equivalent of arr1d_1 + arr1d_2)\n",
    "\n",
    "np.add(arr2d_1, arr2d_2)"
   ]
  },
  {
   "cell_type": "code",
   "execution_count": 72,
   "metadata": {},
   "outputs": [
    {
     "data": {
      "text/plain": [
       "array([[-6.38435305, -8.41131312, -6.94033846, -4.07561066, -4.1624837 ],\n",
       "       [-9.28634503, -4.57730311, -5.0473921 , -7.80028588, -7.68742435],\n",
       "       [-7.97276731, -4.5835921 , -4.21999282, -8.0468603 , -6.83247076],\n",
       "       [-8.13669295, -7.05139444, -5.70389709, -4.50677851, -7.54836934]])"
      ]
     },
     "execution_count": 72,
     "metadata": {},
     "output_type": "execute_result"
    }
   ],
   "source": [
    "# Subtraction of two arrays (equivalent of arr1d_1 - arr1d_2)\n",
    "\n",
    "np.subtract(arr2d_1, arr2d_2)"
   ]
  },
  {
   "cell_type": "code",
   "execution_count": 73,
   "metadata": {},
   "outputs": [
    {
     "data": {
      "text/plain": [
       "array([[4.86172855, 0.37485733, 2.12464157, 1.19252379, 1.48437455],\n",
       "       [2.51258808, 4.6290393 , 5.60186594, 2.27839076, 4.50677747],\n",
       "       [1.71336635, 5.14368068, 4.44029514, 0.68976156, 6.31200415],\n",
       "       [8.43063594, 6.39262783, 5.16361423, 2.60817522, 1.67203382]])"
      ]
     },
     "execution_count": 73,
     "metadata": {},
     "output_type": "execute_result"
    }
   ],
   "source": [
    "# Multiplication of two arrays (equivalent of arr1d_1 * arr1d_2)\n",
    "\n",
    "np.multiply(arr2d_1, arr2d_2)"
   ]
  },
  {
   "cell_type": "code",
   "execution_count": 74,
   "metadata": {},
   "outputs": [
    {
     "data": {
      "text/plain": [
       "array([[0.09721358, 0.00524291, 0.04059981, 0.06302818, 0.07353534],\n",
       "       [0.02755268, 0.15700712, 0.15646175, 0.0348795 , 0.06646133],\n",
       "       [0.02559253, 0.16904908, 0.17125137, 0.01043129, 0.10766361],\n",
       "       [0.10255948, 0.10336254, 0.12227273, 0.10326102, 0.02773983]])"
      ]
     },
     "execution_count": 74,
     "metadata": {},
     "output_type": "execute_result"
    }
   ],
   "source": [
    "# Division of two arrays (equivalent of arr1d_1 + arr1d_2)\n",
    "\n",
    "np.divide(arr2d_1, arr2d_2)"
   ]
  },
  {
   "cell_type": "code",
   "execution_count": 75,
   "metadata": {},
   "outputs": [
    {
     "data": {
      "text/plain": [
       "array([[-0.16274117, -1.35328075, -0.53209517, -0.5619991 , -0.48098019],\n",
       "       [-0.57985744, -0.0692949 , -0.02862955, -0.54990077, -0.26178243],\n",
       "       [-0.67901825, -0.03035659, -0.05947705, -1.07148152, -0.0838819 ],\n",
       "       [-0.03158192, -0.08997871, -0.0998583 , -0.2848634 , -0.66682559]])"
      ]
     },
     "execution_count": 75,
     "metadata": {},
     "output_type": "execute_result"
    }
   ],
   "source": [
    "# Logarithm of an array\n",
    "\n",
    "np.log10(arr2d_1)"
   ]
  },
  {
   "cell_type": "code",
   "execution_count": 76,
   "metadata": {},
   "outputs": [
    {
     "data": {
      "text/plain": [
       "array([[1.98869379, 1.04532955, 1.34138223, 1.3154226 , 1.39150321],\n",
       "       [1.30097392, 2.34555262, 2.55028191, 1.32564973, 1.72856239],\n",
       "       [1.23294109, 2.54082374, 2.39172049, 1.08852541, 2.28042598],\n",
       "       [2.53415716, 2.25436958, 2.21352761, 1.68028469, 1.24031409]])"
      ]
     },
     "execution_count": 76,
     "metadata": {},
     "output_type": "execute_result"
    }
   ],
   "source": [
    "# Exponent of an array\n",
    "\n",
    "np.exp(arr2d_1)"
   ]
  },
  {
   "cell_type": "code",
   "execution_count": 77,
   "metadata": {},
   "outputs": [
    {
     "data": {
      "text/plain": [
       "array([[0.63459011, 0.04431768, 0.28949633, 0.27073646, 0.32440686],\n",
       "       [0.26008782, 0.75294186, 0.8053134 , 0.27818375, 0.52037503],\n",
       "       [0.20787544, 0.80310507, 0.76562541, 0.08472226, 0.73411489],\n",
       "       [0.8015369 , 0.7262633 , 0.71357464, 0.49598015, 0.21370366]])"
      ]
     },
     "execution_count": 77,
     "metadata": {},
     "output_type": "execute_result"
    }
   ],
   "source": [
    "# Sin of an array\n",
    "\n",
    "np.sin(arr2d_1)"
   ]
  },
  {
   "cell_type": "code",
   "execution_count": 78,
   "metadata": {},
   "outputs": [
    {
     "data": {
      "text/plain": [
       "array([[False, False, False, False, False],\n",
       "       [False, False, False, False, False],\n",
       "       [False, False, False, False, False],\n",
       "       [False, False, False, False, False]])"
      ]
     },
     "execution_count": 78,
     "metadata": {},
     "output_type": "execute_result"
    }
   ],
   "source": [
    "# Comparison for greate, equivalent arr2d_1 > arr2d_2\n",
    "\n",
    "np.greater(arr2d_1, arr2d_2)"
   ]
  },
  {
   "cell_type": "code",
   "execution_count": 79,
   "metadata": {},
   "outputs": [
    {
     "data": {
      "text/plain": [
       "array([[ True,  True,  True,  True,  True],\n",
       "       [ True,  True,  True,  True,  True],\n",
       "       [ True,  True,  True,  True,  True],\n",
       "       [ True,  True,  True,  True,  True]])"
      ]
     },
     "execution_count": 79,
     "metadata": {},
     "output_type": "execute_result"
    }
   ],
   "source": [
    "# Comparison for greate, equivalent arr2d_1 < arr2d_2\n",
    "\n",
    "np.less(arr2d_1, arr2d_2)"
   ]
  },
  {
   "cell_type": "code",
   "execution_count": 80,
   "metadata": {},
   "outputs": [
    {
     "data": {
      "text/plain": [
       "array([2. , 1. , 9. , 1.2])"
      ]
     },
     "execution_count": 80,
     "metadata": {},
     "output_type": "execute_result"
    }
   ],
   "source": [
    "# FInding the absolute of an array, equivalent of np.absolute\n",
    "\n",
    "np.abs([2, -1, 9, -1.2])"
   ]
  },
  {
   "cell_type": "markdown",
   "metadata": {},
   "source": [
    "# <span id='aggregations'> 5. Aggregations </span>\n"
   ]
  },
  {
   "cell_type": "markdown",
   "metadata": {},
   "source": [
    "Before doing any operation, it's good to have a summary statistics of the data."
   ]
  },
  {
   "cell_type": "markdown",
   "metadata": {},
   "source": [
    "## <span id='summation'> 5.1 Summation </span>\n"
   ]
  },
  {
   "cell_type": "code",
   "execution_count": 81,
   "metadata": {},
   "outputs": [],
   "source": [
    "# Let's create an array\n",
    "\n",
    "arr1 = np.random.random((100, 100))\n"
   ]
  },
  {
   "cell_type": "code",
   "execution_count": 82,
   "metadata": {},
   "outputs": [
    {
     "data": {
      "text/plain": [
       "4998.274156770811"
      ]
     },
     "execution_count": 82,
     "metadata": {},
     "output_type": "execute_result"
    }
   ],
   "source": [
    "# Sum of values in an array\n",
    "\n",
    "np.sum(arr1)"
   ]
  },
  {
   "cell_type": "code",
   "execution_count": 83,
   "metadata": {},
   "outputs": [
    {
     "name": "stdout",
     "output_type": "stream",
     "text": [
      "6.38 ms ± 59 µs per loop (mean ± std. dev. of 7 runs, 100 loops each)\n",
      "34.6 µs ± 323 ns per loop (mean ± std. dev. of 7 runs, 10,000 loops each)\n"
     ]
    }
   ],
   "source": [
    "# Comparing with Python built-in function\n",
    "\n",
    "big_array = np.random.random(100000)\n",
    "\n",
    "%timeit sum(big_array)\n",
    "%timeit np.sum(big_array)"
   ]
  },
  {
   "cell_type": "markdown",
   "metadata": {},
   "source": [
    "## <span id='min_max'> 5.2 Minimum and maximum </span>\n"
   ]
  },
  {
   "cell_type": "code",
   "execution_count": 84,
   "metadata": {},
   "outputs": [],
   "source": [
    "# Let's create an array\n",
    "\n",
    "arr1 = np.random.random((6, 5))"
   ]
  },
  {
   "cell_type": "code",
   "execution_count": 85,
   "metadata": {},
   "outputs": [
    {
     "data": {
      "text/plain": [
       "array([0.76284775, 0.88241264, 0.41080389, 0.99720243, 0.9340556 ])"
      ]
     },
     "execution_count": 85,
     "metadata": {},
     "output_type": "execute_result"
    }
   ],
   "source": [
    "# Finding max along columns\n",
    "\n",
    "arr1.max(axis=0)"
   ]
  },
  {
   "cell_type": "code",
   "execution_count": 86,
   "metadata": {},
   "outputs": [
    {
     "data": {
      "text/plain": [
       "array([0.88241264, 0.84031317, 0.87339475, 0.99720243, 0.9340556 ,\n",
       "       0.48860081])"
      ]
     },
     "execution_count": 86,
     "metadata": {},
     "output_type": "execute_result"
    }
   ],
   "source": [
    "# Finding max along rows\n",
    "arr1.max(axis=1)"
   ]
  },
  {
   "cell_type": "code",
   "execution_count": 87,
   "metadata": {},
   "outputs": [
    {
     "data": {
      "text/plain": [
       "array([0.22657389, 0.3251742 , 0.02838964, 0.14588928, 0.14716531])"
      ]
     },
     "execution_count": 87,
     "metadata": {},
     "output_type": "execute_result"
    }
   ],
   "source": [
    "# Finding min\n",
    "arr1.min(axis=0)"
   ]
  },
  {
   "cell_type": "code",
   "execution_count": 88,
   "metadata": {},
   "outputs": [
    {
     "data": {
      "text/plain": [
       "array([0.88241264, 0.84031317, 0.87339475, 0.99720243, 0.9340556 ,\n",
       "       0.48860081])"
      ]
     },
     "execution_count": 88,
     "metadata": {},
     "output_type": "execute_result"
    }
   ],
   "source": [
    "# We can use np.max / np.min as well.\n",
    "np.max(arr1, axis=1)"
   ]
  },
  {
   "cell_type": "markdown",
   "metadata": {},
   "source": [
    "## <span id='var_std'> 5.3 Variance and standard deviation </span>\n"
   ]
  },
  {
   "cell_type": "code",
   "execution_count": 89,
   "metadata": {},
   "outputs": [],
   "source": [
    "# Let's create an array\n",
    "\n",
    "arr1 = np.random.random((6, 5))"
   ]
  },
  {
   "cell_type": "code",
   "execution_count": 90,
   "metadata": {},
   "outputs": [
    {
     "data": {
      "text/plain": [
       "0.26670309703717116"
      ]
     },
     "execution_count": 90,
     "metadata": {},
     "output_type": "execute_result"
    }
   ],
   "source": [
    "# calculating the standard deviation of the array\n",
    "\n",
    "np.std(arr1)"
   ]
  },
  {
   "cell_type": "code",
   "execution_count": 91,
   "metadata": {},
   "outputs": [
    {
     "data": {
      "text/plain": [
       "0.26670309703717116"
      ]
     },
     "execution_count": 91,
     "metadata": {},
     "output_type": "execute_result"
    }
   ],
   "source": [
    "arr1.std()"
   ]
  },
  {
   "cell_type": "code",
   "execution_count": 92,
   "metadata": {},
   "outputs": [
    {
     "data": {
      "text/plain": [
       "True"
      ]
     },
     "execution_count": 92,
     "metadata": {},
     "output_type": "execute_result"
    }
   ],
   "source": [
    "# Let's check if std is variance^0.5\n",
    "\n",
    "arr1.std() == np.sqrt(arr1.var())"
   ]
  },
  {
   "cell_type": "code",
   "execution_count": 93,
   "metadata": {},
   "outputs": [
    {
     "data": {
      "text/plain": [
       "array([0.19723902, 0.29890297, 0.10744831, 0.23908449, 0.26260969,\n",
       "       0.23893918])"
      ]
     },
     "execution_count": 93,
     "metadata": {},
     "output_type": "execute_result"
    }
   ],
   "source": [
    "# std along rows\n",
    "\n",
    "arr1.std(axis=1)"
   ]
  },
  {
   "cell_type": "code",
   "execution_count": 94,
   "metadata": {},
   "outputs": [
    {
     "data": {
      "text/plain": [
       "array([0.03991367, 0.07439458, 0.06169437, 0.04754803, 0.03695642])"
      ]
     },
     "execution_count": 94,
     "metadata": {},
     "output_type": "execute_result"
    }
   ],
   "source": [
    "# variance along columns\n",
    "\n",
    "arr1.var(axis=0)"
   ]
  },
  {
   "cell_type": "markdown",
   "metadata": {},
   "source": [
    "## <span id='mean_median'> 5.4 Mean and median </span>\n"
   ]
  },
  {
   "cell_type": "code",
   "execution_count": 95,
   "metadata": {},
   "outputs": [],
   "source": [
    "# Let's create an array\n",
    "\n",
    "arr1 = np.random.random((6, 5))"
   ]
  },
  {
   "cell_type": "code",
   "execution_count": 96,
   "metadata": {},
   "outputs": [
    {
     "data": {
      "text/plain": [
       "0.43161506591530596"
      ]
     },
     "execution_count": 96,
     "metadata": {},
     "output_type": "execute_result"
    }
   ],
   "source": [
    "# Calculate the mean of the whole array\n",
    "\n",
    "arr1.mean()"
   ]
  },
  {
   "cell_type": "code",
   "execution_count": 97,
   "metadata": {},
   "outputs": [
    {
     "data": {
      "text/plain": [
       "array([0.42323839, 0.53211463, 0.45771901, 0.3327895 , 0.28020037,\n",
       "       0.56362848])"
      ]
     },
     "execution_count": 97,
     "metadata": {},
     "output_type": "execute_result"
    }
   ],
   "source": [
    "# Calculate the mean along an axis\n",
    "\n",
    "arr1.mean(axis=1)"
   ]
  },
  {
   "cell_type": "code",
   "execution_count": 98,
   "metadata": {},
   "outputs": [
    {
     "data": {
      "text/plain": [
       "0.435194273766601"
      ]
     },
     "execution_count": 98,
     "metadata": {},
     "output_type": "execute_result"
    }
   ],
   "source": [
    "# Calculate the mean of the whole array\n",
    "\n",
    "np.median(arr1)"
   ]
  },
  {
   "cell_type": "markdown",
   "metadata": {},
   "source": [
    "<span style='color:red; font-weight:bold;'>Note: </span> An <code>ndarray</code> doesn't have attribute median."
   ]
  },
  {
   "cell_type": "markdown",
   "metadata": {},
   "source": [
    "## <span id='find_index'> 5.5 Find index </span>\n"
   ]
  },
  {
   "cell_type": "code",
   "execution_count": 99,
   "metadata": {},
   "outputs": [
    {
     "data": {
      "text/plain": [
       "array([[0.39186318, 0.15403847, 0.01160238, 0.68944436, 0.57876947],\n",
       "       [0.73382217, 0.30286489, 0.88302937, 0.60859471, 0.81744685],\n",
       "       [0.14421651, 0.44724879, 0.60699837, 0.96239542, 0.56248908],\n",
       "       [0.87499291, 0.02157416, 0.62511732, 0.        , 0.12221023],\n",
       "       [0.44505579, 0.91808003, 0.68690115, 0.93231476, 0.16587409],\n",
       "       [0.17299195, 0.60723523, 0.95661858, 0.53529122, 0.84379222]])"
      ]
     },
     "execution_count": 99,
     "metadata": {},
     "output_type": "execute_result"
    }
   ],
   "source": [
    "# Let's create an array\n",
    "\n",
    "arr1 = np.random.random((6, 5))\n",
    "arr1[3, 3] = 0\n",
    "arr1"
   ]
  },
  {
   "cell_type": "code",
   "execution_count": 100,
   "metadata": {},
   "outputs": [
    {
     "data": {
      "text/plain": [
       "13"
      ]
     },
     "execution_count": 100,
     "metadata": {},
     "output_type": "execute_result"
    }
   ],
   "source": [
    "# Find the indix of maximum value\n",
    "\n",
    "arr1.argmax()"
   ]
  },
  {
   "cell_type": "code",
   "execution_count": 101,
   "metadata": {},
   "outputs": [
    {
     "data": {
      "text/plain": [
       "18"
      ]
     },
     "execution_count": 101,
     "metadata": {},
     "output_type": "execute_result"
    }
   ],
   "source": [
    "# Find the indix of minimum value\n",
    "\n",
    "arr1.argmin()"
   ]
  },
  {
   "cell_type": "code",
   "execution_count": 102,
   "metadata": {},
   "outputs": [
    {
     "data": {
      "text/plain": [
       "(array([3]), array([3]))"
      ]
     },
     "execution_count": 102,
     "metadata": {},
     "output_type": "execute_result"
    }
   ],
   "source": [
    "# Find the indix of an specific value\n",
    "\n",
    "np.where(arr1 == 0)"
   ]
  },
  {
   "cell_type": "markdown",
   "metadata": {},
   "source": [
    "### <a href='#PYTHON'>TOP ☝️</a>\n"
   ]
  }
 ],
 "metadata": {
  "interpreter": {
   "hash": "ece4c4f9c4961c7468795d846fc72c6e00987d764e9134aaba41ea0514f48bf6"
  },
  "kernelspec": {
   "display_name": "Python 3 (ipykernel)",
   "language": "python",
   "name": "python3"
  },
  "language_info": {
   "codemirror_mode": {
    "name": "ipython",
    "version": 3
   },
   "file_extension": ".py",
   "mimetype": "text/x-python",
   "name": "python",
   "nbconvert_exporter": "python",
   "pygments_lexer": "ipython3",
   "version": "3.10.0"
  }
 },
 "nbformat": 4,
 "nbformat_minor": 2
}
