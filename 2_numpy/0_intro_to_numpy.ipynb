{
 "cells": [
  {
   "cell_type": "markdown",
   "metadata": {},
   "source": [
    "<center>\n",
    "<table style=\"border:none\">\n",
    "    <tr style=\"border:none\">\n",
    "    <th style=\"border:none\">\n",
    "        <a  href='https://colab.research.google.com/github/AmirMardan/ml_course/blob/main/2_numpy/0_intro_to_numpy.ipynb'><img src='https://colab.research.google.com/assets/colab-badge.svg'></a>\n",
    "    </th>\n",
    "    <th style=\"border:none\">\n",
    "        <a  href='https://github1s.com/AmirMardan/ml_course/blob/main/2_numpy/0_intro_to_numpy.ipynb'><img src='../imgs/open_vscode.svg' height=20px width=115px></a>\n",
    "    </th>\n",
    "    </tr>\n",
    "</table>\n",
    "</center>\n",
    "\n",
    "\n",
    "This notebook is created by <a href='https://github.com/AmirMardan'> Amir Mardan</a>. For any feedback or suggestion, please contact me via my <a href=\"mailto:mardan.amir.h@gmail.com\">email</a>, (mardan.amir.h@gmail.com).\n",
    "\n"
   ]
  },
  {
   "cell_type": "markdown",
   "metadata": {},
   "source": [
    "<center>\n",
    "<img src='img/numpy.png' width='300px'>\n",
    "</center>"
   ]
  },
  {
   "cell_type": "markdown",
   "metadata": {},
   "source": [
    "<a name='top'></a>\n",
    "# Introdunction to NumPy\n",
    "\n",
    "This notebook will cover the following topics:\n",
    "\n",
    "- [Introduction](#introduction)\n",
    "- [NumPy vs list](#numpy_list) \n",
    "- [1. Creating a NumPy array](#creating) \n",
    "    - [Creating arrays from lists](#creating_with_list) \n",
    "    - [Special arrays](#special_array) \n",
    "- [2 Attributes of arrays](#attributes_array) \n",
    "- [3. Data Selection](#data_election) \n",
    "    - [Array indexing](#indexing) \n",
    "    - [Array slicing](#slicing) \n",
    "    - [Array view vs copy](#view_copy) \n",
    "    - [Conditional selection](#conditional) \n",
    "- [4. Array manipulation](#manipulation) \n",
    "    - [Shape of an array](#shape) \n",
    "    - [Joining arrays](#joining) \n",
    "    - [Splitting of arrays](#splitting) \n",
    "- [5. Computation on NumPy arrays ](#computation) \n",
    "- [6. Aggregations](#aggregations) \n",
    "    - [Summation](#summation) \n",
    "    - [Minimum and maximum](#min_max) \n",
    "    - [Variance and standard deviation](#var_std) \n",
    "    - [Mean and median](#mean_median) \n",
    "    - [Find index](#find_index) "
   ]
  },
  {
   "cell_type": "markdown",
   "metadata": {},
   "source": [
    "<a name='introduction'></a>\n",
    "## Introduction \n"
   ]
  },
  {
   "cell_type": "markdown",
   "metadata": {},
   "source": [
    "NumPy is a library for working large, multi-dimensional arrays and matrices.\n",
    "Created by **Travis Oliphant**, first time released in 1995 as *Numeric* and changed to *NumPy* in 2006.\n",
    "\n",
    "<center><img src='./img/travis.jpeg' alter='tavis' width=300px></center>\n",
    "\n",
    "The array object in NumPy is called `ndarray`"
   ]
  },
  {
   "cell_type": "markdown",
   "metadata": {},
   "source": [
    "<a name='numpy_list'></a>\n",
    "## NumPy vs list \n"
   ]
  },
  {
   "cell_type": "markdown",
   "metadata": {},
   "source": [
    "**Advantages of using NumPy arrays over Python lists**\n",
    "\n",
    "- Numpy takes less memory\n",
    "- Numpy is faster\n",
    "- Numpy has better functionality\n",
    "\n",
    "Let's try if these statements are true. But first, we need to tell Python, that we want to use Numpy. To do so, we import this package. Generally, a Python package can be imported at the beginning of a script as\n",
    "\n",
    "```Python\n",
    " import module\n",
    "```\n",
    "To make us comfortable, Python lets us pick a nickname for a module we import using the keyword `as`,\n",
    "\n",
    "```Python\n",
    " import module as nickname\n",
    "```"
   ]
  },
  {
   "cell_type": "code",
   "execution_count": 1,
   "metadata": {
    "scrolled": true
   },
   "outputs": [
    {
     "name": "stdout",
     "output_type": "stream",
     "text": [
      "<class 'list'> <class 'numpy.ndarray'>\n"
     ]
    }
   ],
   "source": [
    "# Import numpy \n",
    "\n",
    "import numpy as np\n",
    "\n",
    "n = 1000\n",
    "\n",
    "# Make an array of zeros\n",
    "numpy_version = np.zeros(n)\n",
    "\n",
    "list_version = list(numpy_version)\n",
    "\n",
    "print(type(list_version), type(numpy_version))"
   ]
  },
  {
   "cell_type": "markdown",
   "metadata": {},
   "source": [
    "<div class=\"alert alert-block alert-danger\">\n",
    "<b>Danger:</b> Please note that the addition of two lists causes concatenation!\n",
    "</div>"
   ]
  },
  {
   "cell_type": "code",
   "execution_count": 2,
   "metadata": {},
   "outputs": [],
   "source": [
    "def numpy_based():\n",
    "    return  numpy_version + 5\n",
    "    \n",
    "    \n",
    "def list_based():\n",
    "    return [list_version[i] + 5 for i in range(len(list_version))]"
   ]
  },
  {
   "cell_type": "code",
   "execution_count": 4,
   "metadata": {},
   "outputs": [
    {
     "name": "stdout",
     "output_type": "stream",
     "text": [
      "206 µs ± 2.23 µs per loop (mean ± std. dev. of 7 runs, 1000 loops each)\n",
      "1.25 µs ± 43.6 ns per loop (mean ± std. dev. of 7 runs, 1000000 loops each)\n"
     ]
    }
   ],
   "source": [
    "%timeit list_based()\n",
    "%timeit numpy_based()\n"
   ]
  },
  {
   "cell_type": "markdown",
   "metadata": {},
   "source": [
    "In lot's of material, we see the above example is used to show NumPy is fater but the truth is the function `list_based` is not implemented well. Let's write it with `map()` as we learned in introduction to Python."
   ]
  },
  {
   "cell_type": "code",
   "execution_count": 46,
   "metadata": {},
   "outputs": [
    {
     "name": "stdout",
     "output_type": "stream",
     "text": [
      "195 ns ± 8.84 ns per loop (mean ± std. dev. of 7 runs, 10000000 loops each)\n",
      "1.33 µs ± 48.8 ns per loop (mean ± std. dev. of 7 runs, 1000000 loops each)\n",
      "Voila, list is faster now.\n"
     ]
    }
   ],
   "source": [
    "def list_based():\n",
    "    add = lambda a: a + 5\n",
    "    return map(add, list_version)\n",
    "\n",
    "\n",
    "%timeit list_based()\n",
    "%timeit numpy_based()\n",
    "print('Voila, list is faster now.')\n"
   ]
  },
  {
   "cell_type": "code",
   "execution_count": 83,
   "metadata": {
    "scrolled": true
   },
   "outputs": [
    {
     "name": "stdout",
     "output_type": "stream",
     "text": [
      "They're equal!\n",
      "NumPy:  (1000,) \n",
      "list:  (1000,)\n"
     ]
    }
   ],
   "source": [
    "# Let's check the size and values \n",
    "\n",
    "a = numpy_based()\n",
    "b = list_based()\n",
    "\n",
    "c = list(b)\n",
    "print(\"They're equal!\\nNumPy: \", a.shape, \"\\nlist: \", np.shape(c)) if [np.all(c == a)] else print('Wrong!') \n"
   ]
  },
  {
   "cell_type": "markdown",
   "metadata": {},
   "source": [
    "But for sure, NumPy gives us more functionality and NumPy's methods are faster using NumPy arrays."
   ]
  },
  {
   "cell_type": "code",
   "execution_count": 84,
   "metadata": {},
   "outputs": [],
   "source": [
    "def numpy_based():\n",
    "    return np.mean(numpy_version)\n",
    "\n",
    "\n",
    "def list_based():\n",
    "    return np.mean(list_version)\n"
   ]
  },
  {
   "cell_type": "code",
   "execution_count": 91,
   "metadata": {},
   "outputs": [
    {
     "name": "stdout",
     "output_type": "stream",
     "text": [
      "42.3 µs ± 965 ns per loop (mean ± std. dev. of 7 runs, 10000 loops each)\n",
      "6.39 µs ± 254 ns per loop (mean ± std. dev. of 7 runs, 100000 loops each)\n"
     ]
    }
   ],
   "source": [
    "%timeit list_based()\n",
    "%timeit numpy_based()"
   ]
  },
  {
   "cell_type": "markdown",
   "metadata": {},
   "source": [
    "<a name='creating'></a>\n",
    "## 1 . Creating a NumPy array \n"
   ]
  },
  {
   "cell_type": "markdown",
   "metadata": {},
   "source": [
    "`numpy.array` can be used to create a tensor\n",
    "\n",
    "<center><img src='img/Tensor_01.webp' alt='tensor' width=400px></center>"
   ]
  },
  {
   "cell_type": "code",
   "execution_count": 92,
   "metadata": {},
   "outputs": [
    {
     "name": "stdout",
     "output_type": "stream",
     "text": [
      "a =  2 ; shape:  0\n"
     ]
    }
   ],
   "source": [
    "# Create 0-D array\n",
    "\n",
    "a = np.array(2)\n",
    "\n",
    "print(\"a = \", a, \"; shape: \", a.ndim)"
   ]
  },
  {
   "cell_type": "markdown",
   "metadata": {},
   "source": [
    "<a name='creating_with_list'></a>\n",
    "### 1.1 Creating arrays from lists\n"
   ]
  },
  {
   "cell_type": "markdown",
   "metadata": {},
   "source": [
    "We can use `np.array()` to create an array from Python lists\n",
    "\n",
    "```Python\n",
    "np.array(list_name)\n",
    "```"
   ]
  },
  {
   "cell_type": "code",
   "execution_count": 93,
   "metadata": {},
   "outputs": [
    {
     "data": {
      "text/plain": [
       "array([1. , 4.3, 8. , 9. ])"
      ]
     },
     "execution_count": 93,
     "metadata": {},
     "output_type": "execute_result"
    }
   ],
   "source": [
    "# Create 1-D 'float' array\n",
    "\n",
    "np.array([1.0, 4.3, 8., 9])"
   ]
  },
  {
   "cell_type": "markdown",
   "metadata": {},
   "source": [
    "We can use the parameter `dtype` to specify the type of data,\n",
    "\n",
    "```Python\n",
    "np.array(list_name, dtype=desired_type)\n",
    "```"
   ]
  },
  {
   "cell_type": "code",
   "execution_count": 94,
   "metadata": {},
   "outputs": [
    {
     "data": {
      "text/plain": [
       "array([1, 4, 8, 9], dtype=int32)"
      ]
     },
     "execution_count": 94,
     "metadata": {},
     "output_type": "execute_result"
    }
   ],
   "source": [
    "# Create 1-D 'int' array\n",
    "\n",
    "np.array([1.0, 4., 8., 9], dtype=np.int32)"
   ]
  },
  {
   "cell_type": "code",
   "execution_count": 95,
   "metadata": {},
   "outputs": [
    {
     "data": {
      "text/plain": [
       "array([[1., 4., 8., 9.],\n",
       "       [2., 4., 1., 3.]], dtype=float32)"
      ]
     },
     "execution_count": 95,
     "metadata": {},
     "output_type": "execute_result"
    }
   ],
   "source": [
    "# Create 2-D array\n",
    "\n",
    "np.array([[1.0, 4., 8., 9],\n",
    "          [2, 4, 1, 3]], dtype=np.float32)"
   ]
  },
  {
   "cell_type": "markdown",
   "metadata": {},
   "source": [
    "<a name='special_array'></a>\n",
    "### 1.2 Special arrays\n"
   ]
  },
  {
   "cell_type": "markdown",
   "metadata": {},
   "source": [
    "It's better to use special methods in NumPy for larger arrays. These special arrays are:\n",
    "\n",
    "- All zero array\n",
    "- All one array\n",
    "- Identity matrix\n",
    "- Empty array\n",
    "- Full array\n",
    "- Random array\n",
    "- Arrays based on a given range\n",
    "\n",
    "These arrays are usually created with the following syntax:\n",
    "\n",
    "```Python\n",
    "np.array(shape=shape_in_tuple, dtype=type_of_data)\n",
    "```\n"
   ]
  },
  {
   "cell_type": "code",
   "execution_count": 96,
   "metadata": {},
   "outputs": [
    {
     "data": {
      "text/plain": [
       "array([[0., 0.],\n",
       "       [0., 0.],\n",
       "       [0., 0.],\n",
       "       [0., 0.],\n",
       "       [0., 0.]], dtype=float32)"
      ]
     },
     "execution_count": 96,
     "metadata": {},
     "output_type": "execute_result"
    }
   ],
   "source": [
    "# Creating an array of zeros\n",
    "\n",
    "np.zeros(shape=(5, 2), dtype=np.float32)"
   ]
  },
  {
   "cell_type": "code",
   "execution_count": 97,
   "metadata": {},
   "outputs": [
    {
     "data": {
      "text/plain": [
       "array([[0., 0.],\n",
       "       [0., 0.],\n",
       "       [0., 0.],\n",
       "       [0., 0.],\n",
       "       [0., 0.]], dtype=float32)"
      ]
     },
     "execution_count": 97,
     "metadata": {},
     "output_type": "execute_result"
    }
   ],
   "source": [
    "# Creating an array of zeros using zeros_like\n",
    "\n",
    "np.zeros_like(np.ones(shape=(5, 2), dtype=np.float32))"
   ]
  },
  {
   "cell_type": "markdown",
   "metadata": {},
   "source": [
    "To make it easier, we can let NumPy decide the type of data for the rest of this notebook."
   ]
  },
  {
   "cell_type": "code",
   "execution_count": 98,
   "metadata": {},
   "outputs": [
    {
     "data": {
      "text/plain": [
       "array([[1., 1.],\n",
       "       [1., 1.],\n",
       "       [1., 1.],\n",
       "       [1., 1.],\n",
       "       [1., 1.]])"
      ]
     },
     "execution_count": 98,
     "metadata": {},
     "output_type": "execute_result"
    }
   ],
   "source": [
    "# Creating an array of ones\n",
    "\n",
    "np.ones(shape=(5, 2))"
   ]
  },
  {
   "cell_type": "code",
   "execution_count": 99,
   "metadata": {},
   "outputs": [
    {
     "data": {
      "text/plain": [
       "array([[1., 0., 0., 0.],\n",
       "       [0., 1., 0., 0.],\n",
       "       [0., 0., 1., 0.],\n",
       "       [0., 0., 0., 1.],\n",
       "       [0., 0., 0., 0.]])"
      ]
     },
     "execution_count": 99,
     "metadata": {},
     "output_type": "execute_result"
    }
   ],
   "source": [
    "# Creating an identity matrix\n",
    "# Note: np.eye doesn't get the sahpe as argument!\n",
    "\n",
    "np.eye(5, 4)"
   ]
  },
  {
   "cell_type": "code",
   "execution_count": 100,
   "metadata": {},
   "outputs": [
    {
     "data": {
      "text/plain": [
       "array([[1., 1.],\n",
       "       [1., 1.],\n",
       "       [1., 1.],\n",
       "       [1., 1.],\n",
       "       [1., 1.]])"
      ]
     },
     "execution_count": 100,
     "metadata": {},
     "output_type": "execute_result"
    }
   ],
   "source": [
    "# Creating an empty array\n",
    "\n",
    "np.empty(shape=(5, 2))"
   ]
  },
  {
   "cell_type": "code",
   "execution_count": 101,
   "metadata": {},
   "outputs": [
    {
     "data": {
      "text/plain": [
       "array([[1., 1.],\n",
       "       [1., 1.],\n",
       "       [1., 1.],\n",
       "       [1., 1.],\n",
       "       [1., 1.]])"
      ]
     },
     "execution_count": 101,
     "metadata": {},
     "output_type": "execute_result"
    }
   ],
   "source": [
    "# Creating an empty array using empty_like\n",
    "\n",
    "np.empty_like(np.zeros((5, 2)))"
   ]
  },
  {
   "cell_type": "code",
   "execution_count": 102,
   "metadata": {},
   "outputs": [
    {
     "data": {
      "text/plain": [
       "array([[ 2.46063116, -1.66138   ],\n",
       "       [-0.68877872,  0.5324897 ],\n",
       "       [ 1.70459242, -0.55436171],\n",
       "       [-1.25038412,  1.53421687],\n",
       "       [ 0.47963109,  0.708123  ]])"
      ]
     },
     "execution_count": 102,
     "metadata": {},
     "output_type": "execute_result"
    }
   ],
   "source": [
    "# Creating an array of random numbers (normally distributed)\n",
    "\n",
    "np.random.normal(loc=0, scale=1, size=(5,2))"
   ]
  },
  {
   "cell_type": "code",
   "execution_count": 103,
   "metadata": {},
   "outputs": [
    {
     "data": {
      "text/plain": [
       "array([[0.13027077, 0.20035318],\n",
       "       [0.57908804, 0.18882952],\n",
       "       [0.00391438, 0.59909874],\n",
       "       [0.3945339 , 0.02842908],\n",
       "       [0.17698491, 0.09593101]])"
      ]
     },
     "execution_count": 103,
     "metadata": {},
     "output_type": "execute_result"
    }
   ],
   "source": [
    "# Creating an array of random numbers (uniformly distributed)\n",
    "\n",
    "np.random.random((5, 2))"
   ]
  },
  {
   "cell_type": "markdown",
   "metadata": {},
   "source": [
    "<hr>\n",
    "<div>\n",
    "<span style=\"color:#151D3B; font-weight:bold\">Question: 🤔</span><p>\n",
    "Generate an array with shape of [10, 10] and values between 5 and 7\n",
    "</div>\n",
    "<hr>"
   ]
  },
  {
   "cell_type": "code",
   "execution_count": 104,
   "metadata": {},
   "outputs": [],
   "source": [
    "# Answer\n",
    "\n"
   ]
  },
  {
   "cell_type": "code",
   "execution_count": 105,
   "metadata": {},
   "outputs": [
    {
     "data": {
      "text/plain": [
       "array([[0.99706409, 0.27631072],\n",
       "       [0.17084136, 0.07686026],\n",
       "       [0.6466758 , 0.30451209],\n",
       "       [0.25820037, 0.95089223],\n",
       "       [0.35967909, 0.59801397]])"
      ]
     },
     "execution_count": 105,
     "metadata": {},
     "output_type": "execute_result"
    }
   ],
   "source": [
    "# Creating an array of random numbers\n",
    "\n",
    "np.random.rand(5, 2)"
   ]
  },
  {
   "cell_type": "code",
   "execution_count": 106,
   "metadata": {},
   "outputs": [
    {
     "data": {
      "text/plain": [
       "array([[2, 3],\n",
       "       [3, 1],\n",
       "       [1, 3],\n",
       "       [3, 4],\n",
       "       [3, 4]])"
      ]
     },
     "execution_count": 106,
     "metadata": {},
     "output_type": "execute_result"
    }
   ],
   "source": [
    "# Creating an array of random integer numbers\n",
    "\n",
    "np.random.randint(low=1, high=5, size=(5, 2))"
   ]
  },
  {
   "cell_type": "code",
   "execution_count": 107,
   "metadata": {},
   "outputs": [
    {
     "data": {
      "text/plain": [
       "array([1. , 1.1, 1.2, 1.3, 1.4, 1.5, 1.6, 1.7, 1.8, 1.9, 2. , 2.1, 2.2,\n",
       "       2.3, 2.4, 2.5, 2.6, 2.7, 2.8, 2.9, 3. , 3.1, 3.2, 3.3, 3.4, 3.5,\n",
       "       3.6, 3.7, 3.8, 3.9])"
      ]
     },
     "execution_count": 107,
     "metadata": {},
     "output_type": "execute_result"
    }
   ],
   "source": [
    "# Creating an array in a range\n",
    "\n",
    "np.arange(start=1, stop=4, step=0.1)"
   ]
  },
  {
   "cell_type": "code",
   "execution_count": 108,
   "metadata": {},
   "outputs": [
    {
     "data": {
      "text/plain": [
       "array([1.        , 1.33333333, 1.66666667, 2.        , 2.33333333,\n",
       "       2.66666667, 3.        , 3.33333333, 3.66666667, 4.        ])"
      ]
     },
     "execution_count": 108,
     "metadata": {},
     "output_type": "execute_result"
    }
   ],
   "source": [
    "# Creating an array in a range\n",
    "\n",
    "np.linspace(start=1, stop=4, num=10)"
   ]
  },
  {
   "cell_type": "code",
   "execution_count": 109,
   "metadata": {},
   "outputs": [
    {
     "data": {
      "text/plain": [
       "array([   10.        ,    21.5443469 ,    46.41588834,   100.        ,\n",
       "         215.443469  ,   464.15888336,  1000.        ,  2154.43469003,\n",
       "        4641.58883361, 10000.        ])"
      ]
     },
     "execution_count": 109,
     "metadata": {},
     "output_type": "execute_result"
    }
   ],
   "source": [
    "# Creating an array in a range\n",
    "\n",
    "np.logspace(start=1, stop=4, num=10)"
   ]
  },
  {
   "cell_type": "markdown",
   "metadata": {},
   "source": [
    "<a name='attributes_array'></a>\n",
    "## 2. Attributes of arrays \n"
   ]
  },
  {
   "cell_type": "markdown",
   "metadata": {},
   "source": [
    "We use attributes to determine some properties of the array such as shape, size, etc."
   ]
  },
  {
   "cell_type": "code",
   "execution_count": 110,
   "metadata": {},
   "outputs": [
    {
     "name": "stdout",
     "output_type": "stream",
     "text": [
      "[[11 10  5]\n",
      " [ 4  6  1]\n",
      " [ 7  7  9]\n",
      " [ 9  5 12]]\n"
     ]
    }
   ],
   "source": [
    "x = np.random.randint(14, size=(4, 3))\n",
    "\n",
    "print(x)"
   ]
  },
  {
   "cell_type": "code",
   "execution_count": 111,
   "metadata": {},
   "outputs": [
    {
     "name": "stdout",
     "output_type": "stream",
     "text": [
      "Dimension:  2\n",
      "Shape:  (4, 3)\n",
      "Size:  12\n",
      "Type:  int64\n",
      "Element size:  8 bytes\n",
      "Array size:  96 bytes\n"
     ]
    }
   ],
   "source": [
    "print(\"Dimension: \", x.ndim) \n",
    "print(\"Shape: \", x.shape) \n",
    "print(\"Size: \", x.size) \n",
    "print(\"Type: \", x.dtype)\n",
    "print(\"Element size: \", x.itemsize, 'bytes')  # Size of each element\n",
    "print(\"Array size: \", x.nbytes, 'bytes')  # Size of the array"
   ]
  },
  {
   "cell_type": "markdown",
   "metadata": {},
   "source": [
    "<a name='data_election'></a>\n",
    "## 3. Data Selection\n",
    " "
   ]
  },
  {
   "cell_type": "markdown",
   "metadata": {},
   "source": [
    "***Indexing*** is used to select an individual element of an array\n",
    "\n",
    "***Slicing*** is used to select a part of an array"
   ]
  },
  {
   "cell_type": "markdown",
   "metadata": {},
   "source": [
    "<a name='indexing'></a>\n",
    "### 3.1 Array indexing"
   ]
  },
  {
   "cell_type": "markdown",
   "metadata": {},
   "source": [
    "Please note that Python counts from `0`."
   ]
  },
  {
   "cell_type": "code",
   "execution_count": 112,
   "metadata": {},
   "outputs": [
    {
     "data": {
      "text/plain": [
       "array([[0.82810965],\n",
       "       [0.56678088],\n",
       "       [0.98476452],\n",
       "       [0.84156425],\n",
       "       [0.82068209],\n",
       "       [0.4707897 ]])"
      ]
     },
     "execution_count": 112,
     "metadata": {},
     "output_type": "execute_result"
    }
   ],
   "source": [
    "x_1d = np.random.random((6, 1))\n",
    "x_1d"
   ]
  },
  {
   "cell_type": "code",
   "execution_count": 113,
   "metadata": {},
   "outputs": [
    {
     "data": {
      "text/plain": [
       "array([0.82810965])"
      ]
     },
     "execution_count": 113,
     "metadata": {},
     "output_type": "execute_result"
    }
   ],
   "source": [
    "# Access to the first element\n",
    "\n",
    "x_1d[0]"
   ]
  },
  {
   "cell_type": "code",
   "execution_count": 114,
   "metadata": {},
   "outputs": [
    {
     "data": {
      "text/plain": [
       "array([0.4707897])"
      ]
     },
     "execution_count": 114,
     "metadata": {},
     "output_type": "execute_result"
    }
   ],
   "source": [
    "# Access to the last element\n",
    "\n",
    "x_1d[-1]"
   ]
  },
  {
   "cell_type": "code",
   "execution_count": 115,
   "metadata": {},
   "outputs": [
    {
     "data": {
      "text/plain": [
       "array([[0.7626298 , 0.77210095, 0.16127265, 0.86901824, 0.99142288],\n",
       "       [0.11145316, 0.56758943, 0.585537  , 0.84567627, 0.80371882],\n",
       "       [0.05046367, 0.08834924, 0.05348962, 0.61359812, 0.86721375],\n",
       "       [0.12210604, 0.43084803, 0.03230398, 0.18576835, 0.15799014]])"
      ]
     },
     "execution_count": 115,
     "metadata": {},
     "output_type": "execute_result"
    }
   ],
   "source": [
    "x_2d = np.random.random((4, 5))\n",
    "x_2d"
   ]
  },
  {
   "cell_type": "code",
   "execution_count": 116,
   "metadata": {},
   "outputs": [
    {
     "data": {
      "text/plain": [
       "0.7626297954998034"
      ]
     },
     "execution_count": 116,
     "metadata": {},
     "output_type": "execute_result"
    }
   ],
   "source": [
    "x_2d[0, 0]"
   ]
  },
  {
   "cell_type": "code",
   "execution_count": 117,
   "metadata": {},
   "outputs": [
    {
     "data": {
      "text/plain": [
       "0.7626297954998034"
      ]
     },
     "execution_count": 117,
     "metadata": {},
     "output_type": "execute_result"
    }
   ],
   "source": [
    "x_2d[0][0]"
   ]
  },
  {
   "cell_type": "markdown",
   "metadata": {},
   "source": [
    "<hr>\n",
    "<div>\n",
    "<span style=\"color:#151D3B; font-weight:bold\">Question: 🤔</span><p>\n",
    "What would be the result of <code>x_2d[0, 0]</code>?\n",
    "</div>\n",
    "<hr>"
   ]
  },
  {
   "cell_type": "code",
   "execution_count": 118,
   "metadata": {},
   "outputs": [],
   "source": [
    "# Answer"
   ]
  },
  {
   "cell_type": "markdown",
   "metadata": {},
   "source": [
    "<a name='slicing'></a>\n",
    "### 3.2 Array slicing"
   ]
  },
  {
   "cell_type": "markdown",
   "metadata": {},
   "source": [
    "For a 1-D slicing we use the following syntax\n",
    "\n",
    "```Python\n",
    "sliced = original[begining:end:step]\n",
    "```\n",
    "\n",
    "If `step` is not given, it will be considered as `1`.\n"
   ]
  },
  {
   "cell_type": "code",
   "execution_count": 119,
   "metadata": {},
   "outputs": [
    {
     "data": {
      "text/plain": [
       "array([[0.82810965],\n",
       "       [0.56678088],\n",
       "       [0.98476452],\n",
       "       [0.84156425],\n",
       "       [0.82068209],\n",
       "       [0.4707897 ]])"
      ]
     },
     "execution_count": 119,
     "metadata": {},
     "output_type": "execute_result"
    }
   ],
   "source": [
    "x_1d"
   ]
  },
  {
   "cell_type": "code",
   "execution_count": 120,
   "metadata": {},
   "outputs": [
    {
     "data": {
      "text/plain": [
       "array([[0.56678088],\n",
       "       [0.98476452],\n",
       "       [0.84156425]])"
      ]
     },
     "execution_count": 120,
     "metadata": {},
     "output_type": "execute_result"
    }
   ],
   "source": [
    "# Specify the start and end of the desired section by number\n",
    "\n",
    "x_1d[1:4]"
   ]
  },
  {
   "cell_type": "markdown",
   "metadata": {},
   "source": [
    "<div class=\"alert alert-block alert-info\">\n",
    "<b>Tip:</b> Please consider that element 1 is included but that's not the case for element 4.</div>"
   ]
  },
  {
   "cell_type": "code",
   "execution_count": 121,
   "metadata": {},
   "outputs": [
    {
     "data": {
      "text/plain": [
       "array([[0.56678088],\n",
       "       [0.98476452],\n",
       "       [0.84156425],\n",
       "       [0.82068209],\n",
       "       [0.4707897 ]])"
      ]
     },
     "execution_count": 121,
     "metadata": {},
     "output_type": "execute_result"
    }
   ],
   "source": [
    "\"\"\"\n",
    "Specify the start or the end of the desired section that corresponds to\n",
    "the start or the end of the array\n",
    "\"\"\"\n",
    "\n",
    "x_1d[1:]"
   ]
  },
  {
   "cell_type": "code",
   "execution_count": 122,
   "metadata": {},
   "outputs": [
    {
     "data": {
      "text/plain": [
       "array([[0.56678088],\n",
       "       [0.84156425],\n",
       "       [0.4707897 ]])"
      ]
     },
     "execution_count": 122,
     "metadata": {},
     "output_type": "execute_result"
    }
   ],
   "source": [
    "# Indexing with step greater than 1\n",
    "\n",
    "x_1d[1::2]"
   ]
  },
  {
   "cell_type": "code",
   "execution_count": 123,
   "metadata": {},
   "outputs": [
    {
     "data": {
      "text/plain": [
       "array([[0.4707897 ],\n",
       "       [0.82068209],\n",
       "       [0.84156425],\n",
       "       [0.98476452],\n",
       "       [0.56678088]])"
      ]
     },
     "execution_count": 123,
     "metadata": {},
     "output_type": "execute_result"
    }
   ],
   "source": [
    "# We can reverse the array by indexing\n",
    "\n",
    "x_1d[-1:0:-1]"
   ]
  },
  {
   "cell_type": "code",
   "execution_count": 124,
   "metadata": {},
   "outputs": [
    {
     "data": {
      "text/plain": [
       "array([[0.84567627, 0.80371882],\n",
       "       [0.61359812, 0.86721375],\n",
       "       [0.18576835, 0.15799014]])"
      ]
     },
     "execution_count": 124,
     "metadata": {},
     "output_type": "execute_result"
    }
   ],
   "source": [
    "# Slicing in 2-D\n",
    "\n",
    "x_2d[1:, 3:5]"
   ]
  },
  {
   "cell_type": "markdown",
   "metadata": {},
   "source": [
    "<a name='view_copy'></a>\n",
    "### 3.3 Array view vs copy"
   ]
  },
  {
   "cell_type": "markdown",
   "metadata": {},
   "source": [
    "An extremely important thing to know is array slices return *views* of data rather than *copy*.\n",
    "This is another difference between NumPy arrays and Python lists. "
   ]
  },
  {
   "cell_type": "code",
   "execution_count": 125,
   "metadata": {},
   "outputs": [
    {
     "name": "stdout",
     "output_type": "stream",
     "text": [
      "[[0.82810965]\n",
      " [0.56678088]\n",
      " [0.98476452]\n",
      " [0.84156425]\n",
      " [0.82068209]\n",
      " [0.4707897 ]]\n",
      "======== \n",
      " [[1.65621929]\n",
      " [0.56678088]\n",
      " [0.98476452]\n",
      " [0.84156425]\n",
      " [0.82068209]\n",
      " [0.4707897 ]]\n"
     ]
    }
   ],
   "source": [
    "print(x_1d)\n",
    "\n",
    "x_1d_sliced = x_1d[0]\n",
    "\n",
    "x_1d_sliced *= 2\n",
    "\n",
    "print(\"======== \\n\", x_1d)\n"
   ]
  },
  {
   "cell_type": "markdown",
   "metadata": {},
   "source": [
    "To prevent any problems, you should use the method `copy()`"
   ]
  },
  {
   "cell_type": "code",
   "execution_count": 126,
   "metadata": {},
   "outputs": [
    {
     "name": "stdout",
     "output_type": "stream",
     "text": [
      "[[1.65621929]\n",
      " [0.56678088]\n",
      " [0.98476452]\n",
      " [0.84156425]\n",
      " [0.82068209]\n",
      " [0.4707897 ]]\n",
      "======== \n",
      " [[1.65621929]\n",
      " [0.56678088]\n",
      " [0.98476452]\n",
      " [0.84156425]\n",
      " [0.82068209]\n",
      " [0.4707897 ]]\n"
     ]
    }
   ],
   "source": [
    "print(x_1d)\n",
    "\n",
    "x_1d_sliced = x_1d[0].copy()\n",
    "\n",
    "x_1d_sliced *= 2\n",
    "\n",
    "print(\"======== \\n\", x_1d)"
   ]
  },
  {
   "cell_type": "markdown",
   "metadata": {},
   "source": [
    "<a name='conditional'></a>\n",
    "### 3.4 Conditional selection"
   ]
  },
  {
   "cell_type": "markdown",
   "metadata": {},
   "source": [
    "We can use a condition to select a part of an array."
   ]
  },
  {
   "cell_type": "code",
   "execution_count": 127,
   "metadata": {},
   "outputs": [
    {
     "data": {
      "text/plain": [
       "array([[1.65621929],\n",
       "       [0.56678088],\n",
       "       [0.98476452],\n",
       "       [0.84156425],\n",
       "       [0.82068209],\n",
       "       [0.4707897 ]])"
      ]
     },
     "execution_count": 127,
     "metadata": {},
     "output_type": "execute_result"
    }
   ],
   "source": [
    "x_1d"
   ]
  },
  {
   "cell_type": "code",
   "execution_count": 128,
   "metadata": {},
   "outputs": [
    {
     "data": {
      "text/plain": [
       "array([[ True],\n",
       "       [False],\n",
       "       [ True],\n",
       "       [ True],\n",
       "       [ True],\n",
       "       [False]])"
      ]
     },
     "execution_count": 128,
     "metadata": {},
     "output_type": "execute_result"
    }
   ],
   "source": [
    "# Let's create a condition\n",
    "\n",
    "cond = x_1d > 0.7\n",
    "cond"
   ]
  },
  {
   "cell_type": "code",
   "execution_count": 129,
   "metadata": {},
   "outputs": [
    {
     "data": {
      "text/plain": [
       "array([1.65621929, 0.98476452, 0.84156425, 0.82068209])"
      ]
     },
     "execution_count": 129,
     "metadata": {},
     "output_type": "execute_result"
    }
   ],
   "source": [
    "# Select the data based on the condition\n",
    "\n",
    "x_1d[cond]"
   ]
  },
  {
   "cell_type": "code",
   "execution_count": 130,
   "metadata": {},
   "outputs": [
    {
     "data": {
      "text/plain": [
       "array([[ 6, 10,  7,  6,  3,  8],\n",
       "       [ 5,  1,  4,  8,  6, 11],\n",
       "       [ 2,  7,  2, 10,  9,  0],\n",
       "       [ 5,  0,  1,  2,  9,  2],\n",
       "       [ 6, 10,  8,  1, 11,  9]])"
      ]
     },
     "execution_count": 130,
     "metadata": {},
     "output_type": "execute_result"
    }
   ],
   "source": [
    "# Let's create a 2-D array\n",
    "\n",
    "x_2d_int = np.random.randint(12, size=(5, 6))\n",
    "\n",
    "x_2d_int"
   ]
  },
  {
   "cell_type": "code",
   "execution_count": 131,
   "metadata": {},
   "outputs": [
    {
     "data": {
      "text/plain": [
       "array([ 6, 10,  6,  8,  4,  8,  6,  2,  2, 10,  0,  0,  2,  2,  6, 10,  8])"
      ]
     },
     "execution_count": 131,
     "metadata": {},
     "output_type": "execute_result"
    }
   ],
   "source": [
    "# Let's pull out the even numbers\n",
    "\n",
    "x_2d_int[x_2d_int % 2 == 0]"
   ]
  },
  {
   "cell_type": "markdown",
   "metadata": {},
   "source": [
    "<hr>\n",
    "<div>\n",
    "<span style=\"color:#151D3B; font-weight:bold\">Question: 🤔</span><p>\n",
    "Using conditional indexing, pull out numbers in <code>x_2d_int</code> that are divisible by both 2 and 7.\n",
    "</div>\n",
    "<hr>"
   ]
  },
  {
   "cell_type": "code",
   "execution_count": 132,
   "metadata": {},
   "outputs": [],
   "source": [
    "# Answer\n",
    "\n"
   ]
  },
  {
   "cell_type": "markdown",
   "metadata": {},
   "source": [
    "<a name='manipulation'></a>\n",
    "## 4. Array manipulation\n"
   ]
  },
  {
   "cell_type": "markdown",
   "metadata": {},
   "source": [
    "Data manipulation is an important step in any study."
   ]
  },
  {
   "cell_type": "markdown",
   "metadata": {},
   "source": [
    "<a name='shape'></a>\n",
    "### 4.1 Shape of an array\n"
   ]
  },
  {
   "cell_type": "code",
   "execution_count": 133,
   "metadata": {},
   "outputs": [],
   "source": [
    "# Let's create some arrays\n",
    "\n",
    "arr_1d = np.arange(10)\n",
    "arr_2d = 5 * np.random.random((4, 5))\n"
   ]
  },
  {
   "cell_type": "code",
   "execution_count": 134,
   "metadata": {},
   "outputs": [
    {
     "data": {
      "text/plain": [
       "array([0, 1, 2, 3, 4, 5, 6, 7, 8, 9])"
      ]
     },
     "execution_count": 134,
     "metadata": {},
     "output_type": "execute_result"
    }
   ],
   "source": [
    "arr_1d"
   ]
  },
  {
   "cell_type": "code",
   "execution_count": 135,
   "metadata": {},
   "outputs": [
    {
     "data": {
      "text/plain": [
       "array([[3.1096913 , 0.15088387, 3.65064933, 0.97717337, 3.97429903],\n",
       "       [3.33919848, 1.11834939, 2.05667255, 0.824624  , 3.66193255],\n",
       "       [1.42704621, 0.09108845, 3.27880682, 4.54264282, 1.3729306 ],\n",
       "       [4.29856289, 0.47991767, 0.6478553 , 2.83540822, 0.15488189]])"
      ]
     },
     "execution_count": 135,
     "metadata": {},
     "output_type": "execute_result"
    }
   ],
   "source": [
    "arr_2d"
   ]
  },
  {
   "cell_type": "code",
   "execution_count": 136,
   "metadata": {},
   "outputs": [
    {
     "name": "stdout",
     "output_type": "stream",
     "text": [
      "(10,) (10,)\n"
     ]
    }
   ],
   "source": [
    "# Shape of an array can be obtained in 2 ways\n",
    "\n",
    "print(arr_1d.shape, np.shape(arr_1d))"
   ]
  },
  {
   "cell_type": "code",
   "execution_count": 137,
   "metadata": {},
   "outputs": [
    {
     "data": {
      "text/plain": [
       "(4, 5)"
      ]
     },
     "execution_count": 137,
     "metadata": {},
     "output_type": "execute_result"
    }
   ],
   "source": [
    "arr_2d.shape"
   ]
  },
  {
   "cell_type": "markdown",
   "metadata": {},
   "source": [
    "We can easily reshape a NumPy array\n",
    "\n",
    "\n",
    "```Python\n",
    "\n",
    "array.reshape(rows, columns)\n",
    "\n",
    "np.reshape(array, newshape=(rows, columns))\n",
    "\n",
    "```"
   ]
  },
  {
   "cell_type": "code",
   "execution_count": 138,
   "metadata": {},
   "outputs": [
    {
     "data": {
      "text/plain": [
       "array([[3.1096913 , 0.15088387, 3.65064933, 0.97717337],\n",
       "       [3.97429903, 3.33919848, 1.11834939, 2.05667255],\n",
       "       [0.824624  , 3.66193255, 1.42704621, 0.09108845],\n",
       "       [3.27880682, 4.54264282, 1.3729306 , 4.29856289],\n",
       "       [0.47991767, 0.6478553 , 2.83540822, 0.15488189]])"
      ]
     },
     "execution_count": 138,
     "metadata": {},
     "output_type": "execute_result"
    }
   ],
   "source": [
    "arr_2d.reshape(5, 4)"
   ]
  },
  {
   "cell_type": "code",
   "execution_count": 139,
   "metadata": {},
   "outputs": [
    {
     "data": {
      "text/plain": [
       "array([[3.1096913 , 0.15088387, 3.65064933, 0.97717337],\n",
       "       [3.97429903, 3.33919848, 1.11834939, 2.05667255],\n",
       "       [0.824624  , 3.66193255, 1.42704621, 0.09108845],\n",
       "       [3.27880682, 4.54264282, 1.3729306 , 4.29856289],\n",
       "       [0.47991767, 0.6478553 , 2.83540822, 0.15488189]])"
      ]
     },
     "execution_count": 139,
     "metadata": {},
     "output_type": "execute_result"
    }
   ],
   "source": [
    "np.reshape(arr_2d, newshape=(5, 4))"
   ]
  },
  {
   "cell_type": "code",
   "execution_count": 140,
   "metadata": {},
   "outputs": [
    {
     "data": {
      "text/plain": [
       "array([3.1096913 , 0.15088387, 3.65064933, 0.97717337, 3.97429903,\n",
       "       3.33919848, 1.11834939, 2.05667255, 0.824624  , 3.66193255,\n",
       "       1.42704621, 0.09108845, 3.27880682, 4.54264282, 1.3729306 ,\n",
       "       4.29856289, 0.47991767, 0.6478553 , 2.83540822, 0.15488189])"
      ]
     },
     "execution_count": 140,
     "metadata": {},
     "output_type": "execute_result"
    }
   ],
   "source": [
    "# We can flatten an array using attribute flatten\n",
    "\n",
    "arr_2d.flatten()\n"
   ]
  },
  {
   "cell_type": "markdown",
   "metadata": {},
   "source": [
    "<div class=\"alert alert-block alert-info\">\n",
    "<b>Tip:</b> Reshape doesn't act in place while resize returns <code>None</code> and acts in place.</div>\n"
   ]
  },
  {
   "cell_type": "code",
   "execution_count": null,
   "metadata": {},
   "outputs": [],
   "source": [
    "print(\"Original shape: \", arr_2d.shape)\n",
    "\n",
    "arr_2d.reshape(5, 4)\n",
    "\n",
    "print(\"Shape after using reshape: \", arr_2d.shape)\n",
    "\n",
    "a = arr_2d.resize(5, 4)\n",
    "\n",
    "print(\"Shape after using resize: \", arr_2d.shape)\n"
   ]
  },
  {
   "cell_type": "markdown",
   "metadata": {},
   "source": [
    "<span style='color:red; font-weight:bold;'>Note:</span> <code>np.resize()</code> acts like <code>np.reshape()</code>."
   ]
  },
  {
   "cell_type": "code",
   "execution_count": null,
   "metadata": {},
   "outputs": [],
   "source": [
    "print(\"Original shape: \", arr_2d.shape)\n",
    "\n",
    "np.reshape(arr_2d, (5, 4))\n",
    "\n",
    "print(\"Shape after using reshape: \", arr_2d.shape)\n",
    "\n",
    "np.resize(arr_2d, (5, 4))\n",
    "\n",
    "print(\"Shape after using resize: \", arr_2d.shape)"
   ]
  },
  {
   "cell_type": "markdown",
   "metadata": {},
   "source": [
    "<a name='joining'></a>\n",
    "### 4.2 Joining arrays \n"
   ]
  },
  {
   "cell_type": "code",
   "execution_count": null,
   "metadata": {},
   "outputs": [],
   "source": [
    "arr1 = np.array([[1, 2, 0, 1]])\n",
    "\n",
    "arr2 = 6 * np.random.random((4, 4))"
   ]
  },
  {
   "cell_type": "code",
   "execution_count": null,
   "metadata": {},
   "outputs": [],
   "source": [
    "# Check the shape\n",
    "print('arr1: ', arr1.shape)\n",
    "print('arr2: ', arr2.shape)"
   ]
  },
  {
   "cell_type": "code",
   "execution_count": null,
   "metadata": {},
   "outputs": [],
   "source": [
    "# Joining arrays by row\n",
    "\n",
    "np.concatenate((arr2, arr1), axis=0)"
   ]
  },
  {
   "cell_type": "markdown",
   "metadata": {},
   "source": [
    "For using `axis = 0`, we should have the same number of columns and for `axis = 1`, we should have the same number of rows."
   ]
  },
  {
   "cell_type": "code",
   "execution_count": null,
   "metadata": {},
   "outputs": [],
   "source": [
    "# Joining arrays by column\n",
    "# .T takes the transpose as well as np.transpose()\n",
    "np.concatenate((arr2, arr1.T), axis=1)"
   ]
  },
  {
   "cell_type": "code",
   "execution_count": null,
   "metadata": {},
   "outputs": [],
   "source": [
    "# Joining by vstack which acts as using axis = 0\n",
    "\n",
    "np.vstack((arr2, arr1))"
   ]
  },
  {
   "cell_type": "code",
   "execution_count": null,
   "metadata": {},
   "outputs": [],
   "source": [
    "# Joining by hstack which acts as using axis = 1\n",
    "\n",
    "np.hstack((arr2, arr1.T))"
   ]
  },
  {
   "cell_type": "code",
   "execution_count": null,
   "metadata": {},
   "outputs": [],
   "source": [
    "# Joining by column_stack / row_stack which acts as using axis = 1 / 0. \n",
    "\n",
    "np.column_stack((arr2, arr1.T))"
   ]
  },
  {
   "cell_type": "markdown",
   "metadata": {},
   "source": [
    "<a name='splitting'></a>\n",
    "### 4.3 Splitting of arrays \n"
   ]
  },
  {
   "cell_type": "markdown",
   "metadata": {},
   "source": [
    "The opposite of concatenation is splitting.\n",
    " \n",
    "`np.split`, `np.hsplit`, `np.vsplit`"
   ]
  },
  {
   "cell_type": "code",
   "execution_count": null,
   "metadata": {},
   "outputs": [],
   "source": [
    "arr2"
   ]
  },
  {
   "cell_type": "code",
   "execution_count": null,
   "metadata": {},
   "outputs": [],
   "source": [
    "# Splitting with axis = 0\n",
    "\n",
    "np.split(arr2, 2)"
   ]
  },
  {
   "cell_type": "code",
   "execution_count": null,
   "metadata": {},
   "outputs": [],
   "source": [
    "# Splitting with axis = 1\n",
    "\n",
    "np.array_split(arr2, 2, axis=1)"
   ]
  },
  {
   "cell_type": "code",
   "execution_count": null,
   "metadata": {},
   "outputs": [],
   "source": [
    "# Using hsplit / vsplit\n",
    "\n",
    "np.hsplit(arr2, 2)"
   ]
  },
  {
   "cell_type": "markdown",
   "metadata": {},
   "source": [
    "<a name='computation'></a>\n",
    "## 5. Computation on NumPy arrays \n"
   ]
  },
  {
   "cell_type": "markdown",
   "metadata": {},
   "source": [
    "Computation on NumPy arrays can be very fast if we use *vectorized* operators through *universal functions*, **ufuncs**."
   ]
  },
  {
   "cell_type": "code",
   "execution_count": null,
   "metadata": {},
   "outputs": [],
   "source": [
    "# Creating two arrays\n",
    "\n",
    "arr1d_1 = np.arange(7)\n",
    "arr1d_2 = np.linspace(9, 12, len(arr1d_1))\n",
    "\n",
    "\n",
    "arr2d_1 = np.random.random((4, 5))\n",
    "arr2d_2 = 4 + 6 * np.random.random((4, 5))"
   ]
  },
  {
   "cell_type": "code",
   "execution_count": null,
   "metadata": {},
   "outputs": [],
   "source": [
    "# Addition of two arrays (equivalent of arr1d_1 + arr1d_2)\n",
    "\n",
    "np.add(arr2d_1, arr2d_2)"
   ]
  },
  {
   "cell_type": "code",
   "execution_count": null,
   "metadata": {},
   "outputs": [],
   "source": [
    "# Subtraction of two arrays (equivalent of arr1d_1 - arr1d_2)\n",
    "\n",
    "np.subtract(arr2d_1, arr2d_2)"
   ]
  },
  {
   "cell_type": "code",
   "execution_count": null,
   "metadata": {},
   "outputs": [],
   "source": [
    "# Multiplication of two arrays (equivalent of arr1d_1 * arr1d_2)\n",
    "\n",
    "np.multiply(arr2d_1, arr2d_2)"
   ]
  },
  {
   "cell_type": "code",
   "execution_count": null,
   "metadata": {},
   "outputs": [],
   "source": [
    "# Division of two arrays (equivalent of arr1d_1 + arr1d_2)\n",
    "\n",
    "np.divide(arr2d_1, arr2d_2)"
   ]
  },
  {
   "cell_type": "code",
   "execution_count": null,
   "metadata": {},
   "outputs": [],
   "source": [
    "# Logarithm of an array\n",
    "\n",
    "np.log10(arr2d_1)"
   ]
  },
  {
   "cell_type": "code",
   "execution_count": null,
   "metadata": {},
   "outputs": [],
   "source": [
    "# Exponent of an array\n",
    "\n",
    "np.exp(arr2d_1)"
   ]
  },
  {
   "cell_type": "code",
   "execution_count": null,
   "metadata": {},
   "outputs": [],
   "source": [
    "# Sin of an array\n",
    "\n",
    "np.sin(arr2d_1)"
   ]
  },
  {
   "cell_type": "code",
   "execution_count": null,
   "metadata": {},
   "outputs": [],
   "source": [
    "# Comparison for greate, equivalent arr2d_1 > arr2d_2\n",
    "\n",
    "np.greater(arr2d_1, arr2d_2)"
   ]
  },
  {
   "cell_type": "code",
   "execution_count": null,
   "metadata": {},
   "outputs": [],
   "source": [
    "# Comparison for greate, equivalent arr2d_1 < arr2d_2\n",
    "\n",
    "np.less(arr2d_1, arr2d_2)"
   ]
  },
  {
   "cell_type": "code",
   "execution_count": null,
   "metadata": {},
   "outputs": [],
   "source": [
    "# FInding the absolute of an array, equivalent of np.absolute\n",
    "\n",
    "np.abs([2, -1, 9, -1.2])"
   ]
  },
  {
   "cell_type": "markdown",
   "metadata": {},
   "source": [
    "<a name='aggregations'></a>\n",
    "## 6. Aggregations \n"
   ]
  },
  {
   "cell_type": "markdown",
   "metadata": {},
   "source": [
    "Before doing any operation, it's good to have a summary statistics of the data."
   ]
  },
  {
   "cell_type": "markdown",
   "metadata": {},
   "source": [
    "<a name='summation'></a>\n",
    "###  6.1 Summation \n"
   ]
  },
  {
   "cell_type": "code",
   "execution_count": null,
   "metadata": {},
   "outputs": [],
   "source": [
    "# Let's create an array\n",
    "\n",
    "arr1 = np.random.random((100, 100))\n"
   ]
  },
  {
   "cell_type": "code",
   "execution_count": null,
   "metadata": {},
   "outputs": [],
   "source": [
    "# Sum of values in an array\n",
    "\n",
    "np.sum(arr1)"
   ]
  },
  {
   "cell_type": "code",
   "execution_count": null,
   "metadata": {},
   "outputs": [],
   "source": [
    "# Comparing with Python built-in function\n",
    "\n",
    "big_array = np.random.random(100000)\n",
    "\n",
    "%timeit sum(big_array)\n",
    "%timeit np.sum(big_array)"
   ]
  },
  {
   "cell_type": "markdown",
   "metadata": {},
   "source": [
    "<a name='min_max'></a>\n",
    "###  6.2 Minimum and maximum \n"
   ]
  },
  {
   "cell_type": "code",
   "execution_count": null,
   "metadata": {},
   "outputs": [],
   "source": [
    "# Let's create an array\n",
    "\n",
    "arr1 = np.random.random((6, 5))"
   ]
  },
  {
   "cell_type": "code",
   "execution_count": null,
   "metadata": {},
   "outputs": [],
   "source": [
    "# Finding max along columns\n",
    "\n",
    "arr1.max(axis=0)"
   ]
  },
  {
   "cell_type": "code",
   "execution_count": null,
   "metadata": {},
   "outputs": [],
   "source": [
    "# Finding max along rows\n",
    "arr1.max(axis=1)"
   ]
  },
  {
   "cell_type": "code",
   "execution_count": null,
   "metadata": {},
   "outputs": [],
   "source": [
    "# Finding min\n",
    "arr1.min(axis=0)"
   ]
  },
  {
   "cell_type": "code",
   "execution_count": null,
   "metadata": {},
   "outputs": [],
   "source": [
    "# We can use np.max / np.min as well.\n",
    "np.max(arr1, axis=1)"
   ]
  },
  {
   "cell_type": "markdown",
   "metadata": {},
   "source": [
    "<a name='var_std'></a>\n",
    "### 6.3 Variance and standard deviation \n"
   ]
  },
  {
   "cell_type": "code",
   "execution_count": null,
   "metadata": {},
   "outputs": [],
   "source": [
    "# Let's create an array\n",
    "\n",
    "arr1 = np.random.random((6, 5))"
   ]
  },
  {
   "cell_type": "code",
   "execution_count": null,
   "metadata": {},
   "outputs": [],
   "source": [
    "# calculating the standard deviation of the array\n",
    "\n",
    "np.std(arr1)"
   ]
  },
  {
   "cell_type": "code",
   "execution_count": null,
   "metadata": {},
   "outputs": [],
   "source": [
    "arr1.std()"
   ]
  },
  {
   "cell_type": "code",
   "execution_count": null,
   "metadata": {},
   "outputs": [],
   "source": [
    "# Let's check if std is variance^0.5\n",
    "\n",
    "arr1.std() == np.sqrt(arr1.var())"
   ]
  },
  {
   "cell_type": "code",
   "execution_count": null,
   "metadata": {},
   "outputs": [],
   "source": [
    "# std along rows\n",
    "\n",
    "arr1.std(axis=1)"
   ]
  },
  {
   "cell_type": "code",
   "execution_count": null,
   "metadata": {},
   "outputs": [],
   "source": [
    "# variance along columns\n",
    "\n",
    "arr1.var(axis=0)"
   ]
  },
  {
   "cell_type": "markdown",
   "metadata": {},
   "source": [
    "<a name='mean_median'></a>\n",
    "###  6.4 Mean and median\n"
   ]
  },
  {
   "cell_type": "code",
   "execution_count": null,
   "metadata": {},
   "outputs": [],
   "source": [
    "# Let's create an array\n",
    "\n",
    "arr1 = np.random.random((6, 5))"
   ]
  },
  {
   "cell_type": "code",
   "execution_count": null,
   "metadata": {},
   "outputs": [],
   "source": [
    "# Calculate the mean of the whole array\n",
    "\n",
    "arr1.mean()"
   ]
  },
  {
   "cell_type": "code",
   "execution_count": null,
   "metadata": {},
   "outputs": [],
   "source": [
    "# Calculate the mean along an axis\n",
    "\n",
    "arr1.mean(axis=1)"
   ]
  },
  {
   "cell_type": "code",
   "execution_count": null,
   "metadata": {},
   "outputs": [],
   "source": [
    "# Calculate the mean of the whole array\n",
    "\n",
    "np.median(arr1)"
   ]
  },
  {
   "cell_type": "markdown",
   "metadata": {},
   "source": [
    "<span style='color:red; font-weight:bold;'>Note: </span> An <code>ndarray</code> doesn't have attribute median."
   ]
  },
  {
   "cell_type": "markdown",
   "metadata": {},
   "source": [
    "<a name='find_index'></a>\n",
    "###  6.5 Find index \n"
   ]
  },
  {
   "cell_type": "code",
   "execution_count": null,
   "metadata": {},
   "outputs": [],
   "source": [
    "# Let's create an array\n",
    "\n",
    "arr1 = np.random.random((6, 5))\n",
    "arr1[3, 3] = 0\n",
    "arr1"
   ]
  },
  {
   "cell_type": "code",
   "execution_count": null,
   "metadata": {},
   "outputs": [],
   "source": [
    "# Find the indix of maximum value\n",
    "\n",
    "arr1.argmax()"
   ]
  },
  {
   "cell_type": "code",
   "execution_count": null,
   "metadata": {},
   "outputs": [],
   "source": [
    "# Find the indix of minimum value\n",
    "\n",
    "arr1.argmin()"
   ]
  },
  {
   "cell_type": "code",
   "execution_count": null,
   "metadata": {},
   "outputs": [],
   "source": [
    "# Find the indix of an specific value\n",
    "\n",
    "np.where(arr1 == 0)"
   ]
  },
  {
   "cell_type": "markdown",
   "metadata": {},
   "source": [
    "### [TOP ☝️](#top)\n"
   ]
  }
 ],
 "metadata": {
  "interpreter": {
   "hash": "ece4c4f9c4961c7468795d846fc72c6e00987d764e9134aaba41ea0514f48bf6"
  },
  "kernelspec": {
   "display_name": "Python 3 (ipykernel)",
   "language": "python",
   "name": "python3"
  },
  "language_info": {
   "codemirror_mode": {
    "name": "ipython",
    "version": 3
   },
   "file_extension": ".py",
   "mimetype": "text/x-python",
   "name": "python",
   "nbconvert_exporter": "python",
   "pygments_lexer": "ipython3",
   "version": "3.9.9"
  }
 },
 "nbformat": 4,
 "nbformat_minor": 2
}
