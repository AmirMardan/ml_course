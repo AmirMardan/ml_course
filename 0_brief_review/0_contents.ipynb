{
 "cells": [
  {
   "cell_type": "markdown",
   "metadata": {},
   "source": [
    "This notebook is created by <a href='https://github.com/AmirMardan'> Amir Mardan</a>. For any feedback or suggestion, please contact me via my <a href=\"mailto:mardan.amir.h@gmail.com\">email</a>, (mardan dot amir dot h at gmail dot com)."
   ]
  },
  {
   "cell_type": "markdown",
   "metadata": {},
   "source": [
    "# <center>Machine Learning with Hands-on Coding </center>"
   ]
  },
  {
   "cell_type": "markdown",
   "metadata": {},
   "source": [
    "## Course description"
   ]
  },
  {
   "cell_type": "markdown",
   "metadata": {},
   "source": [
    "When in the 1950s computer scientists started asking whether computers could be made to \"think\", artificial intelligence (AI) was born.\n",
    "AI tries to automate intellectual tasks normally performed by humans. \n",
    "AI is a general and vast field that encompasses machine learning, and deep learning which are usually wrongly sometimes used interchangeably. \n",
    "Let's understand the difference between these three topics.\n",
    "\n",
    "<center><img src='./fig/AI_ML_DL.png' alt=\"AI_vs_ML_vs_DL\"></center>\n",
    "\n",
    "\n",
    "Machine learning arises for answering these questions: could a computer learn on its own how to perform a specific task? Could a computer learn the rules behind a problem by looking at data?\n",
    "If a computer can get these rules, those rules can then be applied to new data to produce the original data.\n",
    "<center><img src='./fig/ML_classical.png' alt='ML_vs_classical'></center>\n",
    "\n",
    "Deep learning however is a subfield of machine learning that focuses on learning successive layers of increasingly meaningful representation.\n",
    "\n",
    "By knowing that machine learning tries to automate the analytical model building, we can apply this technique to different parts of our research from rock physics and geophysical studies to reservoir characterization. \n",
    "This way, the analysis could be faster and more consistent than using traditional methods.\n",
    "\n",
    "To take the best out of machine learning, three tools are required:\n",
    "- programming skill,\n",
    "- mathematics and statics knowledge,\n",
    "- field of application.\n",
    "\n",
    "We start this course by learning Python as our programming language. We walk through machine learning, deep learning, and big data. We discuss the basic principles of machine learning and the most commonly used algorithms. We work on different problems and with the hands-on nature of the course, we code various types of problems together to grasp the different aspects of each algorithm.\n",
    "During the course, we discover the publicly available Python packages that can solve any machine learning problem only with a couple of lines of code. "
   ]
  },
  {
   "cell_type": "markdown",
   "metadata": {},
   "source": [
    "## Course objective"
   ]
  },
  {
   "cell_type": "markdown",
   "metadata": {},
   "source": [
    "1. Learning Python\n",
    "2. Learning git, GitHub, Google colab\n",
    "3. Understanding different machine learning algorithms\n",
    "4. Evaluation and analysis of learning applications"
   ]
  },
  {
   "cell_type": "markdown",
   "metadata": {},
   "source": [
    "## Course outline"
   ]
  },
  {
   "cell_type": "markdown",
   "metadata": {},
   "source": [
    "1. Introduction\n",
    "2. Data manipulation with Numpy\n",
    "3. Data manipulation with Pandas\n",
    "4. Data visualization with Matplotlib\n",
    "5. Data analysis and preparation\n",
    "6. Introduction to machine learning\n",
    "7. Classical machine learning with scikit-learn\n",
    "8. Introduction to artificial neural networks with TensorFlow\n",
    "9. Deep computer vision with TensorFlow\n"
   ]
  },
  {
   "cell_type": "markdown",
   "metadata": {},
   "source": [
    "Please note that no prerequisites are required."
   ]
  },
  {
   "cell_type": "markdown",
   "metadata": {},
   "source": [
    "## References\n"
   ]
  },
  {
   "cell_type": "markdown",
   "metadata": {},
   "source": [
    "VanderPlas, J. (2016). Python data science handbook: Essential tools for working with data. \" O'Reilly Media, Inc.\".\n",
    "\n",
    "Chollet, F. (2021). Deep learning with Python. Simon and Schuster.\n",
    "\n",
    "<a href='https://www.tensorflow.org/guide'>TensorFlow </a>\n",
    "\n",
    "<a href='https://docs.python.org/3/contents.html'> Python </a>\n",
    "\n",
    "<a href='https://scikit-learn.org/stable/user_guide.html'> scikit-learn</a>\n",
    "\n",
    "<a href='https://numpy.org/doc/stable/index.html'> Numpy </a>\n",
    "\n",
    "<a href='https://pandas.pydata.org/docs/'> Pandas </a>\n",
    "\n",
    "<a href='https://matplotlib.org/stable/tutorials/index.html'> Matplotlib </a>\n",
    "\n",
    "<a href='https://seaborn.pydata.org/tutorial.html'> seaborn </a>\n",
    "\n",
    "<a href='https://docs.github.com/en'> GitHub </a>\n",
    "\n",
    "\n",
    "\n",
    "\n",
    "\n",
    "\n",
    "\n"
   ]
  },
  {
   "cell_type": "code",
   "execution_count": null,
   "metadata": {},
   "outputs": [],
   "source": []
  }
 ],
 "metadata": {
  "language_info": {
   "name": "python"
  },
  "orig_nbformat": 4
 },
 "nbformat": 4,
 "nbformat_minor": 2
}
