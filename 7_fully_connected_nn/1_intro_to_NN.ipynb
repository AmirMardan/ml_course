{
 "cells": [
  {
   "cell_type": "markdown",
   "metadata": {},
   "source": [
    "<center>\n",
    "<table style=\"border:none\">\n",
    "    <tr style=\"border:none\">\n",
    "    <th style=\"border:none\">\n",
    "        <a  href='https://colab.research.google.com/github/AmirMardan/ml_course/blob/main/7_fully_connected_nn/1_intro_to_NN.ipynb'><img src='https://colab.research.google.com/assets/colab-badge.svg'></a>\n",
    "    </th>\n",
    "    <th style=\"border:none\">\n",
    "        <a  href='https://github1s.com/AmirMardan/ml_course/blob/main/7_fully_connected_nn/1_intro_to_NN.ipynb'><img src='../imgs/open_vscode.svg' height=20px width=115px></a>\n",
    "    </th>\n",
    "    </tr>\n",
    "</table>\n",
    "</center>\n",
    "\n",
    "\n",
    "This notebook is created by <a href='https://amirmardan.github.io/'> Amir Mardan</a>. For any feedback or suggestion, please contact me via <a href=\"mailto:mardan.amir.h@gmail.com\">email</a>, (mardan.amir.h@gmail.com).\n",
    "\n"
   ]
  },
  {
   "cell_type": "markdown",
   "metadata": {},
   "source": [
    "<a name='top'></a>\n",
    "# Fully Connected Neural Networks\n",
    "\n",
    "In this notebook, we learn about fully connected neural networks (FCNNs).\n",
    "In FCNNs, every node in one layer is connected to all nodes in the previous and the next layer.\n",
    "\n",
    "<center>\n",
    "<img src='./img/fcnns.png' width=400px>\n",
    "<br>\n",
    "<b>Figure 1:</b> An example of fully connected neural network.\n",
    "</center>\n",
    "\n",
    "FCNNs are “structure agnostic” and there are no special assumptions needed to be made about the input.\n",
    "\n",
    "Mathematically speaking, a fully connected layer is a function from $\\mathbb{R}^m$ to $\\mathbb{R}^n$.\n",
    "\n",
    "    Imagine we have the input of fully connected layer as $x \\in \\mathbb{R}^m$.\n",
    "Then, considering the $i$-th output of this layer as $y_i \\in \\mathbb{R}$,\n",
    "\n",
    "$\n",
    "y_i = \\sigma (w_1 x_1 + \\dotsb + w_m x_m),\n",
    "$\n",
    "where $\\sigma$ is an [activation function](https://en.wikipedia.org/wiki/Activation_function) and $w_i$ are learnable parameters in the network.\n",
    "Now, the output of this layer is \n",
    "\n",
    "\\begin{equation}\n",
    "y = \\left[\n",
    "    \\begin{array}{c}\n",
    "    \\sigma (w_{1,1} x_1 + \\dotsb + w_{1,m} x_m)\\\\\n",
    "    \\vdots\\\\\n",
    "    \\sigma (w_{n,1} x_1 + \\dotsb + w_{n,m} x_m)\n",
    "    \\end{array}\n",
    "\\right]\n",
    "\\end{equation}\n",
    "\n",
    "This is how the connection between two layers works.\n",
    "A network with multiple fully connected layers is called a ***deep*** network.\n",
    "However, in this notebook, we create shallow networks from scratch and TensorFlow to learn the basic concept of fully connected networks.\n",
    "\n",
    "This notebook will cover the following topics:\n",
    "\n",
    "- [1. One Input - One Output](#1in_1out)\n",
    "    - [1.1 What does training mean?](#meaning_training)\n",
    "    - [1.2 How to update model parameters](#updating_parameters)\n",
    "    - [1.3 Activation Function](#activation_function)\n",
    "    - [1.4 Pseudo-code For Artificial Neural Network](#Pseudo_code)\n",
    "    - [1.5 Training From Scratch](#training_1)\n",
    "    - [1.6 Training With TensorFlow](#training_1_tf)\n",
    "- [2. Multiple Input - One Output](#2in_1out)\n",
    "    - [2.1 Training From Scratch](#training_2)\n",
    "    - [2.2 Training With TensorFlow](#training_2_tf)"
   ]
  },
  {
   "cell_type": "code",
   "execution_count": 1,
   "metadata": {},
   "outputs": [
    {
     "name": "stdout",
     "output_type": "stream",
     "text": [
      "TensorFlow version: 2.8.0\n"
     ]
    }
   ],
   "source": [
    "import tensorflow as tf\n",
    "import numpy as np\n",
    "import matplotlib.pyplot as plt\n",
    "import copy\n",
    "\n",
    "print(\"TensorFlow version:\", tf.__version__)"
   ]
  },
  {
   "cell_type": "markdown",
   "metadata": {},
   "source": [
    "I'm currently using `TensorFlow version: 2.8.0`."
   ]
  },
  {
   "cell_type": "markdown",
   "metadata": {},
   "source": [
    "<a id='1in_1out'></a>\n",
    "## 1. One Input - One Output"
   ]
  },
  {
   "cell_type": "markdown",
   "metadata": {},
   "source": [
    "Let's talk about the easiest version of NN.\n",
    "\n",
    "\n",
    "\n",
    "<center>\n",
    "<img src='./img/1in_1out.png' alt='1in_1out' height=200px>\n",
    "</center>"
   ]
  },
  {
   "cell_type": "markdown",
   "metadata": {},
   "source": [
    "Imagine we have the input of a fully connected layer as $x \\in \\mathbb{R}^2$.\n",
    "Then, considering the output of this layer as $y \\in \\mathbb{R}$,\n",
    "\n",
    "\\begin{equation}\n",
    "y = \\sigma (b + w_1 x_1),\n",
    "\\end{equation}\n",
    "\n",
    "where $\\sigma$ is an [activation function](https://en.wikipedia.org/wiki/Activation_function) and $w$ and $b$ are learnable parameters in the network.\n",
    "\n",
    "\n",
    "Let's imagine our input has `100` samples while `m = 2`. \n",
    "So, input should have 1 (m - 1) column (`input_shape=1`).\n",
    "We also have only one output, `units = 1`.\n"
   ]
  },
  {
   "cell_type": "code",
   "execution_count": 2,
   "metadata": {},
   "outputs": [
    {
     "name": "stdout",
     "output_type": "stream",
     "text": [
      "Shape of X: (1, 100)\n",
      "Shape of y: (1, 100)\n",
      "Shape of W: (1, 1)\n",
      "Shape of b: ()\n"
     ]
    }
   ],
   "source": [
    "N = 100\n",
    "m = 2 \n",
    "units = 1\n",
    "input_shape = m - 1\n",
    "\n",
    "X = np.random.randn(input_shape, N)\n",
    "b_true = 2\n",
    "w_true = np.array([5]).reshape(input_shape, units)\n",
    "\n",
    "noise_scale = 0.5\n",
    "noise = np.random.normal(scale=noise_scale, size=(1, N))\n",
    "y = w_true.T @ X + b_true + noise\n",
    "\n",
    "print(f\"Shape of X: {X.shape}\")\n",
    "print(f'Shape of y: {y.shape}')\n",
    "print(f'Shape of W: {w_true.shape}')\n",
    "print(f'Shape of b: {np.shape(b_true)}')"
   ]
  },
  {
   "cell_type": "code",
   "execution_count": 3,
   "metadata": {},
   "outputs": [
    {
     "data": {
      "image/png": "[encoded data removed]",
      "text/plain": [
       "<Figure size 432x288 with 1 Axes>"
      ]
     },
     "metadata": {
      "needs_background": "light"
     },
     "output_type": "display_data"
    }
   ],
   "source": [
    "x_test = np.arange(-3, 3, 0.01).reshape(1, -1)\n",
    "y_pred = w_true.T @ x_test + b_true\n",
    "\n",
    "plt.scatter(X, y)\n",
    "plt.plot(x_test.T, y_pred.T, 'r')\n",
    "plt.xlabel('X')\n",
    "plt.ylabel('y')\n",
    "plt.grid()\n",
    "    "
   ]
  },
  {
   "cell_type": "markdown",
   "metadata": {},
   "source": [
    "<a id='meaning_training'></a>\n",
    "### 1.1 What does training mean?"
   ]
  },
  {
   "cell_type": "markdown",
   "metadata": {},
   "source": [
    "As you know, we train a network to predict the correct label for our data samples.\n",
    "As is shown in previous cell (`y_pred = x_test @ w_true + b_true`) the predicted label depends on not only data samples, but also ***weight*** (`w_true`) and ***bias*** (`b_true`) of the model.\n",
    "So, the goal of the neural network is to find the correct weight and bias for a model which can be called model parameters.\n",
    "This is happening by using random values for these two parameters and comparing the predicted value with the correct one.\n",
    "The difference between the predicted and observed value is called ***loss*** or ***cost***.\n",
    "Hence, training is the problem of minimizing the loss by updating the model parameters.\n",
    "So, the general procedure of training can be written as\n",
    "\n",
    "1. Initialize model parameters ($W$ and $b$)\n",
    "2. Calculate the loss\n",
    "3. <b>While</b> loss > desired loss <b>do:</b>\n",
    "\n",
    "    4. update the model parameters\n",
    "    5. Calculate the loss\n"
   ]
  },
  {
   "cell_type": "markdown",
   "metadata": {},
   "source": [
    "<a id='updating_parameters'></a>\n",
    "### 1.2 How to update model parameters?"
   ]
  },
  {
   "cell_type": "markdown",
   "metadata": {},
   "source": [
    "The loss function we use for a regression problem can be mean squared error as\n",
    "\n",
    "\\begin{equation}\n",
    "\\ell = \\frac{1}{N}\\sum_{i=1}^{N}(y_{observed} - y_{predicted})^2,\n",
    "\\end{equation}\n",
    "\n",
    "where $N$ is number of data points."
   ]
  },
  {
   "cell_type": "code",
   "execution_count": 4,
   "metadata": {},
   "outputs": [],
   "source": [
    "def loss_function(y_observed, y_predicted):\n",
    "    n = y_observed.size\n",
    "    \n",
    "    res = y_observed - y_predicted\n",
    "    return 1/n * np.sum(res * res)"
   ]
  },
  {
   "cell_type": "markdown",
   "metadata": {},
   "source": [
    "We know that `w_true = 5`. Let's plot the loss for `w` in a range of [-40 to 40]."
   ]
  },
  {
   "cell_type": "code",
   "execution_count": 5,
   "metadata": {},
   "outputs": [
    {
     "data": {
      "image/png": "[encoded data removed]",
      "text/plain": [
       "<Figure size 432x288 with 1 Axes>"
      ]
     },
     "metadata": {
      "needs_background": "light"
     },
     "output_type": "display_data"
    }
   ],
   "source": [
    "loss = []\n",
    "y_obs = w_true.T @ x_test + b_true\n",
    "\n",
    "ws = np.arange(-40, 40, 2)\n",
    "for w in ws:\n",
    "    w = w.reshape(-1, 1)\n",
    "    y_pred = w.T @ x_test + b_true\n",
    "    \n",
    "    loss.append(loss_function(y_obs, y_pred))\n",
    "    \n",
    "plt.plot(ws, loss, label='Loss')\n",
    "plt.plot(w_true, [0], 'or', label='Minimum loss')\n",
    "plt.xlabel(\"w\")\n",
    "plt.ylabel('Loss')\n",
    "plt.title('Loss function')\n",
    "plt.legend()\n",
    "plt.grid()"
   ]
  },
  {
   "cell_type": "markdown",
   "metadata": {},
   "source": [
    "As we can we, the true weight can be found where loss function has an extreme point.\n",
    "The extreme point of a function is where the gradient of the function is zero.\n",
    "As you can see, if we choose a `w` the higher than the true one, gradient (slope of loss) is positive, so we need to update `w` with **negative** of gradient.\n",
    "If we pick a small `w`, the gradient is negative and we need to update the model parameter again with **negative** of the gradient.\n",
    "Hence, we can say that the gradient of the loss with respect to model parameters gives us the ***learning direction***.\n",
    "\n",
    "You might have guessed from its name that the learning direction just specifies the direction of optimization.\n",
    "The speed of training is defined by ***learning rate*** (`lr`).\n",
    "\n",
    "By having learning direction and learning rate, we can now, update the model parameters\n",
    "\n",
    "\\begin{equation}\n",
    "    \\begin{aligned}\n",
    "        &w := w - lr * \\frac{d\\ell}{dw}\\\\\n",
    "        &b := b - lr * \\frac{d\\ell}{db}\\\\\n",
    "    \\end{aligned}\n",
    "\\end{equation}\n",
    "where $\\frac{d\\ell}{dw}$ and $\\frac{d\\ell}{db}$ are the gradient of the loss with respect to $w$ and $b$, respectively."
   ]
  },
  {
   "cell_type": "markdown",
   "metadata": {},
   "source": [
    "<a id='activation_function'></a>\n",
    "### 1.3 Activation Function"
   ]
  },
  {
   "cell_type": "markdown",
   "metadata": {},
   "source": [
    "The nodes in artificial neural networks perform two operations,\n",
    "1. Calculate the weighted sum of inputs,\n",
    "2. Pass the result of step 1 into an [activation function](https://en.wikipedia.org/wiki/Activation_function).\n",
    "\n",
    "For linear regression this activation function is linear.\n",
    "$\n",
    "a = \\sigma(z) = z.\n",
    "$\n",
    "where \n",
    "\n",
    "$\n",
    "z = W^T X  + b.\n",
    "$\n",
    "Thereby, we can even ignore it.\n",
    "However as we're looking for the general structure of artificial neural networks, it's better to be considered in our computations."
   ]
  },
  {
   "cell_type": "code",
   "execution_count": 6,
   "metadata": {},
   "outputs": [],
   "source": [
    "def sigma(z):\n",
    "    return z "
   ]
  },
  {
   "cell_type": "markdown",
   "metadata": {},
   "source": [
    "<a id='Pseudo_code'></a>\n",
    "### 1.4 Pseudo-code For Artificial Neural Network\n",
    "\n"
   ]
  },
  {
   "cell_type": "markdown",
   "metadata": {},
   "source": [
    "The following steps are showing the general procedure of training a fully connected network.\n",
    "\n",
    "1. Choose $lr$\n",
    "2. Initialize $W$ and $b$\n",
    "\n",
    "    3. Calculate $z =  W^Tx + b$\n",
    "    4. Activate $a = \\sigma(z)$\n",
    "    5. Calculate the cost function ($\\ell$)\n",
    "    6. Calculate $\\frac{d\\ell}{da}$\n",
    "    7. Calculate $\\frac{d\\ell}{dz}$\n",
    "    8. Calcculate $\\frac{d\\ell}{dw}$ and $\\frac{d\\ell}{db}$\n",
    "    9. Update $W$ and $b$ as \n",
    "        \\begin{equation}\n",
    "            \\begin{aligned}\n",
    "                W := W - \\alpha * \\frac{d\\ell}{dw}\\\\\n",
    "                b := b - \\alpha * \\frac{d\\ell}{db}\\\\\n",
    "            \\end{aligned}\n",
    "        \\end{equation}\n",
    "    10. Return to step 3.\n",
    "\n",
    "\n",
    "\n"
   ]
  },
  {
   "cell_type": "markdown",
   "metadata": {},
   "source": [
    "Steps 6 to 8 are based on the [chain rule](https://www.khanacademy.org/math/ap-calculus-ab/ab-differentiation-2-new/ab-3-1a/a/chain-rule-review) where we compute the gradient of the cost function with respect to model parameters using [automatic differentiation](https://en.wikipedia.org/wiki/Automatic_differentiation).\n",
    "\n",
    "Based on the chain rule,\n",
    "\n",
    "\\begin{equation}\n",
    "    \\begin{aligned}\n",
    "        &\\frac{d\\ell}{dW} = \\frac{d\\ell}{da} \\frac{da}{dz} \\frac{dz}{dW},\\\\\n",
    "        &\\frac{d\\ell}{db} = \\frac{d\\ell}{da} \\frac{da}{dz} \\frac{dz}{db}.\n",
    "    \\end{aligned}\n",
    "\\end{equation}\n",
    "\n",
    "We have\n",
    "\n",
    "\\begin{equation}\n",
    "    \\begin{aligned}\n",
    "        &\\frac{d\\ell}{da} = \\frac{2}{m} (a - y),\\\\\n",
    "    \\end{aligned}\n",
    "\\end{equation}\n",
    "and as we are using linear activation function, \n",
    "<!-- \\begin{equation}\n",
    "    \\begin{aligned}\n",
    "        &\\frac{d\\ell}{dz} = &\\frac{d\\ell}{da} \\frac{da}{dz},\\\\\n",
    "    \\end{aligned}\n",
    "\\end{equation}\n",
    "where -->\n",
    "\\begin{equation}\n",
    "    \\begin{aligned}\n",
    "         &\\frac{da}{dz} = 1,  %(1 - a)\n",
    "    \\end{aligned}\n",
    "\\end{equation}\n",
    "\n",
    "\n",
    "and\n",
    "\\begin{equation}\n",
    "    \\begin{aligned}\n",
    "        &\\frac{dz}{dW} = X^T,\\\\\n",
    "        &\\frac{dz}{db} = 1.\\\\\n",
    "    \\end{aligned}\n",
    "\\end{equation}\n",
    "\n",
    "\n",
    "\n"
   ]
  },
  {
   "cell_type": "markdown",
   "metadata": {},
   "source": [
    "Finally\n",
    "\n",
    "\\begin{equation}\n",
    "    \\begin{aligned}\n",
    "        &\\frac{d\\ell}{dW} = (a - y) X^T,\\\\\n",
    "        &\\frac{d\\ell}{db} = (a - y).\n",
    "    \\end{aligned}\n",
    "\\end{equation}"
   ]
  },
  {
   "cell_type": "code",
   "execution_count": 7,
   "metadata": {},
   "outputs": [],
   "source": [
    "# Step 1. Choose learning rate\n",
    "\n",
    "lr = 0.001"
   ]
  },
  {
   "cell_type": "code",
   "execution_count": 8,
   "metadata": {},
   "outputs": [],
   "source": [
    "# Step 2. Initialize W and b\n",
    "\n",
    "def initialize_weights(units, n_input):\n",
    "    params = {\n",
    "        'w': np.random.random((n_input, units)),\n",
    "        'b': np.random.random((1, 1))\n",
    "    }\n",
    "    return params"
   ]
  },
  {
   "cell_type": "code",
   "execution_count": 9,
   "metadata": {},
   "outputs": [],
   "source": [
    "# Step 3. Calculate z = xw + b\n",
    "\n",
    "def fun(x, lerning_params):\n",
    "    W = lerning_params['w']\n",
    "    b = lerning_params['b']\n",
    "    \n",
    "    return  W.T @ x + b"
   ]
  },
  {
   "cell_type": "code",
   "execution_count": 10,
   "metadata": {},
   "outputs": [],
   "source": [
    "# Step 4. Activate function\n",
    "\n",
    "def sigma(z):\n",
    "    return z \n"
   ]
  },
  {
   "cell_type": "code",
   "execution_count": 11,
   "metadata": {},
   "outputs": [],
   "source": [
    "# Step 5. Calculate the cost function\n",
    "\n",
    "def loss_function(z, y_true):\n",
    "    m = y_true.size\n",
    "    \n",
    "    res = z - y_true\n",
    "    return 1/m * np.sum(res * res)"
   ]
  },
  {
   "cell_type": "code",
   "execution_count": 12,
   "metadata": {},
   "outputs": [],
   "source": [
    "# Step 6. Calculate dl/da\n",
    "\n",
    "def dl_da(a, y):\n",
    "    return a - y"
   ]
  },
  {
   "cell_type": "code",
   "execution_count": 13,
   "metadata": {},
   "outputs": [],
   "source": [
    "# Step 7. Calculate dl/dz\n",
    "\n",
    "def dl_dz(a, da):\n",
    "    da_dz = 1\n",
    "    \n",
    "    dz = da * da_dz\n",
    "    return dz"
   ]
  },
  {
   "cell_type": "code",
   "execution_count": 14,
   "metadata": {},
   "outputs": [],
   "source": [
    "# Step 8. Calculate dl/dw and dl/db\n",
    "\n",
    "def dparams(X, dz):\n",
    "    grad = {\n",
    "        \n",
    "        'dw': X @ dz.T,\n",
    "        'db': np.sum(dz)\n",
    "    }\n",
    "    return grad"
   ]
  },
  {
   "cell_type": "code",
   "execution_count": 15,
   "metadata": {},
   "outputs": [],
   "source": [
    "# Step 9. Update W and b\n",
    "\n",
    "def update(params, grad, lr):\n",
    "    params['w'] -= lr * grad['dw']\n",
    "    params['b'] -= lr * grad['db']\n",
    "    return params"
   ]
  },
  {
   "cell_type": "code",
   "execution_count": 16,
   "metadata": {},
   "outputs": [],
   "source": [
    "def plot_test(lerning_params, title=None):\n",
    "\n",
    "    x_test = np.arange(-3, 3, 0.01).reshape(1,-1)\n",
    "    y_pred = fun(x_test, lerning_params)\n",
    "\n",
    "    plt.scatter(X, y)\n",
    "    plt.plot(x_test.T, y_pred.T, 'r')\n",
    "    plt.xlabel('X')\n",
    "    plt.ylabel('y')\n",
    "    plt.grid()\n",
    "    plt.title(title)"
   ]
  },
  {
   "cell_type": "markdown",
   "metadata": {},
   "source": [
    "<a id='training_1'></a>\n",
    "### 1.5 Training From Scratch"
   ]
  },
  {
   "cell_type": "markdown",
   "metadata": {},
   "source": [
    "Now, we perform the training by executing the mentioned steps."
   ]
  },
  {
   "cell_type": "code",
   "execution_count": 17,
   "metadata": {},
   "outputs": [
    {
     "name": "stdout",
     "output_type": "stream",
     "text": [
      "Epoch: 0, loss: 32.422784677922294\n"
     ]
    },
    {
     "data": {
      "image/png": "[encoded data removed]",
      "text/plain": [
       "<Figure size 432x288 with 1 Axes>"
      ]
     },
     "metadata": {
      "needs_background": "light"
     },
     "output_type": "display_data"
    }
   ],
   "source": [
    "# Training\n",
    "epochs = 20  # Number of iteration\n",
    "hist = []   # Placeholder to keep the loss in each step\n",
    "\n",
    "lr = 0.002                                              # Step 1: Choose learning rate\n",
    "lerning_params = initialize_weights(1, 1)               # Step 2. Initialize W and b\n",
    "initial_weights = copy.deepcopy(lerning_params)  \n",
    "\n",
    "for i in range(epochs):\n",
    "    z = fun(X, lerning_params)                          # Step 3. Calculate z = xw + b\n",
    "    a = sigma(z)                                        # Step 4. Activate function\n",
    "    loss = loss_function(a, y)                          # Step 5. Calculate the cost function\n",
    "    hist.append(loss)     # keep track of losses              \n",
    "    da = dl_da(a, y)                                    # Step 6. Calculate dl/da\n",
    "    dz = dl_dz(a, da)                                   # Step 7. Calculate dl/dz\n",
    "    grad = dparams(X, dz)                               # Step 8. Calculate dl/dw and dl/db\n",
    "    lerning_params = update(lerning_params, grad, lr)   # Step 9. Update W and b\n",
    "    \n",
    "    if i%20 ==0:\n",
    "        print(f\"Epoch: {i}, loss: {loss}\")\n",
    "\n",
    "plt.figure()\n",
    "plt.plot(hist)\n",
    "plt.grid()"
   ]
  },
  {
   "cell_type": "markdown",
   "metadata": {},
   "source": [
    "Let's plot the result of untrained and trained models."
   ]
  },
  {
   "cell_type": "code",
   "execution_count": 18,
   "metadata": {},
   "outputs": [
    {
     "data": {
      "image/png": "[encoded data removed]",
      "text/plain": [
       "<Figure size 648x288 with 2 Axes>"
      ]
     },
     "metadata": {
      "needs_background": "light"
     },
     "output_type": "display_data"
    }
   ],
   "source": [
    "fig = plt.figure(figsize=(9, 4))\n",
    "ax = fig.add_subplot(121)\n",
    "plot_test(initial_weights, 'Before training')\n",
    "\n",
    "ax = fig.add_subplot(122)\n",
    "plot_test(lerning_params, 'After training')\n",
    "\n"
   ]
  },
  {
   "cell_type": "markdown",
   "metadata": {},
   "source": [
    "<a id='training_1_tf'></a>\n",
    "### 1.6 Training With TensorFlow"
   ]
  },
  {
   "cell_type": "markdown",
   "metadata": {},
   "source": [
    "The same problem can be solved easily with TensorFlow.\n",
    "\n",
    "We create a network with one layer which gets one input (`input_shape=[1]`) and gives one output (`units=1`). This layer uses linear activation (`activation='linear'`)."
   ]
  },
  {
   "cell_type": "code",
   "execution_count": 19,
   "metadata": {},
   "outputs": [
    {
     "name": "stderr",
     "output_type": "stream",
     "text": [
      "2022-04-24 19:29:02.321553: I tensorflow/core/platform/cpu_feature_guard.cc:151] This TensorFlow binary is optimized with oneAPI Deep Neural Network Library (oneDNN) to use the following CPU instructions in performance-critical operations:  AVX2 FMA\n",
      "To enable them in other operations, rebuild TensorFlow with the appropriate compiler flags.\n"
     ]
    }
   ],
   "source": [
    "from tensorflow import keras\n",
    "\n",
    "class LinearRegression(keras.Model):\n",
    "    def __init__(self, units, input_shape):\n",
    "        super(LinearRegression, self).__init__()\n",
    "        self.dense = keras.layers.Dense(units=units, input_shape=input_shape, activation='linear')\n",
    "    \n",
    "    def call(self, inputs):\n",
    "        x = self.dense(inputs)\n",
    "        return x\n",
    "    \n",
    "    \n",
    "model = keras.Sequential([\n",
    "    LinearRegression(units=1, input_shape=[1])\n",
    "    ])    \n",
    "   "
   ]
  },
  {
   "cell_type": "markdown",
   "metadata": {},
   "source": [
    "After creating the model, we compile it."
   ]
  },
  {
   "cell_type": "code",
   "execution_count": 20,
   "metadata": {},
   "outputs": [],
   "source": [
    "model.compile(optimizer='sgd',      # Gradient descent optimizer\n",
    "              loss='mse'            # Mean squared error as loss function \n",
    ") "
   ]
  },
  {
   "cell_type": "markdown",
   "metadata": {},
   "source": [
    "And now, we train the model"
   ]
  },
  {
   "cell_type": "code",
   "execution_count": 21,
   "metadata": {},
   "outputs": [],
   "source": [
    "history = model.fit(X.T,              # Training samples\n",
    "                    y.T,              # Training labels\n",
    "                    epochs=epochs,  # Number of iteration\n",
    "                    verbose=0       # Status of prining information \n",
    "                    )"
   ]
  },
  {
   "cell_type": "code",
   "execution_count": 22,
   "metadata": {},
   "outputs": [
    {
     "name": "stdout",
     "output_type": "stream",
     "text": [
      "Model: \"sequential\"\n",
      "_________________________________________________________________\n",
      " Layer (type)                Output Shape              Param #   \n",
      "=================================================================\n",
      " linear_regression (LinearRe  (None, 1)                2         \n",
      " gression)                                                       \n",
      "                                                                 \n",
      "=================================================================\n",
      "Total params: 2\n",
      "Trainable params: 2\n",
      "Non-trainable params: 0\n",
      "_________________________________________________________________\n"
     ]
    }
   ],
   "source": [
    "model.summary()"
   ]
  },
  {
   "cell_type": "markdown",
   "metadata": {},
   "source": [
    "Let's compare the result of our linear regression and TensorFlow's."
   ]
  },
  {
   "cell_type": "code",
   "execution_count": 23,
   "metadata": {},
   "outputs": [
    {
     "data": {
      "image/png": "[encoded data removed]",
      "text/plain": [
       "<Figure size 576x288 with 2 Axes>"
      ]
     },
     "metadata": {
      "needs_background": "light"
     },
     "output_type": "display_data"
    }
   ],
   "source": [
    "fig = plt.figure(figsize=(8, 4))\n",
    "ax = fig.add_subplot(121)\n",
    "ax.plot(history.history['loss'])\n",
    "ax.set_title('TensorFlow')\n",
    "ax.grid()\n",
    "ax = fig.add_subplot(122)\n",
    "ax.plot(hist)\n",
    "ax.set_title('From scratch')\n",
    "ax.grid()"
   ]
  },
  {
   "cell_type": "markdown",
   "metadata": {},
   "source": [
    "We can get the model parameters using `model.weights`."
   ]
  },
  {
   "cell_type": "code",
   "execution_count": 24,
   "metadata": {},
   "outputs": [],
   "source": [
    "tf_params = {'w': model.weights[0].numpy(),\n",
    "             'b': model.weights[1].numpy()\n",
    "}"
   ]
  },
  {
   "cell_type": "code",
   "execution_count": 25,
   "metadata": {},
   "outputs": [
    {
     "data": {
      "image/png": "[encoded data removed]",
      "text/plain": [
       "<Figure size 648x288 with 2 Axes>"
      ]
     },
     "metadata": {
      "needs_background": "light"
     },
     "output_type": "display_data"
    }
   ],
   "source": [
    "fig = plt.figure(figsize=(9, 4))\n",
    "ax = fig.add_subplot(121)\n",
    "plot_test(tf_params, 'TensorFlow')\n",
    "\n",
    "ax = fig.add_subplot(122)\n",
    "plot_test(lerning_params, 'From scratch')"
   ]
  },
  {
   "cell_type": "markdown",
   "metadata": {},
   "source": [
    "Before going further, I organize our training code as follows"
   ]
  },
  {
   "cell_type": "code",
   "execution_count": 26,
   "metadata": {},
   "outputs": [],
   "source": [
    "class LinearRegression_scratch():\n",
    "    def __init__(self, units, n_input, lr=0.002, verbose=0):\n",
    "        self. n_input = n_input\n",
    "        self.lr = lr\n",
    "        self.verbose = verbose\n",
    "        self.units = units\n",
    "        \n",
    "        self.weights = initialize_weights(units=units, n_input=n_input)\n",
    "        \n",
    "    def fit(self, X, y, epochs):\n",
    "        history = {'loss': []}   \n",
    "\n",
    "        for i in range(epochs):\n",
    "            z = fun(X, self.weights)                          \n",
    "            a = sigma(z)                                        \n",
    "            loss = loss_function(a, y)                          \n",
    "            history['loss'].append(loss)                  \n",
    "            da = dl_da(a, y)                                   \n",
    "            dz = dl_dz(a, da)                                \n",
    "            grad = dparams(X, dz)                              \n",
    "\n",
    "            update(self.weights, grad, self.lr)  \n",
    "            \n",
    "            if self.verbose == 1:\n",
    "                print(f\"Epoch: {i}, loss: {loss}\")\n",
    "        \n",
    "        return history"
   ]
  },
  {
   "cell_type": "markdown",
   "metadata": {},
   "source": [
    "<a id='2in_1out'></a>\n",
    "## 2. Multiple Input - One Output"
   ]
  },
  {
   "cell_type": "markdown",
   "metadata": {},
   "source": [
    "Now let's make a model with multi-dimensional input.\n",
    "\n",
    "<center>\n",
    "<img src='./img/2in_1out.png' alt='2in_1out' height=200px>\n",
    "</center>\n"
   ]
  },
  {
   "cell_type": "code",
   "execution_count": 27,
   "metadata": {},
   "outputs": [
    {
     "name": "stdout",
     "output_type": "stream",
     "text": [
      "Shape of X: (2, 100)\n",
      "Shape of W: (2, 1)\n",
      "Shape of y: (1, 100)\n",
      "Shape of b: ()\n"
     ]
    }
   ],
   "source": [
    "N = 100\n",
    "m = 3 \n",
    "units = 1\n",
    "input_shape = m - 1\n",
    "\n",
    "X = np.random.randn(input_shape, N)\n",
    "b_true = 2\n",
    "w_true = np.array([5, 2]).reshape(input_shape, units)\n",
    "\n",
    "noise_scale = 0.5\n",
    "noise = np.random.normal(scale=noise_scale, size=(1, N))\n",
    "y = w_true.T @ X + b_true + noise\n",
    "\n",
    "print(f\"Shape of X: {X.shape}\")\n",
    "print(f'Shape of W: {w_true.shape}')\n",
    "print(f'Shape of y: {y.shape}')\n",
    "print(f'Shape of b: {np.shape(b_true)}')"
   ]
  },
  {
   "cell_type": "code",
   "execution_count": 28,
   "metadata": {},
   "outputs": [
    {
     "data": {
      "image/png": "[encoded data removed]",
      "text/plain": [
       "<Figure size 720x288 with 2 Axes>"
      ]
     },
     "metadata": {
      "needs_background": "light"
     },
     "output_type": "display_data"
    }
   ],
   "source": [
    "def plot_test_2in(lerning_params, title=None):\n",
    "\n",
    "    x_test = np.vstack((np.arange(-3, 3, 0.01).reshape(1, -1),\n",
    "                    np.arange(-3, 3, 0.01).reshape(1, -1)))\n",
    "\n",
    "    y_pred = fun(x_test, lerning_params)\n",
    "\n",
    "    fig = plt.figure(figsize=(10, 4))\n",
    "    ax = fig.add_subplot(121)\n",
    "    ax.scatter(X[0, :], y)\n",
    "    plt.plot(x_test[0, :].T, y_pred.T, 'r')\n",
    "    ax.set_xlabel('$X_1$')\n",
    "    ax.set_ylabel('y')\n",
    "    plt.grid()\n",
    "\n",
    "    ax = fig.add_subplot(122)\n",
    "    ax.scatter(X[1, :], y)\n",
    "    plt.plot(x_test[1, :].T, y_pred.T, 'r')\n",
    "    ax.set_xlabel('$X_2$')\n",
    "    ax.set_ylabel('y')\n",
    "    plt.grid()\n",
    "    plt.suptitle(title)\n",
    "    \n",
    "plot_test_2in({'w':w_true, 'b':b_true}, title=None)\n"
   ]
  },
  {
   "cell_type": "markdown",
   "metadata": {},
   "source": [
    "Thereby, the number of inputs in this part is 2."
   ]
  },
  {
   "cell_type": "code",
   "execution_count": 29,
   "metadata": {},
   "outputs": [],
   "source": [
    "n_input = 2"
   ]
  },
  {
   "cell_type": "markdown",
   "metadata": {},
   "source": [
    "<a id='training_2'></a>\n",
    "### 2.1 Training From Scratch"
   ]
  },
  {
   "cell_type": "code",
   "execution_count": 30,
   "metadata": {},
   "outputs": [
    {
     "data": {
      "image/png": "[encoded data removed]",
      "text/plain": [
       "<Figure size 432x288 with 1 Axes>"
      ]
     },
     "metadata": {
      "needs_background": "light"
     },
     "output_type": "display_data"
    }
   ],
   "source": [
    "# Training\n",
    "epochs = 10  # Number of iteration\n",
    "\n",
    "model_scratch = LinearRegression_scratch(units=units, n_input=n_input)\n",
    "hist =  model_scratch.fit(X, y, epochs)\n",
    "\n",
    "plt.figure()\n",
    "plt.plot(hist['loss'])\n",
    "plt.grid()"
   ]
  },
  {
   "cell_type": "markdown",
   "metadata": {},
   "source": [
    "Finally the result is"
   ]
  },
  {
   "cell_type": "code",
   "execution_count": 31,
   "metadata": {},
   "outputs": [
    {
     "data": {
      "image/png": "[encoded data removed]",
      "text/plain": [
       "<Figure size 720x288 with 2 Axes>"
      ]
     },
     "metadata": {
      "needs_background": "light"
     },
     "output_type": "display_data"
    }
   ],
   "source": [
    "plot_test_2in(model_scratch.weights, title='Trained Model')"
   ]
  },
  {
   "cell_type": "markdown",
   "metadata": {},
   "source": [
    "<a id='training_2_tf'></a>\n",
    "### 2.2 Training With TensorFlow"
   ]
  },
  {
   "cell_type": "markdown",
   "metadata": {},
   "source": [
    "Now, let's train the model using TensorFlow."
   ]
  },
  {
   "cell_type": "code",
   "execution_count": 32,
   "metadata": {},
   "outputs": [
    {
     "name": "stdout",
     "output_type": "stream",
     "text": [
      "Model: \"sequential_1\"\n",
      "_________________________________________________________________\n",
      " Layer (type)                Output Shape              Param #   \n",
      "=================================================================\n",
      " linear_regression_1 (Linear  (None, 1)                3         \n",
      " Regression)                                                     \n",
      "                                                                 \n",
      "=================================================================\n",
      "Total params: 3\n",
      "Trainable params: 3\n",
      "Non-trainable params: 0\n",
      "_________________________________________________________________\n"
     ]
    }
   ],
   "source": [
    "model = keras.Sequential([\n",
    "    LinearRegression(units=1, input_shape=[n_input])\n",
    "    ])  \n",
    "\n",
    "model.compile(optimizer='sgd',\n",
    "              loss='mse'\n",
    "              )\n",
    "\n",
    "history = model.fit(X.T, y.T, epochs=epochs, verbose=0)\n",
    "\n",
    "model.summary()\n",
    "        "
   ]
  },
  {
   "cell_type": "markdown",
   "metadata": {},
   "source": [
    "As is shown, we have 3 parameters to train ($w_1$, $w_2$, and $b$)."
   ]
  },
  {
   "cell_type": "code",
   "execution_count": 33,
   "metadata": {},
   "outputs": [
    {
     "data": {
      "image/png": "[encoded data removed]",
      "text/plain": [
       "<Figure size 576x288 with 2 Axes>"
      ]
     },
     "metadata": {
      "needs_background": "light"
     },
     "output_type": "display_data"
    }
   ],
   "source": [
    "fig = plt.figure(figsize=(8, 4))\n",
    "ax = fig.add_subplot(121)\n",
    "ax.plot(history.history['loss'])\n",
    "ax.set_title('TensorFlow')\n",
    "ax.grid()\n",
    "ax = fig.add_subplot(122)\n",
    "ax.plot(hist['loss'])\n",
    "ax.set_title('From scratch')\n",
    "ax.grid()"
   ]
  },
  {
   "cell_type": "code",
   "execution_count": 34,
   "metadata": {},
   "outputs": [],
   "source": [
    "tf_params = {'w': model.weights[0].numpy(),\n",
    "             'b': model.weights[1].numpy()\n",
    "}"
   ]
  },
  {
   "cell_type": "code",
   "execution_count": 35,
   "metadata": {},
   "outputs": [
    {
     "data": {
      "image/png": "[encoded data removed]",
      "text/plain": [
       "<Figure size 720x288 with 2 Axes>"
      ]
     },
     "metadata": {
      "needs_background": "light"
     },
     "output_type": "display_data"
    }
   ],
   "source": [
    "plot_test_2in(tf_params, title='TensorFlow')"
   ]
  },
  {
   "cell_type": "code",
   "execution_count": 36,
   "metadata": {},
   "outputs": [
    {
     "name": "stdout",
     "output_type": "stream",
     "text": [
      "True value of weights: [5 2]\n",
      "Weights from our code: [4.46124921 1.88815475]\n",
      "Weights from our TensorFlow: [2.6159163 0.6902651]\n"
     ]
    }
   ],
   "source": [
    "print(f\"True value of weights: {w_true.reshape(-1)}\")\n",
    "print(f\"Weights from our code: {model_scratch.weights['w'].reshape(-1)}\")\n",
    "print(f\"Weights from TensorFlow: {tf_params['w'].reshape(-1)}\")\n"
   ]
  },
  {
   "cell_type": "code",
   "execution_count": 37,
   "metadata": {},
   "outputs": [
    {
     "name": "stdout",
     "output_type": "stream",
     "text": [
      "True value of bias: 2\n",
      "Bias from our code: [1.78891717]\n",
      "Bias from our TensorFlow: [1.0209153]\n"
     ]
    }
   ],
   "source": [
    "print(f\"True value of bias: {b_true}\")\n",
    "print(f\"Bias from our code: {model_scratch.weights['b'].reshape(-1)}\")\n",
    "print(f\"Bias from TensorFlow: {tf_params['b'].reshape(-1)}\")"
   ]
  },
  {
   "cell_type": "markdown",
   "metadata": {},
   "source": [
    "### [TOP ☝️](#top)"
   ]
  }
 ],
 "metadata": {
  "interpreter": {
   "hash": "70b38d7a306a849643e446cd70466270a13445e5987dfa1344ef2b127438fa4d"
  },
  "kernelspec": {
   "display_name": "Python 3 (ipykernel)",
   "language": "python",
   "name": "python3"
  },
  "language_info": {
   "codemirror_mode": {
    "name": "ipython",
    "version": 3
   },
   "file_extension": ".py",
   "mimetype": "text/x-python",
   "name": "python",
   "nbconvert_exporter": "python",
   "pygments_lexer": "ipython3",
   "version": "3.9.9"
  }
 },
 "nbformat": 4,
 "nbformat_minor": 2
}
