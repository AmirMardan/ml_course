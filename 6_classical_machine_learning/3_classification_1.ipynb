{
 "cells": [
  {
   "cell_type": "markdown",
   "metadata": {},
   "source": [
    "<center>\n",
    "<table style=\"border:none\">\n",
    "    <tr style=\"border:none\">\n",
    "    <th style=\"border:none\">\n",
    "        <a  href='https://colab.research.google.com/github/AmirMardan/ml_course/blob/main/6_classical_machine_learning/3_classification_1.ipynb'><img src='https://colab.research.google.com/assets/colab-badge.svg'></a>\n",
    "    </th>\n",
    "    <th style=\"border:none\">\n",
    "        <a  href='https://github1s.com/AmirMardan/ml_course/blob/main/6_classical_machine_learning/3_classification_1.ipynb'><img src='../imgs/open_vscode.svg' height=20px width=115px></a>\n",
    "    </th>\n",
    "    </tr>\n",
    "</table>\n",
    "</center>\n",
    "\n",
    "\n",
    "This notebook is created by <a href='https://github.com/AmirMardan'> Amir Mardan</a>. For any feedback or suggestion, please contact me via <a href=\"mailto:mardan.amir.h@gmail.com\">email</a>, (mardan.amir.h@gmail.com).\n",
    "\n"
   ]
  },
  {
   "cell_type": "markdown",
   "metadata": {},
   "source": [
    "<a name='top'></a>\n",
    "# Classification 1\n",
    "\n",
    "In a classification problem, we need to predict the label of a sample which is a discrete value (class).\n",
    "There are different methods to train a model for predicting the class of data samples.\n",
    "In this notebook, we learn how to use \n",
    "\n",
    "- Logistic regression\n",
    "- Support vector machine (SVM)\n",
    "- Random forest method\n",
    "- Confusion matrix\n",
    "\n",
    "This notebook will cover the following topics:\n",
    "\n",
    "- [1. Data Preparation](#preparation)\n",
    "- [2. Logistic Regression](#logistic_regression)\n",
    "- [3. Support Vector Machine](#svm)\n",
    "- [4. Random Forest Classifier](#random_forest)\n",
    "\n",
    "This notebook is created to classify handwritten digits. Let's import required packages and the dataset."
   ]
  },
  {
   "cell_type": "code",
   "execution_count": 1,
   "metadata": {},
   "outputs": [],
   "source": [
    "import numpy as np\n",
    "import pandas as pd\n",
    "import matplotlib.pyplot as plt\n",
    "import seaborn as sns\n"
   ]
  },
  {
   "cell_type": "code",
   "execution_count": 2,
   "metadata": {},
   "outputs": [
    {
     "name": "stdout",
     "output_type": "stream",
     "text": [
      "X:  (1797, 64)\n",
      "y:  (1797,)\n"
     ]
    }
   ],
   "source": [
    "from sklearn.datasets import load_digits\n",
    "\n",
    "X, y = load_digits(return_X_y=True)\n",
    "print('X: ', X.shape)\n",
    "print('y: ', y.shape)\n"
   ]
  },
  {
   "cell_type": "code",
   "execution_count": 3,
   "metadata": {},
   "outputs": [
    {
     "data": {
      "image/png": "[encoded data removed]",
      "text/plain": [
       "<Figure size 576x360 with 15 Axes>"
      ]
     },
     "metadata": {
      "needs_background": "light"
     },
     "output_type": "display_data"
    }
   ],
   "source": [
    "fig, ax = plt.subplots(3, 5, figsize=(8, 5),\n",
    "                       sharex=True, sharey=True)\n",
    "\n",
    "idx = np.random.randint(0, X.shape[0], 15)\n",
    "for i, ax in enumerate(ax.flat):\n",
    "    \n",
    "    ax.imshow(X[idx[i], :].reshape(8, 8), cmap='gray')\n",
    "    ax.axis('off')\n",
    "    "
   ]
  },
  {
   "cell_type": "markdown",
   "metadata": {},
   "source": [
    "<a id='preparation'></a>\n",
    "## 1. Data Preparation"
   ]
  },
  {
   "cell_type": "code",
   "execution_count": 4,
   "metadata": {},
   "outputs": [
    {
     "name": "stdout",
     "output_type": "stream",
     "text": [
      "Train:  (1527, 64)\n",
      "Test:  (270, 64)\n"
     ]
    }
   ],
   "source": [
    "from sklearn.model_selection import train_test_split\n",
    "\n",
    "X /= X.max()\n",
    "\n",
    "X_train, X_test, y_train, y_test = train_test_split(X, y,\n",
    "                                                    test_size=0.15,\n",
    "                                                    random_state=1)\n",
    "\n",
    "print('Train: ', X_train.shape)\n",
    "print('Test: ', X_test.shape)"
   ]
  },
  {
   "cell_type": "markdown",
   "metadata": {},
   "source": [
    "<a id='logistic_regression'></a>\n",
    "## 2. Logistic Regression"
   ]
  },
  {
   "cell_type": "markdown",
   "metadata": {},
   "source": [
    "Logistic regression model takes advantage of a logistic function to put the output of a linear equation between 0 and 1.\n",
    "This logistic function is called the sigmoid function.\n",
    "\n",
    "$\n",
    "\\hat y = \\frac{1}{1 + e^{-z}}\n",
    "$\n",
    "\n",
    "<center>\n",
    "<img src='https://miro.medium.com/max/389/1*AfEJcd0kq6xUnoaWG8SyTg.png'>\n",
    "</center>\n"
   ]
  },
  {
   "cell_type": "markdown",
   "metadata": {},
   "source": [
    "The sigmoid function returns a probability score between 0 and 1. In order to map this score to a categorical class, we define a threshold value\n",
    "\n",
    "\\begin{equation}\n",
    "\\begin{cases}\n",
    "p \\geq 0.5, \\quad \\text{class } 1\\\\\n",
    "p < 0.5, \\quad \\text{class } 0\\\\\n",
    "\\end{cases}\n",
    "\\end{equation}\n",
    "\n",
    "Logistic regression uses the cross-entropy cost function as\n",
    "\n",
    "\\begin{equation}\n",
    "J(y, \\hat y) = -\\frac{1}{m}\\sum_{i=1}^m [y^{(i)} log(\\hat y^{(i)}) + (1 - y^{(i)}) log(1 - \\hat y^{(i)})].\n",
    "\\end{equation}\n"
   ]
  },
  {
   "cell_type": "code",
   "execution_count": 5,
   "metadata": {},
   "outputs": [
    {
     "name": "stderr",
     "output_type": "stream",
     "text": [
      "/Users/amir/repos/venv/AI/lib/python3.7/site-packages/sklearn/linear_model/_logistic.py:818: ConvergenceWarning: lbfgs failed to converge (status=1):\n",
      "STOP: TOTAL NO. of ITERATIONS REACHED LIMIT.\n",
      "\n",
      "Increase the number of iterations (max_iter) or scale the data as shown in:\n",
      "    https://scikit-learn.org/stable/modules/preprocessing.html\n",
      "Please also refer to the documentation for alternative solver options:\n",
      "    https://scikit-learn.org/stable/modules/linear_model.html#logistic-regression\n",
      "  extra_warning_msg=_LOGISTIC_SOLVER_CONVERGENCE_MSG,\n"
     ]
    },
    {
     "data": {
      "text/plain": [
       "LogisticRegression()"
      ]
     },
     "execution_count": 5,
     "metadata": {},
     "output_type": "execute_result"
    }
   ],
   "source": [
    "from sklearn.linear_model import LogisticRegression\n",
    "from sklearn.model_selection import cross_val_score\n",
    "\n",
    "log_model = LogisticRegression()\n",
    "log_model.fit(X_train, y_train)\n"
   ]
  },
  {
   "cell_type": "markdown",
   "metadata": {},
   "source": [
    "**Confusion Matrix**\n",
    "\n",
    "Using confusion matrix, we can see how the model works and which labels are making trouble for model to predict correctly."
   ]
  },
  {
   "cell_type": "code",
   "execution_count": 6,
   "metadata": {},
   "outputs": [
    {
     "data": {
      "image/png": "[encoded data removed]",
      "text/plain": [
       "<Figure size 432x288 with 1 Axes>"
      ]
     },
     "metadata": {
      "needs_background": "light"
     },
     "output_type": "display_data"
    }
   ],
   "source": [
    "from sklearn.metrics import confusion_matrix\n",
    "\n",
    "y_pred = log_model.predict(X_train)\n",
    "\n",
    "def confusion_matrix_plot(y_pred, y_true):\n",
    "    ax = sns.heatmap(confusion_matrix(y_true, y_pred),\n",
    "                annot=True, fmt='d', cbar=False)\n",
    "\n",
    "    ax.set_ylabel('True')\n",
    "    ax.set_xlabel('Predicted')\n",
    "    ax.set_title('Confusion matrix with training data');\n",
    "    \n",
    "    \n",
    "confusion_matrix_plot(y_train, y_pred)\n",
    "    \n",
    "\n"
   ]
  },
  {
   "cell_type": "markdown",
   "metadata": {},
   "source": [
    "We can also measure the score of the model using `accuracy_score` which shows the best model with a score of 1."
   ]
  },
  {
   "cell_type": "code",
   "execution_count": 7,
   "metadata": {},
   "outputs": [
    {
     "name": "stdout",
     "output_type": "stream",
     "text": [
      "Score: 0.982973149967256\n"
     ]
    }
   ],
   "source": [
    "from sklearn.metrics import confusion_matrix, accuracy_score\n",
    "\n",
    "\n",
    "print(f'Score: {accuracy_score(y_train, y_pred, normalize=True)}')"
   ]
  },
  {
   "cell_type": "code",
   "execution_count": 8,
   "metadata": {},
   "outputs": [
    {
     "name": "stdout",
     "output_type": "stream",
     "text": [
      "Score: 0.9777777777777777\n"
     ]
    },
    {
     "data": {
      "image/png": "[encoded data removed]",
      "text/plain": [
       "<Figure size 432x288 with 1 Axes>"
      ]
     },
     "metadata": {
      "needs_background": "light"
     },
     "output_type": "display_data"
    }
   ],
   "source": [
    "y_pred = log_model.predict(X_test)\n",
    "\n",
    "confusion_matrix_plot(y_test, y_pred)\n",
    "\n",
    "\n",
    "print(f'Score: {accuracy_score(y_test, y_pred)}')"
   ]
  },
  {
   "cell_type": "code",
   "execution_count": 9,
   "metadata": {},
   "outputs": [
    {
     "data": {
      "image/png": "[encoded data removed]",
      "text/plain": [
       "<Figure size 576x360 with 6 Axes>"
      ]
     },
     "metadata": {
      "needs_background": "light"
     },
     "output_type": "display_data"
    }
   ],
   "source": [
    "def wrong_classified_plot(X_true, y_true, y_pred):\n",
    "    idx = y_true != y_pred\n",
    "    X_wrong = X_true[idx]\n",
    "\n",
    "    n_wrong = X_wrong.shape[0]\n",
    "\n",
    "\n",
    "    fig, ax = plt.subplots(2, int(n_wrong/2), figsize=(8, 5),\n",
    "                        sharex=True, sharey=True)\n",
    "\n",
    "    for i, ax in enumerate(ax.flat):\n",
    "        \n",
    "        ax.imshow(X_wrong[i, :].reshape(8, 8), cmap='gray')\n",
    "        ax.axis('off')\n",
    "        ax.set_title(f'T: {y_true[idx][i]}, P: {y_pred[idx][i]}')\n",
    "        \n",
    "        \n",
    "wrong_classified_plot(X_test, y_test, y_pred)"
   ]
  },
  {
   "cell_type": "markdown",
   "metadata": {},
   "source": [
    "<a id='svm'></a>\n",
    "## 3. Support Vector Machine"
   ]
  },
  {
   "cell_type": "markdown",
   "metadata": {},
   "source": [
    "Support vector machines (SVMs) are kernel-based machine learning methods that can be used for classification and regression.\n",
    "The point about SVMs is that they use the hyperplane that has the maximum distance to the data points.\n",
    "\n",
    "<center>\n",
    "<img src='./img/hyperplane.png' width='400px' alt='hyperplane'>\n",
    "</center>\n",
    "\n"
   ]
  },
  {
   "cell_type": "code",
   "execution_count": 10,
   "metadata": {},
   "outputs": [
    {
     "data": {
      "text/plain": [
       "SVC(C=0.01, kernel='linear')"
      ]
     },
     "execution_count": 10,
     "metadata": {},
     "output_type": "execute_result"
    }
   ],
   "source": [
    "from sklearn.svm import SVC\n",
    "\n",
    "svm = SVC(kernel='linear', C=.01)\n",
    "svm.fit(X_train, y_train)\n",
    "\n"
   ]
  },
  {
   "cell_type": "code",
   "execution_count": 11,
   "metadata": {},
   "outputs": [
    {
     "name": "stdout",
     "output_type": "stream",
     "text": [
      "Score: 0.9423706614276359\n"
     ]
    },
    {
     "data": {
      "image/png": "[encoded data removed]",
      "text/plain": [
       "<Figure size 432x288 with 1 Axes>"
      ]
     },
     "metadata": {
      "needs_background": "light"
     },
     "output_type": "display_data"
    }
   ],
   "source": [
    "y_pred = svm.predict(X_train)\n",
    "\n",
    "confusion_matrix_plot(y_pred, y_train)\n",
    "\n",
    "print(f'Score: {accuracy_score(y_train, y_pred)}')\n"
   ]
  },
  {
   "cell_type": "code",
   "execution_count": 12,
   "metadata": {},
   "outputs": [
    {
     "name": "stdout",
     "output_type": "stream",
     "text": [
      "Score: 0.9555555555555556\n"
     ]
    },
    {
     "data": {
      "image/png": "[encoded data removed]",
      "text/plain": [
       "<Figure size 432x288 with 1 Axes>"
      ]
     },
     "metadata": {
      "needs_background": "light"
     },
     "output_type": "display_data"
    }
   ],
   "source": [
    "y_pred = svm.predict(X_test)\n",
    "\n",
    "confusion_matrix_plot(y_pred, y_test)\n",
    "\n",
    "print(f'Score: {accuracy_score(y_test, y_pred)}')"
   ]
  },
  {
   "cell_type": "code",
   "execution_count": 13,
   "metadata": {},
   "outputs": [
    {
     "data": {
      "image/png": "[encoded data removed]",
      "text/plain": [
       "<Figure size 576x360 with 12 Axes>"
      ]
     },
     "metadata": {
      "needs_background": "light"
     },
     "output_type": "display_data"
    }
   ],
   "source": [
    "wrong_classified_plot(X_test, y_test, y_pred)"
   ]
  },
  {
   "cell_type": "code",
   "execution_count": 14,
   "metadata": {},
   "outputs": [
    {
     "name": "stdout",
     "output_type": "stream",
     "text": [
      "Fitting 5 folds for each of 54 candidates, totalling 270 fits\n",
      "[CV] END .............C=0.01, degree=2, gamma=1, kernel=poly; total time=   0.0s\n",
      "[CV] END .............C=0.01, degree=2, gamma=1, kernel=poly; total time=   0.0s\n",
      "[CV] END .............C=0.01, degree=2, gamma=1, kernel=poly; total time=   0.0s\n",
      "[CV] END .............C=0.01, degree=2, gamma=1, kernel=poly; total time=   0.0s\n",
      "[CV] END .............C=0.01, degree=2, gamma=1, kernel=poly; total time=   0.0s\n",
      "[CV] END ...........C=0.01, degree=2, gamma=1, kernel=linear; total time=   0.1s\n",
      "[CV] END ...........C=0.01, degree=2, gamma=1, kernel=linear; total time=   0.1s\n",
      "[CV] END ...........C=0.01, degree=2, gamma=1, kernel=linear; total time=   0.1s\n",
      "[CV] END ...........C=0.01, degree=2, gamma=1, kernel=linear; total time=   0.1s\n",
      "[CV] END ...........C=0.01, degree=2, gamma=1, kernel=linear; total time=   0.1s\n",
      "[CV] END ...........C=0.01, degree=2, gamma=0.1, kernel=poly; total time=   0.1s\n",
      "[CV] END ...........C=0.01, degree=2, gamma=0.1, kernel=poly; total time=   0.1s\n",
      "[CV] END ...........C=0.01, degree=2, gamma=0.1, kernel=poly; total time=   0.1s\n",
      "[CV] END ...........C=0.01, degree=2, gamma=0.1, kernel=poly; total time=   0.1s\n",
      "[CV] END ...........C=0.01, degree=2, gamma=0.1, kernel=poly; total time=   0.1s\n",
      "[CV] END .........C=0.01, degree=2, gamma=0.1, kernel=linear; total time=   0.1s\n",
      "[CV] END .........C=0.01, degree=2, gamma=0.1, kernel=linear; total time=   0.1s\n",
      "[CV] END .........C=0.01, degree=2, gamma=0.1, kernel=linear; total time=   0.1s\n",
      "[CV] END .........C=0.01, degree=2, gamma=0.1, kernel=linear; total time=   0.1s\n",
      "[CV] END .........C=0.01, degree=2, gamma=0.1, kernel=linear; total time=   0.1s\n",
      "[CV] END ..........C=0.01, degree=2, gamma=0.01, kernel=poly; total time=   0.1s\n",
      "[CV] END ..........C=0.01, degree=2, gamma=0.01, kernel=poly; total time=   0.1s\n",
      "[CV] END ..........C=0.01, degree=2, gamma=0.01, kernel=poly; total time=   0.1s\n",
      "[CV] END ..........C=0.01, degree=2, gamma=0.01, kernel=poly; total time=   0.1s\n",
      "[CV] END ..........C=0.01, degree=2, gamma=0.01, kernel=poly; total time=   0.1s\n",
      "[CV] END ........C=0.01, degree=2, gamma=0.01, kernel=linear; total time=   0.1s\n",
      "[CV] END ........C=0.01, degree=2, gamma=0.01, kernel=linear; total time=   0.1s\n",
      "[CV] END ........C=0.01, degree=2, gamma=0.01, kernel=linear; total time=   0.1s\n",
      "[CV] END ........C=0.01, degree=2, gamma=0.01, kernel=linear; total time=   0.1s\n",
      "[CV] END ........C=0.01, degree=2, gamma=0.01, kernel=linear; total time=   0.1s\n",
      "[CV] END .............C=0.01, degree=3, gamma=1, kernel=poly; total time=   0.0s\n",
      "[CV] END .............C=0.01, degree=3, gamma=1, kernel=poly; total time=   0.0s\n",
      "[CV] END .............C=0.01, degree=3, gamma=1, kernel=poly; total time=   0.0s\n",
      "[CV] END .............C=0.01, degree=3, gamma=1, kernel=poly; total time=   0.0s\n",
      "[CV] END .............C=0.01, degree=3, gamma=1, kernel=poly; total time=   0.0s\n",
      "[CV] END ...........C=0.01, degree=3, gamma=1, kernel=linear; total time=   0.1s\n",
      "[CV] END ...........C=0.01, degree=3, gamma=1, kernel=linear; total time=   0.1s\n",
      "[CV] END ...........C=0.01, degree=3, gamma=1, kernel=linear; total time=   0.1s\n",
      "[CV] END ...........C=0.01, degree=3, gamma=1, kernel=linear; total time=   0.1s\n",
      "[CV] END ...........C=0.01, degree=3, gamma=1, kernel=linear; total time=   0.1s\n",
      "[CV] END ...........C=0.01, degree=3, gamma=0.1, kernel=poly; total time=   0.1s\n",
      "[CV] END ...........C=0.01, degree=3, gamma=0.1, kernel=poly; total time=   0.1s\n",
      "[CV] END ...........C=0.01, degree=3, gamma=0.1, kernel=poly; total time=   0.1s\n",
      "[CV] END ...........C=0.01, degree=3, gamma=0.1, kernel=poly; total time=   0.1s\n",
      "[CV] END ...........C=0.01, degree=3, gamma=0.1, kernel=poly; total time=   0.1s\n",
      "[CV] END .........C=0.01, degree=3, gamma=0.1, kernel=linear; total time=   0.1s\n",
      "[CV] END .........C=0.01, degree=3, gamma=0.1, kernel=linear; total time=   0.1s\n",
      "[CV] END .........C=0.01, degree=3, gamma=0.1, kernel=linear; total time=   0.1s\n",
      "[CV] END .........C=0.01, degree=3, gamma=0.1, kernel=linear; total time=   0.1s\n",
      "[CV] END .........C=0.01, degree=3, gamma=0.1, kernel=linear; total time=   0.1s\n",
      "[CV] END ..........C=0.01, degree=3, gamma=0.01, kernel=poly; total time=   0.1s\n",
      "[CV] END ..........C=0.01, degree=3, gamma=0.01, kernel=poly; total time=   0.1s\n",
      "[CV] END ..........C=0.01, degree=3, gamma=0.01, kernel=poly; total time=   0.1s\n",
      "[CV] END ..........C=0.01, degree=3, gamma=0.01, kernel=poly; total time=   0.2s\n",
      "[CV] END ..........C=0.01, degree=3, gamma=0.01, kernel=poly; total time=   0.2s\n",
      "[CV] END ........C=0.01, degree=3, gamma=0.01, kernel=linear; total time=   0.1s\n",
      "[CV] END ........C=0.01, degree=3, gamma=0.01, kernel=linear; total time=   0.1s\n",
      "[CV] END ........C=0.01, degree=3, gamma=0.01, kernel=linear; total time=   0.1s\n",
      "[CV] END ........C=0.01, degree=3, gamma=0.01, kernel=linear; total time=   0.1s\n",
      "[CV] END ........C=0.01, degree=3, gamma=0.01, kernel=linear; total time=   0.1s\n",
      "[CV] END .............C=0.01, degree=4, gamma=1, kernel=poly; total time=   0.0s\n",
      "[CV] END .............C=0.01, degree=4, gamma=1, kernel=poly; total time=   0.0s\n",
      "[CV] END .............C=0.01, degree=4, gamma=1, kernel=poly; total time=   0.0s\n",
      "[CV] END .............C=0.01, degree=4, gamma=1, kernel=poly; total time=   0.0s\n",
      "[CV] END .............C=0.01, degree=4, gamma=1, kernel=poly; total time=   0.0s\n",
      "[CV] END ...........C=0.01, degree=4, gamma=1, kernel=linear; total time=   0.1s\n",
      "[CV] END ...........C=0.01, degree=4, gamma=1, kernel=linear; total time=   0.1s\n",
      "[CV] END ...........C=0.01, degree=4, gamma=1, kernel=linear; total time=   0.1s\n",
      "[CV] END ...........C=0.01, degree=4, gamma=1, kernel=linear; total time=   0.1s\n",
      "[CV] END ...........C=0.01, degree=4, gamma=1, kernel=linear; total time=   0.1s\n",
      "[CV] END ...........C=0.01, degree=4, gamma=0.1, kernel=poly; total time=   0.1s\n",
      "[CV] END ...........C=0.01, degree=4, gamma=0.1, kernel=poly; total time=   0.1s\n",
      "[CV] END ...........C=0.01, degree=4, gamma=0.1, kernel=poly; total time=   0.1s\n",
      "[CV] END ...........C=0.01, degree=4, gamma=0.1, kernel=poly; total time=   0.1s\n",
      "[CV] END ...........C=0.01, degree=4, gamma=0.1, kernel=poly; total time=   0.1s\n",
      "[CV] END .........C=0.01, degree=4, gamma=0.1, kernel=linear; total time=   0.1s\n",
      "[CV] END .........C=0.01, degree=4, gamma=0.1, kernel=linear; total time=   0.1s\n",
      "[CV] END .........C=0.01, degree=4, gamma=0.1, kernel=linear; total time=   0.1s\n",
      "[CV] END .........C=0.01, degree=4, gamma=0.1, kernel=linear; total time=   0.1s\n",
      "[CV] END .........C=0.01, degree=4, gamma=0.1, kernel=linear; total time=   0.1s\n",
      "[CV] END ..........C=0.01, degree=4, gamma=0.01, kernel=poly; total time=   0.2s\n",
      "[CV] END ..........C=0.01, degree=4, gamma=0.01, kernel=poly; total time=   0.1s\n",
      "[CV] END ..........C=0.01, degree=4, gamma=0.01, kernel=poly; total time=   0.1s\n",
      "[CV] END ..........C=0.01, degree=4, gamma=0.01, kernel=poly; total time=   0.1s\n",
      "[CV] END ..........C=0.01, degree=4, gamma=0.01, kernel=poly; total time=   0.1s\n",
      "[CV] END ........C=0.01, degree=4, gamma=0.01, kernel=linear; total time=   0.1s\n",
      "[CV] END ........C=0.01, degree=4, gamma=0.01, kernel=linear; total time=   0.1s\n",
      "[CV] END ........C=0.01, degree=4, gamma=0.01, kernel=linear; total time=   0.1s\n",
      "[CV] END ........C=0.01, degree=4, gamma=0.01, kernel=linear; total time=   0.1s\n",
      "[CV] END ........C=0.01, degree=4, gamma=0.01, kernel=linear; total time=   0.1s\n",
      "[CV] END ................C=1, degree=2, gamma=1, kernel=poly; total time=   0.0s\n",
      "[CV] END ................C=1, degree=2, gamma=1, kernel=poly; total time=   0.0s\n",
      "[CV] END ................C=1, degree=2, gamma=1, kernel=poly; total time=   0.0s\n",
      "[CV] END ................C=1, degree=2, gamma=1, kernel=poly; total time=   0.0s\n",
      "[CV] END ................C=1, degree=2, gamma=1, kernel=poly; total time=   0.0s\n",
      "[CV] END ..............C=1, degree=2, gamma=1, kernel=linear; total time=   0.0s\n",
      "[CV] END ..............C=1, degree=2, gamma=1, kernel=linear; total time=   0.0s\n",
      "[CV] END ..............C=1, degree=2, gamma=1, kernel=linear; total time=   0.0s\n",
      "[CV] END ..............C=1, degree=2, gamma=1, kernel=linear; total time=   0.0s\n",
      "[CV] END ..............C=1, degree=2, gamma=1, kernel=linear; total time=   0.0s\n",
      "[CV] END ..............C=1, degree=2, gamma=0.1, kernel=poly; total time=   0.0s\n",
      "[CV] END ..............C=1, degree=2, gamma=0.1, kernel=poly; total time=   0.0s\n",
      "[CV] END ..............C=1, degree=2, gamma=0.1, kernel=poly; total time=   0.0s\n",
      "[CV] END ..............C=1, degree=2, gamma=0.1, kernel=poly; total time=   0.0s\n",
      "[CV] END ..............C=1, degree=2, gamma=0.1, kernel=poly; total time=   0.0s\n",
      "[CV] END ............C=1, degree=2, gamma=0.1, kernel=linear; total time=   0.0s\n",
      "[CV] END ............C=1, degree=2, gamma=0.1, kernel=linear; total time=   0.0s\n",
      "[CV] END ............C=1, degree=2, gamma=0.1, kernel=linear; total time=   0.0s\n",
      "[CV] END ............C=1, degree=2, gamma=0.1, kernel=linear; total time=   0.0s\n",
      "[CV] END ............C=1, degree=2, gamma=0.1, kernel=linear; total time=   0.0s\n",
      "[CV] END .............C=1, degree=2, gamma=0.01, kernel=poly; total time=   0.1s\n",
      "[CV] END .............C=1, degree=2, gamma=0.01, kernel=poly; total time=   0.1s\n",
      "[CV] END .............C=1, degree=2, gamma=0.01, kernel=poly; total time=   0.1s\n",
      "[CV] END .............C=1, degree=2, gamma=0.01, kernel=poly; total time=   0.1s\n",
      "[CV] END .............C=1, degree=2, gamma=0.01, kernel=poly; total time=   0.1s\n",
      "[CV] END ...........C=1, degree=2, gamma=0.01, kernel=linear; total time=   0.0s\n",
      "[CV] END ...........C=1, degree=2, gamma=0.01, kernel=linear; total time=   0.0s\n",
      "[CV] END ...........C=1, degree=2, gamma=0.01, kernel=linear; total time=   0.0s\n",
      "[CV] END ...........C=1, degree=2, gamma=0.01, kernel=linear; total time=   0.0s\n",
      "[CV] END ...........C=1, degree=2, gamma=0.01, kernel=linear; total time=   0.0s\n",
      "[CV] END ................C=1, degree=3, gamma=1, kernel=poly; total time=   0.0s\n",
      "[CV] END ................C=1, degree=3, gamma=1, kernel=poly; total time=   0.0s\n",
      "[CV] END ................C=1, degree=3, gamma=1, kernel=poly; total time=   0.0s\n",
      "[CV] END ................C=1, degree=3, gamma=1, kernel=poly; total time=   0.0s\n",
      "[CV] END ................C=1, degree=3, gamma=1, kernel=poly; total time=   0.0s\n",
      "[CV] END ..............C=1, degree=3, gamma=1, kernel=linear; total time=   0.0s\n",
      "[CV] END ..............C=1, degree=3, gamma=1, kernel=linear; total time=   0.0s\n",
      "[CV] END ..............C=1, degree=3, gamma=1, kernel=linear; total time=   0.0s\n",
      "[CV] END ..............C=1, degree=3, gamma=1, kernel=linear; total time=   0.0s\n",
      "[CV] END ..............C=1, degree=3, gamma=1, kernel=linear; total time=   0.0s\n",
      "[CV] END ..............C=1, degree=3, gamma=0.1, kernel=poly; total time=   0.0s\n",
      "[CV] END ..............C=1, degree=3, gamma=0.1, kernel=poly; total time=   0.0s\n",
      "[CV] END ..............C=1, degree=3, gamma=0.1, kernel=poly; total time=   0.0s\n",
      "[CV] END ..............C=1, degree=3, gamma=0.1, kernel=poly; total time=   0.0s\n",
      "[CV] END ..............C=1, degree=3, gamma=0.1, kernel=poly; total time=   0.0s\n",
      "[CV] END ............C=1, degree=3, gamma=0.1, kernel=linear; total time=   0.0s\n",
      "[CV] END ............C=1, degree=3, gamma=0.1, kernel=linear; total time=   0.0s\n",
      "[CV] END ............C=1, degree=3, gamma=0.1, kernel=linear; total time=   0.0s\n",
      "[CV] END ............C=1, degree=3, gamma=0.1, kernel=linear; total time=   0.0s\n",
      "[CV] END ............C=1, degree=3, gamma=0.1, kernel=linear; total time=   0.0s\n",
      "[CV] END .............C=1, degree=3, gamma=0.01, kernel=poly; total time=   0.1s\n",
      "[CV] END .............C=1, degree=3, gamma=0.01, kernel=poly; total time=   0.1s\n",
      "[CV] END .............C=1, degree=3, gamma=0.01, kernel=poly; total time=   0.1s\n",
      "[CV] END .............C=1, degree=3, gamma=0.01, kernel=poly; total time=   0.1s\n",
      "[CV] END .............C=1, degree=3, gamma=0.01, kernel=poly; total time=   0.1s\n",
      "[CV] END ...........C=1, degree=3, gamma=0.01, kernel=linear; total time=   0.0s\n",
      "[CV] END ...........C=1, degree=3, gamma=0.01, kernel=linear; total time=   0.0s\n",
      "[CV] END ...........C=1, degree=3, gamma=0.01, kernel=linear; total time=   0.0s\n",
      "[CV] END ...........C=1, degree=3, gamma=0.01, kernel=linear; total time=   0.0s\n",
      "[CV] END ...........C=1, degree=3, gamma=0.01, kernel=linear; total time=   0.0s\n",
      "[CV] END ................C=1, degree=4, gamma=1, kernel=poly; total time=   0.0s\n",
      "[CV] END ................C=1, degree=4, gamma=1, kernel=poly; total time=   0.0s\n",
      "[CV] END ................C=1, degree=4, gamma=1, kernel=poly; total time=   0.0s\n",
      "[CV] END ................C=1, degree=4, gamma=1, kernel=poly; total time=   0.0s\n",
      "[CV] END ................C=1, degree=4, gamma=1, kernel=poly; total time=   0.0s\n",
      "[CV] END ..............C=1, degree=4, gamma=1, kernel=linear; total time=   0.0s\n",
      "[CV] END ..............C=1, degree=4, gamma=1, kernel=linear; total time=   0.0s\n",
      "[CV] END ..............C=1, degree=4, gamma=1, kernel=linear; total time=   0.0s\n",
      "[CV] END ..............C=1, degree=4, gamma=1, kernel=linear; total time=   0.0s\n",
      "[CV] END ..............C=1, degree=4, gamma=1, kernel=linear; total time=   0.0s\n",
      "[CV] END ..............C=1, degree=4, gamma=0.1, kernel=poly; total time=   0.0s\n",
      "[CV] END ..............C=1, degree=4, gamma=0.1, kernel=poly; total time=   0.0s\n",
      "[CV] END ..............C=1, degree=4, gamma=0.1, kernel=poly; total time=   0.0s\n",
      "[CV] END ..............C=1, degree=4, gamma=0.1, kernel=poly; total time=   0.0s\n",
      "[CV] END ..............C=1, degree=4, gamma=0.1, kernel=poly; total time=   0.0s\n",
      "[CV] END ............C=1, degree=4, gamma=0.1, kernel=linear; total time=   0.0s\n",
      "[CV] END ............C=1, degree=4, gamma=0.1, kernel=linear; total time=   0.0s\n",
      "[CV] END ............C=1, degree=4, gamma=0.1, kernel=linear; total time=   0.0s\n",
      "[CV] END ............C=1, degree=4, gamma=0.1, kernel=linear; total time=   0.0s\n",
      "[CV] END ............C=1, degree=4, gamma=0.1, kernel=linear; total time=   0.0s\n",
      "[CV] END .............C=1, degree=4, gamma=0.01, kernel=poly; total time=   0.1s\n",
      "[CV] END .............C=1, degree=4, gamma=0.01, kernel=poly; total time=   0.1s\n",
      "[CV] END .............C=1, degree=4, gamma=0.01, kernel=poly; total time=   0.1s\n",
      "[CV] END .............C=1, degree=4, gamma=0.01, kernel=poly; total time=   0.1s\n",
      "[CV] END .............C=1, degree=4, gamma=0.01, kernel=poly; total time=   0.1s\n",
      "[CV] END ...........C=1, degree=4, gamma=0.01, kernel=linear; total time=   0.0s\n",
      "[CV] END ...........C=1, degree=4, gamma=0.01, kernel=linear; total time=   0.0s\n",
      "[CV] END ...........C=1, degree=4, gamma=0.01, kernel=linear; total time=   0.0s\n",
      "[CV] END ...........C=1, degree=4, gamma=0.01, kernel=linear; total time=   0.0s\n",
      "[CV] END ...........C=1, degree=4, gamma=0.01, kernel=linear; total time=   0.0s\n",
      "[CV] END ...............C=10, degree=2, gamma=1, kernel=poly; total time=   0.0s\n",
      "[CV] END ...............C=10, degree=2, gamma=1, kernel=poly; total time=   0.0s\n",
      "[CV] END ...............C=10, degree=2, gamma=1, kernel=poly; total time=   0.0s\n",
      "[CV] END ...............C=10, degree=2, gamma=1, kernel=poly; total time=   0.0s\n",
      "[CV] END ...............C=10, degree=2, gamma=1, kernel=poly; total time=   0.0s\n",
      "[CV] END .............C=10, degree=2, gamma=1, kernel=linear; total time=   0.0s\n",
      "[CV] END .............C=10, degree=2, gamma=1, kernel=linear; total time=   0.0s\n",
      "[CV] END .............C=10, degree=2, gamma=1, kernel=linear; total time=   0.0s\n",
      "[CV] END .............C=10, degree=2, gamma=1, kernel=linear; total time=   0.0s\n",
      "[CV] END .............C=10, degree=2, gamma=1, kernel=linear; total time=   0.0s\n",
      "[CV] END .............C=10, degree=2, gamma=0.1, kernel=poly; total time=   0.0s\n",
      "[CV] END .............C=10, degree=2, gamma=0.1, kernel=poly; total time=   0.0s\n",
      "[CV] END .............C=10, degree=2, gamma=0.1, kernel=poly; total time=   0.0s\n",
      "[CV] END .............C=10, degree=2, gamma=0.1, kernel=poly; total time=   0.0s\n",
      "[CV] END .............C=10, degree=2, gamma=0.1, kernel=poly; total time=   0.0s\n",
      "[CV] END ...........C=10, degree=2, gamma=0.1, kernel=linear; total time=   0.0s\n",
      "[CV] END ...........C=10, degree=2, gamma=0.1, kernel=linear; total time=   0.0s\n",
      "[CV] END ...........C=10, degree=2, gamma=0.1, kernel=linear; total time=   0.0s\n",
      "[CV] END ...........C=10, degree=2, gamma=0.1, kernel=linear; total time=   0.0s\n",
      "[CV] END ...........C=10, degree=2, gamma=0.1, kernel=linear; total time=   0.0s\n",
      "[CV] END ............C=10, degree=2, gamma=0.01, kernel=poly; total time=   0.1s\n",
      "[CV] END ............C=10, degree=2, gamma=0.01, kernel=poly; total time=   0.1s\n",
      "[CV] END ............C=10, degree=2, gamma=0.01, kernel=poly; total time=   0.1s\n",
      "[CV] END ............C=10, degree=2, gamma=0.01, kernel=poly; total time=   0.1s\n",
      "[CV] END ............C=10, degree=2, gamma=0.01, kernel=poly; total time=   0.1s\n",
      "[CV] END ..........C=10, degree=2, gamma=0.01, kernel=linear; total time=   0.0s\n",
      "[CV] END ..........C=10, degree=2, gamma=0.01, kernel=linear; total time=   0.0s\n",
      "[CV] END ..........C=10, degree=2, gamma=0.01, kernel=linear; total time=   0.0s\n",
      "[CV] END ..........C=10, degree=2, gamma=0.01, kernel=linear; total time=   0.0s\n",
      "[CV] END ..........C=10, degree=2, gamma=0.01, kernel=linear; total time=   0.0s\n",
      "[CV] END ...............C=10, degree=3, gamma=1, kernel=poly; total time=   0.0s\n",
      "[CV] END ...............C=10, degree=3, gamma=1, kernel=poly; total time=   0.0s\n",
      "[CV] END ...............C=10, degree=3, gamma=1, kernel=poly; total time=   0.0s\n",
      "[CV] END ...............C=10, degree=3, gamma=1, kernel=poly; total time=   0.0s\n",
      "[CV] END ...............C=10, degree=3, gamma=1, kernel=poly; total time=   0.0s\n",
      "[CV] END .............C=10, degree=3, gamma=1, kernel=linear; total time=   0.0s\n",
      "[CV] END .............C=10, degree=3, gamma=1, kernel=linear; total time=   0.0s\n",
      "[CV] END .............C=10, degree=3, gamma=1, kernel=linear; total time=   0.0s\n",
      "[CV] END .............C=10, degree=3, gamma=1, kernel=linear; total time=   0.0s\n",
      "[CV] END .............C=10, degree=3, gamma=1, kernel=linear; total time=   0.0s\n",
      "[CV] END .............C=10, degree=3, gamma=0.1, kernel=poly; total time=   0.0s\n",
      "[CV] END .............C=10, degree=3, gamma=0.1, kernel=poly; total time=   0.0s\n",
      "[CV] END .............C=10, degree=3, gamma=0.1, kernel=poly; total time=   0.0s\n",
      "[CV] END .............C=10, degree=3, gamma=0.1, kernel=poly; total time=   0.0s\n",
      "[CV] END .............C=10, degree=3, gamma=0.1, kernel=poly; total time=   0.0s\n",
      "[CV] END ...........C=10, degree=3, gamma=0.1, kernel=linear; total time=   0.0s\n",
      "[CV] END ...........C=10, degree=3, gamma=0.1, kernel=linear; total time=   0.0s\n",
      "[CV] END ...........C=10, degree=3, gamma=0.1, kernel=linear; total time=   0.0s\n",
      "[CV] END ...........C=10, degree=3, gamma=0.1, kernel=linear; total time=   0.0s\n",
      "[CV] END ...........C=10, degree=3, gamma=0.1, kernel=linear; total time=   0.0s\n",
      "[CV] END ............C=10, degree=3, gamma=0.01, kernel=poly; total time=   0.1s\n",
      "[CV] END ............C=10, degree=3, gamma=0.01, kernel=poly; total time=   0.1s\n",
      "[CV] END ............C=10, degree=3, gamma=0.01, kernel=poly; total time=   0.1s\n",
      "[CV] END ............C=10, degree=3, gamma=0.01, kernel=poly; total time=   0.1s\n",
      "[CV] END ............C=10, degree=3, gamma=0.01, kernel=poly; total time=   0.1s\n",
      "[CV] END ..........C=10, degree=3, gamma=0.01, kernel=linear; total time=   0.0s\n",
      "[CV] END ..........C=10, degree=3, gamma=0.01, kernel=linear; total time=   0.0s\n",
      "[CV] END ..........C=10, degree=3, gamma=0.01, kernel=linear; total time=   0.0s\n",
      "[CV] END ..........C=10, degree=3, gamma=0.01, kernel=linear; total time=   0.0s\n",
      "[CV] END ..........C=10, degree=3, gamma=0.01, kernel=linear; total time=   0.0s\n",
      "[CV] END ...............C=10, degree=4, gamma=1, kernel=poly; total time=   0.0s\n",
      "[CV] END ...............C=10, degree=4, gamma=1, kernel=poly; total time=   0.0s\n",
      "[CV] END ...............C=10, degree=4, gamma=1, kernel=poly; total time=   0.0s\n",
      "[CV] END ...............C=10, degree=4, gamma=1, kernel=poly; total time=   0.0s\n",
      "[CV] END ...............C=10, degree=4, gamma=1, kernel=poly; total time=   0.0s\n",
      "[CV] END .............C=10, degree=4, gamma=1, kernel=linear; total time=   0.0s\n",
      "[CV] END .............C=10, degree=4, gamma=1, kernel=linear; total time=   0.0s\n",
      "[CV] END .............C=10, degree=4, gamma=1, kernel=linear; total time=   0.0s\n",
      "[CV] END .............C=10, degree=4, gamma=1, kernel=linear; total time=   0.0s\n",
      "[CV] END .............C=10, degree=4, gamma=1, kernel=linear; total time=   0.0s\n",
      "[CV] END .............C=10, degree=4, gamma=0.1, kernel=poly; total time=   0.0s\n",
      "[CV] END .............C=10, degree=4, gamma=0.1, kernel=poly; total time=   0.0s\n",
      "[CV] END .............C=10, degree=4, gamma=0.1, kernel=poly; total time=   0.0s\n",
      "[CV] END .............C=10, degree=4, gamma=0.1, kernel=poly; total time=   0.1s\n",
      "[CV] END .............C=10, degree=4, gamma=0.1, kernel=poly; total time=   0.0s\n",
      "[CV] END ...........C=10, degree=4, gamma=0.1, kernel=linear; total time=   0.0s\n",
      "[CV] END ...........C=10, degree=4, gamma=0.1, kernel=linear; total time=   0.0s\n",
      "[CV] END ...........C=10, degree=4, gamma=0.1, kernel=linear; total time=   0.0s\n",
      "[CV] END ...........C=10, degree=4, gamma=0.1, kernel=linear; total time=   0.0s\n",
      "[CV] END ...........C=10, degree=4, gamma=0.1, kernel=linear; total time=   0.0s\n",
      "[CV] END ............C=10, degree=4, gamma=0.01, kernel=poly; total time=   0.1s\n",
      "[CV] END ............C=10, degree=4, gamma=0.01, kernel=poly; total time=   0.1s\n",
      "[CV] END ............C=10, degree=4, gamma=0.01, kernel=poly; total time=   0.1s\n",
      "[CV] END ............C=10, degree=4, gamma=0.01, kernel=poly; total time=   0.1s\n",
      "[CV] END ............C=10, degree=4, gamma=0.01, kernel=poly; total time=   0.1s\n",
      "[CV] END ..........C=10, degree=4, gamma=0.01, kernel=linear; total time=   0.0s\n",
      "[CV] END ..........C=10, degree=4, gamma=0.01, kernel=linear; total time=   0.0s\n",
      "[CV] END ..........C=10, degree=4, gamma=0.01, kernel=linear; total time=   0.0s\n",
      "[CV] END ..........C=10, degree=4, gamma=0.01, kernel=linear; total time=   0.0s\n",
      "[CV] END ..........C=10, degree=4, gamma=0.01, kernel=linear; total time=   0.0s\n"
     ]
    },
    {
     "data": {
      "text/plain": [
       "GridSearchCV(estimator=SVC(kernel='poly'),\n",
       "             param_grid={'C': [0.01, 1, 10], 'degree': [2, 3, 4],\n",
       "                         'gamma': [1, 0.1, 0.01],\n",
       "                         'kernel': ['poly', 'linear']},\n",
       "             verbose=2)"
      ]
     },
     "execution_count": 14,
     "metadata": {},
     "output_type": "execute_result"
    }
   ],
   "source": [
    "from sklearn.model_selection import GridSearchCV\n",
    "\n",
    "param_grid = {\n",
    "    'kernel': ['poly', 'linear'],\n",
    "    'C':[0.01, 1, 10],\n",
    "    'gamma':[1,0.1,0.01], \n",
    "    'degree':[2,3,4],\n",
    "}\n",
    "\n",
    "grid_search = GridSearchCV(SVC(kernel='poly'), param_grid, verbose=2)\n",
    "\n",
    "grid_search.fit(X_train, y_train)"
   ]
  },
  {
   "cell_type": "code",
   "execution_count": 15,
   "metadata": {},
   "outputs": [
    {
     "name": "stdout",
     "output_type": "stream",
     "text": [
      "Score: 0.9888888888888889\n"
     ]
    },
    {
     "data": {
      "image/png": "[encoded data removed]",
      "text/plain": [
       "<Figure size 432x288 with 1 Axes>"
      ]
     },
     "metadata": {
      "needs_background": "light"
     },
     "output_type": "display_data"
    }
   ],
   "source": [
    "svm = grid_search.best_estimator_\n",
    "\n",
    "y_pred = svm.predict(X_test)\n",
    "\n",
    "confusion_matrix_plot(y_pred, y_test)\n",
    "\n",
    "print(f'Score: {accuracy_score(y_test, y_pred)}')"
   ]
  },
  {
   "cell_type": "code",
   "execution_count": 16,
   "metadata": {},
   "outputs": [
    {
     "data": {
      "image/png": "[encoded data removed]",
      "text/plain": [
       "<Figure size 576x360 with 2 Axes>"
      ]
     },
     "metadata": {
      "needs_background": "light"
     },
     "output_type": "display_data"
    }
   ],
   "source": [
    "wrong_classified_plot(X_test, y_test, y_pred)"
   ]
  },
  {
   "cell_type": "markdown",
   "metadata": {},
   "source": [
    "<a id='random_forest'></a>\n",
    "## 4. Random Forest Classifier"
   ]
  },
  {
   "cell_type": "markdown",
   "metadata": {},
   "source": [
    "Random forest is a meta estimator that fits a number of decision tree classifiers on various sub-samples of the dataset and uses averaging to improve the predictive accuracy and control over-fitting.\n",
    "\n",
    "<center>\n",
    "    <img src='./img/random-forest-diagram.png' slt='random_forest', width='400px'>\n",
    "</center>"
   ]
  },
  {
   "cell_type": "code",
   "execution_count": 17,
   "metadata": {},
   "outputs": [
    {
     "data": {
      "text/plain": [
       "RandomForestClassifier()"
      ]
     },
     "execution_count": 17,
     "metadata": {},
     "output_type": "execute_result"
    }
   ],
   "source": [
    "from sklearn.ensemble import RandomForestClassifier\n",
    "\n",
    "rfc_model = RandomForestClassifier()\n",
    "\n",
    "rfc_model.fit(X_train, y_train)\n"
   ]
  },
  {
   "cell_type": "code",
   "execution_count": 18,
   "metadata": {},
   "outputs": [
    {
     "name": "stdout",
     "output_type": "stream",
     "text": [
      "Score: 1.0\n"
     ]
    },
    {
     "data": {
      "image/png": "[encoded data removed]",
      "text/plain": [
       "<Figure size 432x288 with 1 Axes>"
      ]
     },
     "metadata": {
      "needs_background": "light"
     },
     "output_type": "display_data"
    }
   ],
   "source": [
    "y_pred = rfc_model.predict(X_train)\n",
    "\n",
    "confusion_matrix_plot(y_pred, y_train)\n",
    "\n",
    "print(f'Score: {accuracy_score(y_train, y_pred)}')"
   ]
  },
  {
   "cell_type": "code",
   "execution_count": 19,
   "metadata": {},
   "outputs": [
    {
     "name": "stdout",
     "output_type": "stream",
     "text": [
      "Score: 0.9777777777777777\n"
     ]
    },
    {
     "data": {
      "image/png": "[encoded data removed]",
      "text/plain": [
       "<Figure size 432x288 with 1 Axes>"
      ]
     },
     "metadata": {
      "needs_background": "light"
     },
     "output_type": "display_data"
    }
   ],
   "source": [
    "y_pred = rfc_model.predict(X_test)\n",
    "\n",
    "confusion_matrix_plot(y_pred, y_test)\n",
    "\n",
    "print(f'Score: {accuracy_score(y_test, y_pred)}')"
   ]
  },
  {
   "cell_type": "code",
   "execution_count": 20,
   "metadata": {},
   "outputs": [
    {
     "data": {
      "image/png": "[encoded data removed]",
      "text/plain": [
       "<Figure size 576x360 with 6 Axes>"
      ]
     },
     "metadata": {
      "needs_background": "light"
     },
     "output_type": "display_data"
    }
   ],
   "source": [
    "wrong_classified_plot(X_test, y_test, y_pred)"
   ]
  },
  {
   "cell_type": "markdown",
   "metadata": {},
   "source": [
    "### [TOP ☝️](#top)"
   ]
  }
 ],
 "metadata": {
  "interpreter": {
   "hash": "ece4c4f9c4961c7468795d846fc72c6e00987d764e9134aaba41ea0514f48bf6"
  },
  "kernelspec": {
   "display_name": "Python 3 (ipykernel)",
   "language": "python",
   "name": "python3"
  },
  "language_info": {
   "codemirror_mode": {
    "name": "ipython",
    "version": 3
   },
   "file_extension": ".py",
   "mimetype": "text/x-python",
   "name": "python",
   "nbconvert_exporter": "python",
   "pygments_lexer": "ipython3",
   "version": "3.7.9"
  }
 },
 "nbformat": 4,
 "nbformat_minor": 2
}
