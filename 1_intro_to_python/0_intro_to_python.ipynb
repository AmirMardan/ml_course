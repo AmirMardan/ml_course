{
 "cells": [
  {
   "cell_type": "markdown",
   "metadata": {},
   "source": [
    "<center>\n",
    "<table style=\"border:none\">\n",
    "    <tr style=\"border:none\">\n",
    "    <th style=\"border:none\">\n",
    "        <a  href='https://colab.research.google.com/github/AmirMardan/ml_course/blob/main/1_intro_to_python/0_intro_to_python.ipynb'><img src='https://colab.research.google.com/assets/colab-badge.svg'></a>\n",
    "    </th>\n",
    "    <th style=\"border:none\">\n",
    "        <a  href='https://github1s.com/AmirMardan/ml_course/blob/main/1_intro_to_python/0_intro_to_python.ipynb'><img src='../imgs/open_vscode.svg' height=20px width=115px></a>\n",
    "    </th>\n",
    "    </tr>\n",
    "</table>\n",
    "</center>\n",
    "\n",
    "\n",
    "This notebook is created by <a href='https://amirmardan.github.io'> Amir Mardan</a>. For any feedback or suggestion, please contact me via my <a href=\"mailto:mardan.amir.h@gmail.com\">email</a>, (mardan.amir.h@gmail.com).\n",
    "\n"
   ]
  },
  {
   "cell_type": "markdown",
   "metadata": {},
   "source": [
    "# <center> 🐍 Python 🐍 </center> "
   ]
  },
  {
   "cell_type": "markdown",
   "metadata": {},
   "source": [
    "<a name='top'></a>\n",
    "# Introduction to Python\n",
    "\n",
    "This notebook will cover the following topics:\n",
    "\n",
    "- [Introduction](#introduction)\n",
    "- [Why Python?](#why_python)\n",
    "- [Installing tools](#installing_tools)\n",
    "- [1. Variables  and data types in Python](#variable)\n",
    "    - [Numbers in Python](#numbers)\n",
    "    - [Strings in Python](#strings)\n",
    "    - [Booleans in Python](#boolean)\n",
    "    - [List in Python](#list)\n",
    "    - [Dictionary in Python](#dict)\n",
    "- [2. Operators in Python](#operators)\n",
    "    - [Comparison operators](#comparison)\n",
    "    - [Logical operators](#logical)\n",
    "    - [Membership operators](#membership)\n",
    "    - [Bitwise operators](#bitwise)\n",
    "- [3. Control flow](#control_flow)\n",
    "    - [<code>if</code> statements](#if)\n",
    "    - [<code>match</code> statements](#match) \n",
    "    - [<code>for</code> statements](#for)\n",
    "    - [<code>while</code> statements](#while)"
   ]
  },
  {
   "cell_type": "markdown",
   "metadata": {},
   "source": [
    "<a name='introduction'></a>\n",
    "## Introduction "
   ]
  },
  {
   "cell_type": "markdown",
   "metadata": {},
   "source": [
    "Welcome to the first session of this workshop. Using this notebook, the basic materials will be discussed to get ready for programming.\n",
    "\n",
    "Python is a high-level programming language and due to its ease of learning and usage, it can be written and executed much faster than other programming languages.\n",
    "\n",
    "Created in the 1980s by **Guido van Rossum**, could be easily read and understood.\n",
    "\n",
    "\n",
    "<center><img src='./img/guido_van_rossum.jpeg' width=250px></center> "
   ]
  },
  {
   "cell_type": "markdown",
   "metadata": {},
   "source": [
    "<a name='why_python'></a>\n",
    "## Why Python? "
   ]
  },
  {
   "cell_type": "markdown",
   "metadata": {},
   "source": [
    "Python has witnessed incredible growth and popularity in recent years.\n",
    "<center>\n",
    "<img src='./img/programming_languages.png' alt='programming_languages' width='500px'>\n",
    "</center>\n",
    "\n",
    "\n",
    "Python has a \"<a href='https://docs.python.org/3/tutorial/stdlib.html'>batteries included</a>\" philosophy due to the robust capabilities of its larger packages.\n",
    "\n",
    "- Easy to learn and use\n",
    "- Mature and supportive community\n",
    "- Numerous Python libraries\n",
    "- Efficiency and speed\n",
    "- Flexibility\n",
    "\n"
   ]
  },
  {
   "cell_type": "markdown",
   "metadata": {},
   "source": [
    "<a name='installing_tools'></a>\n",
    "## Installing tools"
   ]
  },
  {
   "cell_type": "markdown",
   "metadata": {},
   "source": [
    "To install each tool, click on it or copy the address in your browser address bar\n",
    "\n",
    "<a href='https://pip.pypa.io/en/stable/installation/'>pip</a>: `https://pip.pypa.io/en/stable/installation`\n",
    "\n",
    "<a href='https://www.python.org/downloads/'>Python</a>: `https://www.python.org/downloads/`\n",
    "\n",
    "<a href='https://code.visualstudio.com/Download'>VS Code</a>: `https://code.visualstudio.com/Download`\n",
    " "
   ]
  },
  {
   "cell_type": "markdown",
   "metadata": {},
   "source": [
    "<a name='extensions_for_VSCode'></a>\n",
    "## Extensions for VS Code\n"
   ]
  },
  {
   "cell_type": "markdown",
   "metadata": {},
   "source": [
    "- Python\n",
    "- Pylance\n",
    "- Jupyter\n",
    "- VS Code Jupyter Notebook Previewer\n",
    "- autoDocstring - Python Docstring Generator\n",
    "- Prettier\n",
    "- Todo Tree\n",
    "- Excel Viewer\n",
    "- Path Intellisense\n",
    "- Python Indent"
   ]
  },
  {
   "cell_type": "markdown",
   "metadata": {},
   "source": [
    "<a name='variable'></a>\n",
    "## 1. Variables  and data types in Python "
   ]
  },
  {
   "cell_type": "markdown",
   "metadata": {},
   "source": [
    "- A `variable` is the location of the data in the memory.\n",
    "- Python doesn't need the variable to be declared and it's created right the first time you assign a value to it.\n",
    "- You can use ```print()``` to display the value of a variable or the result of an expression.\n",
    "- We can use `id(variable_name)` or `hex(id(variable_name))` to check the address of variable.\n",
    "- The type of a variable can be obtained by using `type(variable_name)`.\n",
    "- Every variable in Python is an object, and methods (functions) and attributes (variables) of each object can be called as `variable_name.method_name()` or `variable_name.attribute_name`.\n",
    "- The size of a variable can be obtained by `variable_name.__sizeof__()`.\n",
    "- Variable names are case-sensitive.\n",
    "- In Python, we use `#` for single-line comments and `\"\"\" comments \"\"\"` for multiline comments.\n",
    "\n",
    "$\\color{red}{\\text{Note:}}$ Python is serious about indentation.\n"
   ]
  },
  {
   "cell_type": "code",
   "execution_count": 1,
   "metadata": {},
   "outputs": [],
   "source": [
    "# Don't take this cell serious!!\n",
    "\n",
    "def dual_equality(a, b):\n",
    "    assert a == b, 'Try again! \\U0001F4AA'\n",
    "    print(\"Good job! \\U0001F44F\")\n",
    "    "
   ]
  },
  {
   "cell_type": "code",
   "execution_count": 2,
   "metadata": {},
   "outputs": [
    {
     "name": "stdout",
     "output_type": "stream",
     "text": [
      "Value: 1 \n",
      "Type: <class 'int'> \n",
      "Size: 28 bytes 🤔\n"
     ]
    }
   ],
   "source": [
    "# Creating a variable\n",
    "\n",
    "var_name = 1\n",
    "\n",
    "print(\"Value: {} \\nType: {} \\nSize: {} bytes \\U0001f914\".format(var_name, type(var_name), var_name.__sizeof__()))"
   ]
  },
  {
   "cell_type": "markdown",
   "metadata": {},
   "source": [
    "Python has the following data types by default:\n",
    "- Numeric types:    `int`, `float`, `complex`\n",
    "- Text Type:        `str`\n",
    "- Sequence Types:\t`list`, `tuple`, `range`\n",
    "- Mapping Type:\t    `dict`\n",
    "- Set Types:\t    `set`, `frozenset`\n",
    "- Boolean Type:\t    `bool`\n",
    "- Binary Types:\t    `bytes`, `bytearray`, `memoryview`\n"
   ]
  },
  {
   "cell_type": "markdown",
   "metadata": {},
   "source": [
    "<a name='numbers'></a>\n",
    "### 1.1 Numbers in Python"
   ]
  },
  {
   "cell_type": "markdown",
   "metadata": {},
   "source": [
    "Numbers in Python can be either integer, `int`, like `1`, `-23`, `1000` or float, `float`, like `1.0`, `-23.5`, `1000.99` or complex like `2j`, `-1.2+ 3j`."
   ]
  },
  {
   "cell_type": "code",
   "execution_count": 3,
   "metadata": {},
   "outputs": [
    {
     "name": "stdout",
     "output_type": "stream",
     "text": [
      "int_var: <class 'int'>\n",
      "float_var: <class 'float'>\n"
     ]
    }
   ],
   "source": [
    "int_var = -23\n",
    "\n",
    "float_var = 1.0\n",
    "\n",
    "print(\"int_var:\", type(int_var))\n",
    "print(\"float_var:\", type(float_var))\n"
   ]
  },
  {
   "cell_type": "markdown",
   "metadata": {},
   "source": [
    "\n",
    "<hr>\n",
    "<div>\n",
    "<span style=\"color:#151D3B; font-weight:bold\">Question: 🤔</span><p>\n",
    "What would be the output of \n",
    "\n",
    "```python\n",
    "print(type(1.))\n",
    "```\n",
    "\n",
    "\n",
    "</div>\n",
    "<hr>\n"
   ]
  },
  {
   "cell_type": "markdown",
   "metadata": {},
   "source": [
    "### <span id='numeric_operations'> Numeric operations <span>\n",
    "\n",
    "Let's first define 4 variables \n"
   ]
  },
  {
   "cell_type": "code",
   "execution_count": 4,
   "metadata": {},
   "outputs": [],
   "source": [
    "a1 = 12\n",
    "a2 = 5\n",
    "a3 = 1.2\n",
    "a4 = 2j"
   ]
  },
  {
   "cell_type": "code",
   "execution_count": 5,
   "metadata": {},
   "outputs": [
    {
     "data": {
      "text/plain": [
       "17"
      ]
     },
     "execution_count": 5,
     "metadata": {},
     "output_type": "execute_result"
    }
   ],
   "source": [
    "# Addition\n",
    "\n",
    "a1 + a2"
   ]
  },
  {
   "cell_type": "code",
   "execution_count": 6,
   "metadata": {},
   "outputs": [
    {
     "data": {
      "text/plain": [
       "-7"
      ]
     },
     "execution_count": 6,
     "metadata": {},
     "output_type": "execute_result"
    }
   ],
   "source": [
    "# Subtraction\n",
    "\n",
    "a2 - a1"
   ]
  },
  {
   "cell_type": "code",
   "execution_count": 7,
   "metadata": {},
   "outputs": [
    {
     "data": {
      "text/plain": [
       "60"
      ]
     },
     "execution_count": 7,
     "metadata": {},
     "output_type": "execute_result"
    }
   ],
   "source": [
    "# Multiplication\n",
    "\n",
    "a1 * a2"
   ]
  },
  {
   "cell_type": "code",
   "execution_count": 8,
   "metadata": {},
   "outputs": [
    {
     "data": {
      "text/plain": [
       "2.4"
      ]
     },
     "execution_count": 8,
     "metadata": {},
     "output_type": "execute_result"
    }
   ],
   "source": [
    "# Division\n",
    "\n",
    "a1 / a2"
   ]
  },
  {
   "cell_type": "markdown",
   "metadata": {},
   "source": [
    "<div class=\"alert alert-block alert-info\">\n",
    "<b>Tip:</b> Even the division of two integers with remainder of 0 returns a float output.</div>"
   ]
  },
  {
   "cell_type": "code",
   "execution_count": 9,
   "metadata": {},
   "outputs": [
    {
     "data": {
      "text/plain": [
       "2"
      ]
     },
     "execution_count": 9,
     "metadata": {},
     "output_type": "execute_result"
    }
   ],
   "source": [
    "# Modular\n",
    "\n",
    "a1 % a2"
   ]
  },
  {
   "cell_type": "code",
   "execution_count": 10,
   "metadata": {},
   "outputs": [
    {
     "data": {
      "text/plain": [
       "248832"
      ]
     },
     "execution_count": 10,
     "metadata": {},
     "output_type": "execute_result"
    }
   ],
   "source": [
    "# Powers\n",
    "\n",
    "a1 ** a2"
   ]
  },
  {
   "cell_type": "markdown",
   "metadata": {},
   "source": [
    "<hr>\n",
    "<div>\n",
    "<span style=\"color:#151D3B; font-weight:bold\">Question: 🤔</span><p>\n",
    "Using <code>a4</code>, show the product of a complex number with its conjugate is equal to the square of the number's modulus\n",
    "</div>\n",
    "<hr>"
   ]
  },
  {
   "cell_type": "code",
   "execution_count": 11,
   "metadata": {},
   "outputs": [],
   "source": [
    "# You may change two following lines \n",
    "\n",
    "sq = abs(a4) # ...\n",
    "\n",
    "pr = (a4 * -a4)  # ... \n",
    "\n",
    "\n",
    "dual_equality(pr, sq)\n",
    "    \n",
    "print(sq)\n",
    "print(pr)\n"
   ]
  },
  {
   "cell_type": "markdown",
   "metadata": {},
   "source": [
    "<a name='strings'></a>\n",
    "### 1.2 Strings in Python"
   ]
  },
  {
   "cell_type": "markdown",
   "metadata": {},
   "source": [
    "In Python, strings can be defined either like \n",
    "\n",
    "`\"This is a string\"`\n",
    "\n",
    "or \n",
    "\n",
    "`'This is a string'`\n",
    "\n",
    "So let's define two string variables and play with it!\n",
    "\n",
    "<a href='https://www.w3schools.com/python/python_ref_string.asp'>Reference</a>"
   ]
  },
  {
   "cell_type": "code",
   "execution_count": 12,
   "metadata": {},
   "outputs": [
    {
     "name": "stdout",
     "output_type": "stream",
     "text": [
      "hi, everybody!\n"
     ]
    }
   ],
   "source": [
    "str_var1 = 'hi, '\n",
    "str_var2 = 'everybody!'\n",
    "\n",
    "\n",
    "new_sentence = str_var1 + str_var2\n",
    "print(new_sentence)"
   ]
  },
  {
   "cell_type": "markdown",
   "metadata": {},
   "source": [
    "<div class=\"alert alert-block alert-warning\">\n",
    "<b>Reminder:</b> Every variables in Python is an object and has its own methods and attributes.\n",
    "</div>"
   ]
  },
  {
   "cell_type": "code",
   "execution_count": 13,
   "metadata": {},
   "outputs": [
    {
     "data": {
      "text/plain": [
       "'Hi, Everybody!'"
      ]
     },
     "execution_count": 13,
     "metadata": {},
     "output_type": "execute_result"
    }
   ],
   "source": [
    "# Convert the string to title\n",
    "\n",
    "new_sentence.title()"
   ]
  },
  {
   "cell_type": "code",
   "execution_count": 14,
   "metadata": {},
   "outputs": [
    {
     "data": {
      "text/plain": [
       "'Hi, everybody!'"
      ]
     },
     "execution_count": 14,
     "metadata": {},
     "output_type": "execute_result"
    }
   ],
   "source": [
    "# Capitalization \n",
    "\n",
    "new_sentence.capitalize()"
   ]
  },
  {
   "cell_type": "code",
   "execution_count": 15,
   "metadata": {},
   "outputs": [
    {
     "data": {
      "text/plain": [
       "'HI, EVERYBODY!'"
      ]
     },
     "execution_count": 15,
     "metadata": {},
     "output_type": "execute_result"
    }
   ],
   "source": [
    "# Convert the string to uppercase \n",
    "\n",
    "new_sentence.upper()"
   ]
  },
  {
   "cell_type": "code",
   "execution_count": 16,
   "metadata": {},
   "outputs": [
    {
     "data": {
      "text/plain": [
       "1"
      ]
     },
     "execution_count": 16,
     "metadata": {},
     "output_type": "execute_result"
    }
   ],
   "source": [
    "# Number of times a specified value occurs in a string\n",
    "\n",
    "new_sentence.count('h')"
   ]
  },
  {
   "cell_type": "code",
   "execution_count": 17,
   "metadata": {},
   "outputs": [
    {
     "data": {
      "text/plain": [
       "['hi,', 'everybody!']"
      ]
     },
     "execution_count": 17,
     "metadata": {},
     "output_type": "execute_result"
    }
   ],
   "source": [
    "# Splitting the string\n",
    "\n",
    "new_sentence.split()"
   ]
  },
  {
   "cell_type": "markdown",
   "metadata": {},
   "source": [
    "<a name='boolean'></a>\n",
    "### 1.3 Booleans in Python "
   ]
  },
  {
   "cell_type": "markdown",
   "metadata": {},
   "source": [
    "Booleans represent one of two values: `True` or `False`"
   ]
  },
  {
   "cell_type": "code",
   "execution_count": 18,
   "metadata": {},
   "outputs": [
    {
     "name": "stdout",
     "output_type": "stream",
     "text": [
      "False\n"
     ]
    }
   ],
   "source": [
    "# Greater or equal \n",
    "\n",
    "print(2 >= 4)"
   ]
  },
  {
   "cell_type": "code",
   "execution_count": 19,
   "metadata": {},
   "outputs": [
    {
     "name": "stdout",
     "output_type": "stream",
     "text": [
      "False\n",
      "True\n"
     ]
    }
   ],
   "source": [
    "# Check the equality\n",
    "\n",
    "print(2 == 4)\n",
    "print(2 == 2)"
   ]
  },
  {
   "cell_type": "code",
   "execution_count": 20,
   "metadata": {},
   "outputs": [
    {
     "data": {
      "text/plain": [
       "True"
      ]
     },
     "execution_count": 20,
     "metadata": {},
     "output_type": "execute_result"
    }
   ],
   "source": [
    "bool('hello')"
   ]
  },
  {
   "cell_type": "code",
   "execution_count": 21,
   "metadata": {},
   "outputs": [
    {
     "name": "stdout",
     "output_type": "stream",
     "text": [
      "False False False False False False False\n"
     ]
    }
   ],
   "source": [
    "print(bool(False), bool(None),bool(0), bool(\"\"), bool(()), bool([]), bool({}))"
   ]
  },
  {
   "cell_type": "markdown",
   "metadata": {},
   "source": [
    "<a name='list'></a>\n",
    "### 1.4 List in Python "
   ]
  },
  {
   "cell_type": "markdown",
   "metadata": {},
   "source": [
    "List is a type of data structure that can keep more than one object."
   ]
  },
  {
   "cell_type": "code",
   "execution_count": 22,
   "metadata": {},
   "outputs": [
    {
     "name": "stdout",
     "output_type": "stream",
     "text": [
      "<class 'list'>\n",
      "['Mon', 'Tue', 'Wed', 'Thur', 'Friday', 'Sat', 'Sun']\n"
     ]
    }
   ],
   "source": [
    "# Example of list\n",
    "\n",
    "days_name = ['Mon', 'Tue', 'Wed', 'Thur', 'Friday', 'Sat', 'Sun']\n",
    "days_num = [1, 20, -11, 32, 5, 2, 7]\n",
    "\n",
    "print(type(days_num))\n",
    "print(days_name)"
   ]
  },
  {
   "cell_type": "code",
   "execution_count": 23,
   "metadata": {},
   "outputs": [
    {
     "data": {
      "text/plain": [
       "'Wed'"
      ]
     },
     "execution_count": 23,
     "metadata": {},
     "output_type": "execute_result"
    }
   ],
   "source": [
    "days_name[2]"
   ]
  },
  {
   "cell_type": "code",
   "execution_count": 24,
   "metadata": {},
   "outputs": [
    {
     "data": {
      "text/plain": [
       "['Mon', 'Tue', 'Wed', 'Thur', 'Friday']"
      ]
     },
     "execution_count": 24,
     "metadata": {},
     "output_type": "execute_result"
    }
   ],
   "source": [
    "days_name[:5]"
   ]
  },
  {
   "cell_type": "markdown",
   "metadata": {},
   "source": [
    "<hr>\n",
    "<span style=\"color:#151D3B; font-weight:bold\">Question: 🤔</span><p>\n",
    "What's the result of \n",
    "\n",
    "``` Python\n",
    "days_num + [2]\n",
    "```\n",
    "<hr>"
   ]
  },
  {
   "cell_type": "code",
   "execution_count": 25,
   "metadata": {},
   "outputs": [],
   "source": [
    "# Answer\n"
   ]
  },
  {
   "cell_type": "markdown",
   "metadata": {},
   "source": [
    "<hr>\n",
    "<span style=\"color:#151D3B; font-weight:bold\">Question: 🤔</span><p>\n",
    "What's the result of \n",
    "\n",
    "``` Python\n",
    "days_num[2] + 2\n",
    "```\n",
    "<hr>"
   ]
  },
  {
   "cell_type": "code",
   "execution_count": 26,
   "metadata": {},
   "outputs": [],
   "source": [
    "# Answer\n"
   ]
  },
  {
   "cell_type": "code",
   "execution_count": 27,
   "metadata": {},
   "outputs": [
    {
     "data": {
      "text/plain": [
       "7"
      ]
     },
     "execution_count": 27,
     "metadata": {},
     "output_type": "execute_result"
    }
   ],
   "source": [
    "len(days_num)"
   ]
  },
  {
   "cell_type": "markdown",
   "metadata": {},
   "source": [
    "<div class=\"alert alert-block alert-warning\">\n",
    "<b>Reminder:</b> Every object has its own methods and attributes.\n",
    "</div>"
   ]
  },
  {
   "cell_type": "code",
   "execution_count": 28,
   "metadata": {},
   "outputs": [
    {
     "data": {
      "text/plain": [
       "[1, 20, -11, 32, 5, 2, 7, 30]"
      ]
     },
     "execution_count": 28,
     "metadata": {},
     "output_type": "execute_result"
    }
   ],
   "source": [
    "# Appending a list \n",
    "\n",
    "days_num.append(30)\n",
    "days_num"
   ]
  },
  {
   "cell_type": "code",
   "execution_count": 29,
   "metadata": {},
   "outputs": [
    {
     "data": {
      "text/plain": [
       "[30, 7, 2, 5, 32, -11, 20, 1]"
      ]
     },
     "execution_count": 29,
     "metadata": {},
     "output_type": "execute_result"
    }
   ],
   "source": [
    "# Reverse a list\n",
    "\n",
    "days_num.reverse()\n",
    "days_num"
   ]
  },
  {
   "cell_type": "code",
   "execution_count": 30,
   "metadata": {},
   "outputs": [
    {
     "data": {
      "text/plain": [
       "[-11, 1, 2, 5, 7, 20, 30, 32]"
      ]
     },
     "execution_count": 30,
     "metadata": {},
     "output_type": "execute_result"
    }
   ],
   "source": [
    "# Sort a list\n",
    "\n",
    "days_num.sort()\n",
    "days_num"
   ]
  },
  {
   "cell_type": "markdown",
   "metadata": {},
   "source": [
    "<div class=\"alert alert-block alert-danger\">\n",
    "<b>Danger:</b> Methods in here act inplace.\n",
    "</div>"
   ]
  },
  {
   "cell_type": "code",
   "execution_count": 31,
   "metadata": {},
   "outputs": [
    {
     "data": {
      "text/plain": [
       "[-11, 1, 2, 5, 7, 20, 32]"
      ]
     },
     "execution_count": 31,
     "metadata": {},
     "output_type": "execute_result"
    }
   ],
   "source": [
    "# Remove an element of a list by its value\n",
    "\n",
    "a = days_num.remove(30)\n",
    "days_num\n"
   ]
  },
  {
   "cell_type": "code",
   "execution_count": 32,
   "metadata": {},
   "outputs": [
    {
     "data": {
      "text/plain": [
       "[1, 2, 5, 7, 20, 32]"
      ]
     },
     "execution_count": 32,
     "metadata": {},
     "output_type": "execute_result"
    }
   ],
   "source": [
    "# Remove an element of a list by its index\n",
    "\n",
    "b = days_num.pop(0)\n",
    "days_num"
   ]
  },
  {
   "cell_type": "code",
   "execution_count": 33,
   "metadata": {},
   "outputs": [
    {
     "name": "stdout",
     "output_type": "stream",
     "text": [
      "None\n",
      "-11\n"
     ]
    }
   ],
   "source": [
    "# days_num.remove() returns None but days_num.pop() returns the deleted item.\n",
    "print(a)\n",
    "print(b)"
   ]
  },
  {
   "cell_type": "markdown",
   "metadata": {},
   "source": [
    "<a href='https://www.w3schools.com/python/python_ref_list.asp'> Reference</a> for methods of lists."
   ]
  },
  {
   "cell_type": "markdown",
   "metadata": {},
   "source": [
    "<a name='dict'></a>\n",
    "### 1.5 Dictionary in Python "
   ]
  },
  {
   "cell_type": "markdown",
   "metadata": {},
   "source": [
    "Dictionaries are used to store data values in `key:value` pairs."
   ]
  },
  {
   "cell_type": "code",
   "execution_count": 34,
   "metadata": {},
   "outputs": [
    {
     "name": "stdout",
     "output_type": "stream",
     "text": [
      "{'Name': 'Iran', 'population': 83.99, 'area': 1.648}\n"
     ]
    }
   ],
   "source": [
    "# Example of dictionary\n",
    "\n",
    "iran = {\n",
    "    'Name': 'Iran',\n",
    "    'population': 83.99,\n",
    "    'area': 1.648\n",
    "}\n",
    "\n",
    "print(iran)"
   ]
  },
  {
   "cell_type": "code",
   "execution_count": 35,
   "metadata": {},
   "outputs": [
    {
     "data": {
      "text/plain": [
       "dict_keys(['Name', 'population', 'area'])"
      ]
     },
     "execution_count": 35,
     "metadata": {},
     "output_type": "execute_result"
    }
   ],
   "source": [
    "# Get the keys of a dictionary\n",
    "\n",
    "iran.keys()"
   ]
  },
  {
   "cell_type": "code",
   "execution_count": 36,
   "metadata": {},
   "outputs": [
    {
     "data": {
      "text/plain": [
       "dict_values(['Iran', 83.99, 1.648])"
      ]
     },
     "execution_count": 36,
     "metadata": {},
     "output_type": "execute_result"
    }
   ],
   "source": [
    "# Get the value of each key in a dictionary\n",
    "\n",
    "iran.values()\n"
   ]
  },
  {
   "cell_type": "code",
   "execution_count": 37,
   "metadata": {},
   "outputs": [
    {
     "data": {
      "text/plain": [
       "dict_items([('Name', 'Iran'), ('population', 83.99), ('area', 1.648)])"
      ]
     },
     "execution_count": 37,
     "metadata": {},
     "output_type": "execute_result"
    }
   ],
   "source": [
    "# Get the otems of a dictionary\n",
    "\n",
    "iran.items()\n"
   ]
  },
  {
   "cell_type": "markdown",
   "metadata": {},
   "source": [
    "<a href='https://www.w3schools.com/python/python_ref_dictionary.asp'> Reference</a> for methods of dictionaries."
   ]
  },
  {
   "cell_type": "code",
   "execution_count": 38,
   "metadata": {},
   "outputs": [],
   "source": [
    "countries = {\n",
    "    'Iran ': {\n",
    "        'population': 83.99,\n",
    "        'area': 1.648e6\n",
    "        },\n",
    "    'Canada': {\n",
    "             'population': 38.01 ,\n",
    "             'area': 9.985e6\n",
    "             },\n",
    "    'Spain': {\n",
    "        'population': 47.35,\n",
    "        'area': 505.990\n",
    "    },\n",
    "    }"
   ]
  },
  {
   "cell_type": "code",
   "execution_count": 39,
   "metadata": {},
   "outputs": [
    {
     "data": {
      "text/plain": [
       "{'population': 38.01, 'area': 9985000.0}"
      ]
     },
     "execution_count": 39,
     "metadata": {},
     "output_type": "execute_result"
    }
   ],
   "source": [
    "countries['Canada']"
   ]
  },
  {
   "cell_type": "markdown",
   "metadata": {},
   "source": [
    "<hr>\n",
    "<span style=\"color:#151D3B; font-weight:bold\">Question: 🤔</span><p>\n",
    "What's the problem with following code: \n",
    "    \n",
    "<code>countries['Iran']['population']</code>\n",
    "    \n",
    "<hr>"
   ]
  },
  {
   "cell_type": "code",
   "execution_count": 40,
   "metadata": {},
   "outputs": [],
   "source": [
    "# Answer\n"
   ]
  },
  {
   "cell_type": "markdown",
   "metadata": {},
   "source": [
    "<a name='tuple'></a>\n",
    "### 1.6 Tuples in Python "
   ]
  },
  {
   "cell_type": "markdown",
   "metadata": {},
   "source": [
    "Tuples are like list but they are `immutable` which means they can't be changed."
   ]
  },
  {
   "cell_type": "code",
   "execution_count": 41,
   "metadata": {},
   "outputs": [
    {
     "data": {
      "text/plain": [
       "(1, 'b')"
      ]
     },
     "execution_count": 41,
     "metadata": {},
     "output_type": "execute_result"
    }
   ],
   "source": [
    "var_tuple1 = (1, 'b')\n",
    "var_tuple1"
   ]
  },
  {
   "cell_type": "code",
   "execution_count": 42,
   "metadata": {},
   "outputs": [
    {
     "data": {
      "text/plain": [
       "1"
      ]
     },
     "execution_count": 42,
     "metadata": {},
     "output_type": "execute_result"
    }
   ],
   "source": [
    "# Indexing\n",
    "\n",
    "var_tuple1[0]"
   ]
  },
  {
   "cell_type": "code",
   "execution_count": 43,
   "metadata": {},
   "outputs": [],
   "source": [
    "# Tuples can't be changed after they're created.\n",
    "\n",
    "# var_tuple1[0] = 2"
   ]
  },
  {
   "cell_type": "markdown",
   "metadata": {},
   "source": [
    "<a name='set'></a>\n",
    "### 1.7 Sets in Python "
   ]
  },
  {
   "cell_type": "markdown",
   "metadata": {},
   "source": [
    "Sets are like lists exccept they keep only unique values."
   ]
  },
  {
   "cell_type": "code",
   "execution_count": 44,
   "metadata": {},
   "outputs": [],
   "source": [
    "set_var1 = {9, 1, 1, '4', 4, 100, False, False, 100, 3, 'a', None}\n",
    "set_var2 = {9, 1, '4', 4, None, 100, 3, 'a', False}"
   ]
  },
  {
   "cell_type": "code",
   "execution_count": 45,
   "metadata": {},
   "outputs": [
    {
     "data": {
      "text/plain": [
       "True"
      ]
     },
     "execution_count": 45,
     "metadata": {},
     "output_type": "execute_result"
    }
   ],
   "source": [
    "set_var1 == set_var2"
   ]
  },
  {
   "cell_type": "markdown",
   "metadata": {},
   "source": [
    "<span style=\"color:red; font-weight:bold;\"> Note:</span> \n",
    "\n",
    "- Sets only keep the unique values.\n",
    "- Order is not important."
   ]
  },
  {
   "cell_type": "markdown",
   "metadata": {},
   "source": [
    "<a name='operators'></a>\n",
    "## 2. Operators in Python \n"
   ]
  },
  {
   "cell_type": "markdown",
   "metadata": {},
   "source": [
    "<a name='comparison'></a>\n",
    "### 2.1 Comparison operator\n"
   ]
  },
  {
   "cell_type": "markdown",
   "metadata": {},
   "source": [
    "Comparison operators are used to compare two values\n",
    "\n",
    "|Operator|Name|Example|\n",
    "|:-:|:-:|:-:|\n",
    "|==     |Equal     |    `x == y`     |\n",
    "|!=     |Not equal     |`x != y`    |\n",
    "|>     |Greater than      |    `x > y`     |\n",
    "|<>     |Less than     |`x < y`    |\n",
    "|>=     |Greater than or equal      |    `x >= y`     |\n",
    "|<=     |Less than or equal     |`x <= y`    |\n"
   ]
  },
  {
   "cell_type": "code",
   "execution_count": 46,
   "metadata": {},
   "outputs": [
    {
     "name": "stdout",
     "output_type": "stream",
     "text": [
      "False\n",
      "False\n",
      "True\n"
     ]
    }
   ],
   "source": [
    "print(2 == '2')\n",
    "print(2 > 3)\n",
    "print(2 < 3)"
   ]
  },
  {
   "cell_type": "markdown",
   "metadata": {},
   "source": [
    "<a name='logical'></a>\n",
    "### 2.2 Logical operators \n"
   ]
  },
  {
   "cell_type": "markdown",
   "metadata": {},
   "source": [
    "Logical operators are used to combine conditional statements:\n",
    "\n",
    "- `and` returns `True` if both statements are `True`.\n",
    "\n",
    "- `or` returns `True` if one of the statements is `True`\n",
    "\n",
    "- `not` reverse the result, returns `False` if the result is `True`"
   ]
  },
  {
   "cell_type": "code",
   "execution_count": 47,
   "metadata": {},
   "outputs": [
    {
     "data": {
      "text/plain": [
       "True"
      ]
     },
     "execution_count": 47,
     "metadata": {},
     "output_type": "execute_result"
    }
   ],
   "source": [
    "not(2 > 5 and 4 > 12)"
   ]
  },
  {
   "cell_type": "markdown",
   "metadata": {},
   "source": [
    "<a name='membership'></a>\n",
    "### 2.3 Membership operators \n"
   ]
  },
  {
   "cell_type": "markdown",
   "metadata": {},
   "source": [
    "Membership operators are used to test if a sequence is presented in an object.\n",
    "\n",
    "- `in` returns `True` if a sequence with the specified value is present in the object.\n",
    "\n",
    "- `not in` returns `True` if a sequence with the specified value is not present in the object.\n"
   ]
  },
  {
   "cell_type": "code",
   "execution_count": 48,
   "metadata": {},
   "outputs": [
    {
     "data": {
      "text/plain": [
       "True"
      ]
     },
     "execution_count": 48,
     "metadata": {},
     "output_type": "execute_result"
    }
   ],
   "source": [
    "2 not in [1, '2', 3]"
   ]
  },
  {
   "cell_type": "code",
   "execution_count": 49,
   "metadata": {},
   "outputs": [
    {
     "data": {
      "text/plain": [
       "True"
      ]
     },
     "execution_count": 49,
     "metadata": {},
     "output_type": "execute_result"
    }
   ],
   "source": [
    "2 in [1, 2, 3]"
   ]
  },
  {
   "cell_type": "markdown",
   "metadata": {},
   "source": [
    "<a name='bitwise'></a>\n",
    "### 2.4 Bitwise operators \n"
   ]
  },
  {
   "cell_type": "markdown",
   "metadata": {},
   "source": [
    "Bitwise operators are used to compare (binary) numbers.\n",
    "\n",
    "Comparison operators are used to compare two values\n",
    "\n",
    "|Operator|Name|Description|\n",
    "|:-:|:-:|:-:|\n",
    "|&     |AND     |    Sets each bit to 1 if both bits are 1     |\n",
    "| \\|    |OR     | Sets each bit to 1 if one of two bits is 1    |\n",
    "| ^    |XOR      |    Sets each bit to 1 if only one of two bits is 1    |\n",
    "| ~    |NOT     |  Inverts all the bits    |\n",
    "| <<   |Zero fill left shift     |    Shift left by pushing zeros in from the right   |\n",
    "| >>   |Signed right shift   |Shift right by pushing copies of the leftmost bit in from the left, and let the rightmost bits fall off    |\n"
   ]
  },
  {
   "cell_type": "markdown",
   "metadata": {},
   "source": [
    "We can reperesent a number like `5` in binary as\n",
    "\n",
    "<table>\n",
    "      <tr>\n",
    "            <td>1</td>\n",
    "            <td>0</td>\n",
    "            <td>1</td>\n",
    "      </tr>\n",
    "\n",
    "</table>\n",
    "\n",
    "where `6` is\n",
    "\n",
    "<table>\n",
    "      <tr>\n",
    "            <td>1</td>\n",
    "            <td>1</td>\n",
    "            <td>0</td>\n",
    "      </tr>\n",
    "\n",
    "</table>\n",
    "\n",
    "So, the intersection is \n",
    "\n",
    "<table>\n",
    "      <tr>\n",
    "            <td>1</td>\n",
    "            <td>0</td>\n",
    "            <td>0</td>\n",
    "      </tr>\n",
    "\n",
    "</table>\n",
    "\n",
    "which is `4` in decimal format.\n"
   ]
  },
  {
   "cell_type": "code",
   "execution_count": 50,
   "metadata": {},
   "outputs": [
    {
     "data": {
      "text/plain": [
       "4"
      ]
     },
     "execution_count": 50,
     "metadata": {},
     "output_type": "execute_result"
    }
   ],
   "source": [
    "5 & 6"
   ]
  },
  {
   "cell_type": "markdown",
   "metadata": {},
   "source": [
    "<hr>\n",
    "<span style=\"color:#151D3B; font-weight\n",
    ":bold\">Question: 🤔</span>\n",
    "<p>\n",
    "What's the result of following code:\n",
    "\n",
    "```Python\n",
    "5 >> 1\n",
    "```\n",
    "<hr>"
   ]
  },
  {
   "cell_type": "code",
   "execution_count": 51,
   "metadata": {},
   "outputs": [],
   "source": [
    "# Answer\n"
   ]
  },
  {
   "cell_type": "markdown",
   "metadata": {},
   "source": [
    "<a name='control_flow'></a>\n",
    "## 3. Control flow \n"
   ]
  },
  {
   "cell_type": "markdown",
   "metadata": {},
   "source": [
    "As other languages, Python uses the usual flow control statements but with some twists."
   ]
  },
  {
   "cell_type": "markdown",
   "metadata": {},
   "source": [
    "<a name='if'></a>\n",
    "### 3.1 `if` statements\n"
   ]
  },
  {
   "cell_type": "markdown",
   "metadata": {},
   "source": [
    "The most well-known statement is the `if` statement. \n",
    "\n",
    "```Python\n",
    "if condition1:\n",
    "  do something\n",
    "elif condition2:\n",
    "    do this\n",
    "else:\n",
    "  do this\n",
    "```"
   ]
  },
  {
   "cell_type": "code",
   "execution_count": 52,
   "metadata": {},
   "outputs": [
    {
     "name": "stdout",
     "output_type": "stream",
     "text": [
      "10 is really greater!\n"
     ]
    }
   ],
   "source": [
    "if 10 > 3.:\n",
    "    print(\"10 is really greater!\")\n",
    "else:\n",
    "    print(\"This would never be displayed.\")"
   ]
  },
  {
   "cell_type": "code",
   "execution_count": 53,
   "metadata": {},
   "outputs": [
    {
     "name": "stdout",
     "output_type": "stream",
     "text": [
      "12 is less than 20\n"
     ]
    }
   ],
   "source": [
    "x = int(input())\n",
    "\n",
    "if x > 20:\n",
    "    print(\"{} is greater than 20\".format(x))\n",
    "elif x < 20:\n",
    "    print(\"{} is less than 20\".format(x))\n",
    "else:\n",
    "    print(\"{} is equal to 20\".format(x))"
   ]
  },
  {
   "cell_type": "markdown",
   "metadata": {},
   "source": [
    "The `if` statement can be used in only one line as \n",
    "\n",
    "```Python\n",
    "'value_if_true' if condition else 'value_if_false'\n",
    "```\n",
    "or\n",
    "```Python\n",
    "('value_if_false', 'value_if_true')[condition] \n",
    "```"
   ]
  },
  {
   "cell_type": "code",
   "execution_count": 54,
   "metadata": {},
   "outputs": [
    {
     "data": {
      "text/plain": [
       "True"
      ]
     },
     "execution_count": 54,
     "metadata": {},
     "output_type": "execute_result"
    }
   ],
   "source": [
    "# Example of the first method\n",
    "\n",
    "a = [1, 2, 3, 6]\n",
    "\n",
    "True if 3 in a else False"
   ]
  },
  {
   "cell_type": "code",
   "execution_count": 55,
   "metadata": {},
   "outputs": [
    {
     "data": {
      "text/plain": [
       "True"
      ]
     },
     "execution_count": 55,
     "metadata": {},
     "output_type": "execute_result"
    }
   ],
   "source": [
    "# Example of the second method\n",
    "\n",
    "a = [1, 2, 3, 6]\n",
    "\n",
    "(False, True)[3 in a]\n"
   ]
  },
  {
   "cell_type": "markdown",
   "metadata": {},
   "source": [
    "<a name='match'></a>\n",
    "### 3.2 `match` statements\n"
   ]
  },
  {
   "cell_type": "markdown",
   "metadata": {},
   "source": [
    "The `match` statement is slightly similar to `switch` statement in C, Java, JavaScript, etc.\n",
    "\n",
    "\n",
    "```Python \n",
    "match var:\n",
    "    case first:\n",
    "        do this\n",
    "    case second:\n",
    "        do this\n",
    "```"
   ]
  },
  {
   "cell_type": "code",
   "execution_count": 56,
   "metadata": {},
   "outputs": [
    {
     "name": "stdout",
     "output_type": "stream",
     "text": [
      "Number\n"
     ]
    }
   ],
   "source": [
    "a = 2\n",
    "\n",
    "match a:\n",
    "    case '2':\n",
    "        print('str')\n",
    "    case 2:\n",
    "        print('Number')\n",
    "        \n",
    "    "
   ]
  },
  {
   "cell_type": "markdown",
   "metadata": {},
   "source": [
    "<a name='for'></a>\n",
    "### 3.3 `for` statements\n"
   ]
  },
  {
   "cell_type": "markdown",
   "metadata": {},
   "source": [
    "The `for` statements are used for iteration when the limit is defined.\n",
    "\n",
    "```Python\n",
    "for i in something:\n",
    "    do something\n",
    "```"
   ]
  },
  {
   "cell_type": "code",
   "execution_count": 57,
   "metadata": {},
   "outputs": [
    {
     "name": "stdout",
     "output_type": "stream",
     "text": [
      "0\n",
      "1\n",
      "2\n",
      "3\n",
      "4\n"
     ]
    }
   ],
   "source": [
    "# Loop over a range \n",
    "\n",
    "for i in range(5):\n",
    "    print(i)"
   ]
  },
  {
   "cell_type": "code",
   "execution_count": 58,
   "metadata": {},
   "outputs": [
    {
     "name": "stdout",
     "output_type": "stream",
     "text": [
      "hi\n",
      "1\n",
      "True\n",
      "2j\n"
     ]
    }
   ],
   "source": [
    "# Loop over a list\n",
    "\n",
    "for word in ['hi', 1, True, 2j]:\n",
    "    print(word)"
   ]
  },
  {
   "cell_type": "code",
   "execution_count": 59,
   "metadata": {},
   "outputs": [
    {
     "name": "stdout",
     "output_type": "stream",
     "text": [
      "Iran  has 83.99  population!\n",
      "Canada has 38.01  population!\n",
      "Spain has 47.35  population!\n"
     ]
    }
   ],
   "source": [
    "countries = {\n",
    "    'Iran ': {\n",
    "        'population': 83.99,\n",
    "        'area': 1.648e6\n",
    "        },\n",
    "    'Canada': {\n",
    "             'population': 38.01 ,\n",
    "             'area': 9.985e6\n",
    "             },\n",
    "    'Spain': {\n",
    "        'population': 47.35,\n",
    "        'area': 505.990e3\n",
    "    },\n",
    "    }\n",
    "\n",
    "for country in countries:\n",
    "    print(country, 'has', countries[country]['population'], \" population!\")"
   ]
  },
  {
   "cell_type": "markdown",
   "metadata": {},
   "source": [
    "<hr>\n",
    "<span style=\"color:#151D3B; font-weight\n",
    ":bold\">Question: 🤔</span>\n",
    "<p>\n",
    "Write a code to show the density of people in each country.\n",
    "\n",
    "<hr>"
   ]
  },
  {
   "cell_type": "code",
   "execution_count": 60,
   "metadata": {},
   "outputs": [],
   "source": [
    "# Answer\n"
   ]
  },
  {
   "cell_type": "code",
   "execution_count": 61,
   "metadata": {},
   "outputs": [],
   "source": [
    "# [print(country + ': ', countries[country]['population']*1e6 / countries[country]['area']) for country in countries];"
   ]
  },
  {
   "cell_type": "markdown",
   "metadata": {},
   "source": [
    "<a name='while'></a>\n",
    "### 3.4 `while` statements \n",
    "\n"
   ]
  },
  {
   "cell_type": "markdown",
   "metadata": {},
   "source": [
    "The `while` statements are used for iteration as long as the condition is `True`.\n",
    "\n",
    "```Python\n",
    "for condition:\n",
    "    do something\n",
    "```"
   ]
  },
  {
   "cell_type": "code",
   "execution_count": 62,
   "metadata": {},
   "outputs": [
    {
     "name": "stdout",
     "output_type": "stream",
     "text": [
      "a is: 1\n",
      "a is: 2\n",
      "a is: 4\n",
      "a is: 8\n",
      "a is: 16\n"
     ]
    }
   ],
   "source": [
    "\n",
    "a = 1\n",
    "while a < 25:\n",
    "    print('a is: {}'.format(a))\n",
    "    a *= 2"
   ]
  },
  {
   "cell_type": "markdown",
   "metadata": {},
   "source": [
    "### [TOP ☝️](#top)\n"
   ]
  }
 ],
 "metadata": {
  "celltoolbar": "Edit Metadata",
  "interpreter": {
   "hash": "ece4c4f9c4961c7468795d846fc72c6e00987d764e9134aaba41ea0514f48bf6"
  },
  "kernelspec": {
   "display_name": "Python 3 (ipykernel)",
   "language": "python",
   "name": "python3"
  },
  "language_info": {
   "codemirror_mode": {
    "name": "ipython",
    "version": 3
   },
   "file_extension": ".py",
   "mimetype": "text/x-python",
   "name": "python",
   "nbconvert_exporter": "python",
   "pygments_lexer": "ipython3",
   "version": "3.7.9"
  }
 },
 "nbformat": 4,
 "nbformat_minor": 2
}
